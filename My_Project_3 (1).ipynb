{
 "cells": [
  {
   "cell_type": "markdown",
   "id": "8d9951b6",
   "metadata": {},
   "source": [
    "# Personal Loan Campaign"
   ]
  },
  {
   "cell_type": "markdown",
   "id": "830e0261",
   "metadata": {},
   "source": [
    "## Background and Context\n",
    "\n",
    "AllLife Bank is a US bank that has a growing customer base. The majority of these customers are liability customers (depositors) with varying sizes of deposits. The number of customers who are also borrowers (asset customers) is quite small, and the bank is interested in expanding this base rapidly to bring in more loan business and in the process, earn more through the interest on loans. In particular, the management wants to explore ways of converting its liability customers to personal loan customers (while retaining them as depositors).\n",
    "\n",
    "A campaign that the bank ran last year for liability customers showed a healthy conversion rate of over 9% success. This has encouraged the retail marketing department to devise campaigns with better target marketing to increase the success ratio.\n",
    "\n",
    "As a Data scientist at AllLife bank, I have to build a model that will help the marketing department to identify the potential customers who have a higher probability of purchasing the loan."
   ]
  },
  {
   "cell_type": "markdown",
   "id": "3fc1c320",
   "metadata": {},
   "source": [
    "## Objective\n",
    "1. To predict whether a liability customer will buy a personal loan or not.\n",
    "2. Which variables are most significant.\n",
    "3. Which segment of customers should be targeted more."
   ]
  },
  {
   "cell_type": "markdown",
   "id": "d48686d3",
   "metadata": {},
   "source": [
    "## Data Information\n"
   ]
  },
  {
   "cell_type": "markdown",
   "id": "cd4f6b4b",
   "metadata": {},
   "source": [
    "**Data Dictionary**\n",
    "\n",
    "* ID: Customer ID\n",
    "* Age: Customer’s age in completed years\n",
    "* Experience: #years of professional experience\n",
    "* Income: Annual income of the customer (in thousand dollars)\n",
    "* ZIP Code: Home Address ZIP code.\n",
    "* Family: the Family size of the customer\n",
    "* CCAvg: Average spending on credit cards per month (in thousand dollars)\n",
    "* Education: Education Level. 1: Undergrad; 2: Graduate;3: Advanced/Professional\n",
    "* Mortgage: Value of house mortgage if any. (in thousand dollars)\n",
    "* Personal_Loan: Did this customer accept the personal loan offered in the last campaign?\n",
    "* Securities_Account: Does the customer have securities account with the bank?\n",
    "* CD_Account: Does the customer have a certificate of deposit (CD) account with the bank?\n",
    "* Online: Do customers use internet banking facilities?\n",
    "* CreditCard: Does the customer use a credit card issued by any other Bank (excluding All life Bank)?\n"
   ]
  },
  {
   "cell_type": "markdown",
   "id": "dec24f2c",
   "metadata": {},
   "source": [
    "# NECESSARY CODING"
   ]
  },
  {
   "cell_type": "markdown",
   "id": "ce087dd0",
   "metadata": {},
   "source": [
    "### 1.0 Import necessary libraries"
   ]
  },
  {
   "cell_type": "code",
   "execution_count": 46,
   "id": "9f6be8dc",
   "metadata": {},
   "outputs": [
    {
     "name": "stdout",
     "output_type": "stream",
     "text": [
      "The nb_black extension is already loaded. To reload it, use:\n",
      "  %reload_ext nb_black\n"
     ]
    },
    {
     "data": {
      "application/javascript": [
       "\n",
       "            setTimeout(function() {\n",
       "                var nbb_cell_id = 46;\n",
       "                var nbb_unformatted_code = \"# this will help in making the Python code more structured automatically (good coding practice)\\n%load_ext nb_black\\n\\n# Library to suppress warnings or deprecation notes\\nimport warnings\\n\\nwarnings.filterwarnings(\\\"ignore\\\")\\n\\n# Libraries to help with reading and manipulating data\\n\\nimport pandas as pd\\nimport numpy as np\\n\\n# Library to split data\\nfrom sklearn.model_selection import train_test_split\\n\\n# libaries to help with data visualization\\nimport matplotlib.pyplot as plt\\nimport seaborn as sns\\n\\n# Removes the limit for the number of displayed columns\\npd.set_option(\\\"display.max_columns\\\", None)\\n# Sets the limit for the number of displayed rows\\npd.set_option(\\\"display.max_rows\\\", 200)\\n\\n# Libraries to build decision tree classifier\\nfrom sklearn.tree import DecisionTreeClassifier\\nfrom sklearn import tree\\n\\n# To build model for prediction\\n\\nfrom sklearn.linear_model import LogisticRegression\\n\\n# To get diferent metric scores\\n# To get diferent metric scores\\n\\n\\n# To tune different models\\nfrom sklearn.model_selection import GridSearchCV\\n\\nfrom sklearn.metrics import (\\n    f1_score,\\n    accuracy_score,\\n    recall_score,\\n    precision_score,\\n    confusion_matrix,\\n    roc_auc_score,\\n    plot_confusion_matrix,\\n    precision_recall_curve,\\n    roc_curve,\\n)\";\n",
       "                var nbb_formatted_code = \"# this will help in making the Python code more structured automatically (good coding practice)\\n%load_ext nb_black\\n\\n# Library to suppress warnings or deprecation notes\\nimport warnings\\n\\nwarnings.filterwarnings(\\\"ignore\\\")\\n\\n# Libraries to help with reading and manipulating data\\n\\nimport pandas as pd\\nimport numpy as np\\n\\n# Library to split data\\nfrom sklearn.model_selection import train_test_split\\n\\n# libaries to help with data visualization\\nimport matplotlib.pyplot as plt\\nimport seaborn as sns\\n\\n# Removes the limit for the number of displayed columns\\npd.set_option(\\\"display.max_columns\\\", None)\\n# Sets the limit for the number of displayed rows\\npd.set_option(\\\"display.max_rows\\\", 200)\\n\\n# Libraries to build decision tree classifier\\nfrom sklearn.tree import DecisionTreeClassifier\\nfrom sklearn import tree\\n\\n# To build model for prediction\\n\\nfrom sklearn.linear_model import LogisticRegression\\n\\n# To get diferent metric scores\\n# To get diferent metric scores\\n\\n\\n# To tune different models\\nfrom sklearn.model_selection import GridSearchCV\\n\\nfrom sklearn.metrics import (\\n    f1_score,\\n    accuracy_score,\\n    recall_score,\\n    precision_score,\\n    confusion_matrix,\\n    roc_auc_score,\\n    plot_confusion_matrix,\\n    precision_recall_curve,\\n    roc_curve,\\n)\";\n",
       "                var nbb_cells = Jupyter.notebook.get_cells();\n",
       "                for (var i = 0; i < nbb_cells.length; ++i) {\n",
       "                    if (nbb_cells[i].input_prompt_number == nbb_cell_id) {\n",
       "                        if (nbb_cells[i].get_text() == nbb_unformatted_code) {\n",
       "                             nbb_cells[i].set_text(nbb_formatted_code);\n",
       "                        }\n",
       "                        break;\n",
       "                    }\n",
       "                }\n",
       "            }, 500);\n",
       "            "
      ],
      "text/plain": [
       "<IPython.core.display.Javascript object>"
      ]
     },
     "metadata": {},
     "output_type": "display_data"
    }
   ],
   "source": [
    "# this will help in making the Python code more structured automatically (good coding practice)\n",
    "%load_ext nb_black\n",
    "\n",
    "# Library to suppress warnings or deprecation notes\n",
    "import warnings\n",
    "\n",
    "warnings.filterwarnings(\"ignore\")\n",
    "\n",
    "# Libraries to help with reading and manipulating data\n",
    "\n",
    "import pandas as pd\n",
    "import numpy as np\n",
    "\n",
    "# Library to split data\n",
    "from sklearn.model_selection import train_test_split\n",
    "\n",
    "# libaries to help with data visualization\n",
    "import matplotlib.pyplot as plt\n",
    "import seaborn as sns\n",
    "\n",
    "# Removes the limit for the number of displayed columns\n",
    "pd.set_option(\"display.max_columns\", None)\n",
    "# Sets the limit for the number of displayed rows\n",
    "pd.set_option(\"display.max_rows\", 200)\n",
    "\n",
    "# Libraries to build decision tree classifier\n",
    "from sklearn.tree import DecisionTreeClassifier\n",
    "from sklearn import tree\n",
    "\n",
    "# To build model for prediction\n",
    "\n",
    "from sklearn.linear_model import LogisticRegression\n",
    "\n",
    "# To get diferent metric scores\n",
    "# To get diferent metric scores\n",
    "\n",
    "\n",
    "# To tune different models\n",
    "from sklearn.model_selection import GridSearchCV\n",
    "\n",
    "from sklearn.metrics import (\n",
    "    f1_score,\n",
    "    accuracy_score,\n",
    "    recall_score,\n",
    "    precision_score,\n",
    "    confusion_matrix,\n",
    "    roc_auc_score,\n",
    "    plot_confusion_matrix,\n",
    "    precision_recall_curve,\n",
    "    roc_curve,\n",
    ")"
   ]
  },
  {
   "cell_type": "markdown",
   "id": "91e06e2a",
   "metadata": {},
   "source": [
    "### 1.1 Load the dataset\n",
    "The dataset containing the different attributes of used cars sold in different locations is contained in the file titled \"anime_data_raw.csv\" in my particular directory."
   ]
  },
  {
   "cell_type": "code",
   "execution_count": 47,
   "id": "cdfcb804",
   "metadata": {},
   "outputs": [
    {
     "data": {
      "application/javascript": [
       "\n",
       "            setTimeout(function() {\n",
       "                var nbb_cell_id = 47;\n",
       "                var nbb_unformatted_code = \"# loading the dataset\\nmy_dataset = pd.read_csv(\\\"Loan_Modelling.csv\\\")\";\n",
       "                var nbb_formatted_code = \"# loading the dataset\\nmy_dataset = pd.read_csv(\\\"Loan_Modelling.csv\\\")\";\n",
       "                var nbb_cells = Jupyter.notebook.get_cells();\n",
       "                for (var i = 0; i < nbb_cells.length; ++i) {\n",
       "                    if (nbb_cells[i].input_prompt_number == nbb_cell_id) {\n",
       "                        if (nbb_cells[i].get_text() == nbb_unformatted_code) {\n",
       "                             nbb_cells[i].set_text(nbb_formatted_code);\n",
       "                        }\n",
       "                        break;\n",
       "                    }\n",
       "                }\n",
       "            }, 500);\n",
       "            "
      ],
      "text/plain": [
       "<IPython.core.display.Javascript object>"
      ]
     },
     "metadata": {},
     "output_type": "display_data"
    }
   ],
   "source": [
    "# loading the dataset\n",
    "my_dataset = pd.read_csv(\"Loan_Modelling.csv\")\n"
   ]
  },
  {
   "cell_type": "code",
   "execution_count": 48,
   "id": "f914b4c7",
   "metadata": {},
   "outputs": [
    {
     "data": {
      "application/javascript": [
       "\n",
       "            setTimeout(function() {\n",
       "                var nbb_cell_id = 48;\n",
       "                var nbb_unformatted_code = \"# copying data to another varaible to avoid any changes to original data\\ndata = my_dataset.copy()\";\n",
       "                var nbb_formatted_code = \"# copying data to another varaible to avoid any changes to original data\\ndata = my_dataset.copy()\";\n",
       "                var nbb_cells = Jupyter.notebook.get_cells();\n",
       "                for (var i = 0; i < nbb_cells.length; ++i) {\n",
       "                    if (nbb_cells[i].input_prompt_number == nbb_cell_id) {\n",
       "                        if (nbb_cells[i].get_text() == nbb_unformatted_code) {\n",
       "                             nbb_cells[i].set_text(nbb_formatted_code);\n",
       "                        }\n",
       "                        break;\n",
       "                    }\n",
       "                }\n",
       "            }, 500);\n",
       "            "
      ],
      "text/plain": [
       "<IPython.core.display.Javascript object>"
      ]
     },
     "metadata": {},
     "output_type": "display_data"
    }
   ],
   "source": [
    "# copying data to another varaible to avoid any changes to original data\n",
    "data = my_dataset.copy()"
   ]
  },
  {
   "cell_type": "markdown",
   "id": "0c89421c",
   "metadata": {},
   "source": [
    "### 1.2 Check out the shape of the dataset"
   ]
  },
  {
   "cell_type": "code",
   "execution_count": 49,
   "id": "947044ca",
   "metadata": {},
   "outputs": [
    {
     "name": "stdout",
     "output_type": "stream",
     "text": [
      "The dataset contains 5000 rows and 14 columns.\n"
     ]
    },
    {
     "data": {
      "application/javascript": [
       "\n",
       "            setTimeout(function() {\n",
       "                var nbb_cell_id = 49;\n",
       "                var nbb_unformatted_code = \"print(f\\\"The dataset contains {data.shape[0]} rows and {data.shape[1]} columns.\\\")\";\n",
       "                var nbb_formatted_code = \"print(f\\\"The dataset contains {data.shape[0]} rows and {data.shape[1]} columns.\\\")\";\n",
       "                var nbb_cells = Jupyter.notebook.get_cells();\n",
       "                for (var i = 0; i < nbb_cells.length; ++i) {\n",
       "                    if (nbb_cells[i].input_prompt_number == nbb_cell_id) {\n",
       "                        if (nbb_cells[i].get_text() == nbb_unformatted_code) {\n",
       "                             nbb_cells[i].set_text(nbb_formatted_code);\n",
       "                        }\n",
       "                        break;\n",
       "                    }\n",
       "                }\n",
       "            }, 500);\n",
       "            "
      ],
      "text/plain": [
       "<IPython.core.display.Javascript object>"
      ]
     },
     "metadata": {},
     "output_type": "display_data"
    }
   ],
   "source": [
    "print(f\"The dataset contains {data.shape[0]} rows and {data.shape[1]} columns.\")"
   ]
  },
  {
   "cell_type": "code",
   "execution_count": 50,
   "id": "5fe63eab",
   "metadata": {},
   "outputs": [
    {
     "data": {
      "application/javascript": [
       "\n",
       "            setTimeout(function() {\n",
       "                var nbb_cell_id = 50;\n",
       "                var nbb_unformatted_code = \"data.drop([\\\"ID\\\"], axis=1, inplace=True)\";\n",
       "                var nbb_formatted_code = \"data.drop([\\\"ID\\\"], axis=1, inplace=True)\";\n",
       "                var nbb_cells = Jupyter.notebook.get_cells();\n",
       "                for (var i = 0; i < nbb_cells.length; ++i) {\n",
       "                    if (nbb_cells[i].input_prompt_number == nbb_cell_id) {\n",
       "                        if (nbb_cells[i].get_text() == nbb_unformatted_code) {\n",
       "                             nbb_cells[i].set_text(nbb_formatted_code);\n",
       "                        }\n",
       "                        break;\n",
       "                    }\n",
       "                }\n",
       "            }, 500);\n",
       "            "
      ],
      "text/plain": [
       "<IPython.core.display.Javascript object>"
      ]
     },
     "metadata": {},
     "output_type": "display_data"
    }
   ],
   "source": [
    "data.drop([\"ID\"], axis=1, inplace=True)"
   ]
  },
  {
   "cell_type": "markdown",
   "id": "fa9e1642",
   "metadata": {},
   "source": [
    "# There are 3 steps in Data Preprocessing:\n",
    "\n",
    "# STEP A :Data format checking:\n",
    "- Data Dimensioning\n",
    "- checking the Data types"
   ]
  },
  {
   "cell_type": "markdown",
   "id": "b1d2430a",
   "metadata": {},
   "source": [
    "### 1.3A Checking the length of the dataset ()"
   ]
  },
  {
   "cell_type": "code",
   "execution_count": 51,
   "id": "65845210",
   "metadata": {},
   "outputs": [
    {
     "data": {
      "text/plain": [
       "5000"
      ]
     },
     "execution_count": 51,
     "metadata": {},
     "output_type": "execute_result"
    },
    {
     "data": {
      "application/javascript": [
       "\n",
       "            setTimeout(function() {\n",
       "                var nbb_cell_id = 51;\n",
       "                var nbb_unformatted_code = \"len(data)\";\n",
       "                var nbb_formatted_code = \"len(data)\";\n",
       "                var nbb_cells = Jupyter.notebook.get_cells();\n",
       "                for (var i = 0; i < nbb_cells.length; ++i) {\n",
       "                    if (nbb_cells[i].input_prompt_number == nbb_cell_id) {\n",
       "                        if (nbb_cells[i].get_text() == nbb_unformatted_code) {\n",
       "                             nbb_cells[i].set_text(nbb_formatted_code);\n",
       "                        }\n",
       "                        break;\n",
       "                    }\n",
       "                }\n",
       "            }, 500);\n",
       "            "
      ],
      "text/plain": [
       "<IPython.core.display.Javascript object>"
      ]
     },
     "metadata": {},
     "output_type": "display_data"
    }
   ],
   "source": [
    "len(data)"
   ]
  },
  {
   "cell_type": "markdown",
   "id": "6f0cfdc7",
   "metadata": {},
   "source": [
    "### 1.4A To view first 5 rows of the dataset"
   ]
  },
  {
   "cell_type": "code",
   "execution_count": 52,
   "id": "c66a3829",
   "metadata": {},
   "outputs": [
    {
     "data": {
      "text/html": [
       "<div>\n",
       "<style scoped>\n",
       "    .dataframe tbody tr th:only-of-type {\n",
       "        vertical-align: middle;\n",
       "    }\n",
       "\n",
       "    .dataframe tbody tr th {\n",
       "        vertical-align: top;\n",
       "    }\n",
       "\n",
       "    .dataframe thead th {\n",
       "        text-align: right;\n",
       "    }\n",
       "</style>\n",
       "<table border=\"1\" class=\"dataframe\">\n",
       "  <thead>\n",
       "    <tr style=\"text-align: right;\">\n",
       "      <th></th>\n",
       "      <th>Age</th>\n",
       "      <th>Experience</th>\n",
       "      <th>Income</th>\n",
       "      <th>ZIPCode</th>\n",
       "      <th>Family</th>\n",
       "      <th>CCAvg</th>\n",
       "      <th>Education</th>\n",
       "      <th>Mortgage</th>\n",
       "      <th>Personal_Loan</th>\n",
       "      <th>Securities_Account</th>\n",
       "      <th>CD_Account</th>\n",
       "      <th>Online</th>\n",
       "      <th>CreditCard</th>\n",
       "    </tr>\n",
       "  </thead>\n",
       "  <tbody>\n",
       "    <tr>\n",
       "      <th>0</th>\n",
       "      <td>25</td>\n",
       "      <td>1</td>\n",
       "      <td>49</td>\n",
       "      <td>91107</td>\n",
       "      <td>4</td>\n",
       "      <td>1.6</td>\n",
       "      <td>1</td>\n",
       "      <td>0</td>\n",
       "      <td>0</td>\n",
       "      <td>1</td>\n",
       "      <td>0</td>\n",
       "      <td>0</td>\n",
       "      <td>0</td>\n",
       "    </tr>\n",
       "    <tr>\n",
       "      <th>1</th>\n",
       "      <td>45</td>\n",
       "      <td>19</td>\n",
       "      <td>34</td>\n",
       "      <td>90089</td>\n",
       "      <td>3</td>\n",
       "      <td>1.5</td>\n",
       "      <td>1</td>\n",
       "      <td>0</td>\n",
       "      <td>0</td>\n",
       "      <td>1</td>\n",
       "      <td>0</td>\n",
       "      <td>0</td>\n",
       "      <td>0</td>\n",
       "    </tr>\n",
       "    <tr>\n",
       "      <th>2</th>\n",
       "      <td>39</td>\n",
       "      <td>15</td>\n",
       "      <td>11</td>\n",
       "      <td>94720</td>\n",
       "      <td>1</td>\n",
       "      <td>1.0</td>\n",
       "      <td>1</td>\n",
       "      <td>0</td>\n",
       "      <td>0</td>\n",
       "      <td>0</td>\n",
       "      <td>0</td>\n",
       "      <td>0</td>\n",
       "      <td>0</td>\n",
       "    </tr>\n",
       "    <tr>\n",
       "      <th>3</th>\n",
       "      <td>35</td>\n",
       "      <td>9</td>\n",
       "      <td>100</td>\n",
       "      <td>94112</td>\n",
       "      <td>1</td>\n",
       "      <td>2.7</td>\n",
       "      <td>2</td>\n",
       "      <td>0</td>\n",
       "      <td>0</td>\n",
       "      <td>0</td>\n",
       "      <td>0</td>\n",
       "      <td>0</td>\n",
       "      <td>0</td>\n",
       "    </tr>\n",
       "    <tr>\n",
       "      <th>4</th>\n",
       "      <td>35</td>\n",
       "      <td>8</td>\n",
       "      <td>45</td>\n",
       "      <td>91330</td>\n",
       "      <td>4</td>\n",
       "      <td>1.0</td>\n",
       "      <td>2</td>\n",
       "      <td>0</td>\n",
       "      <td>0</td>\n",
       "      <td>0</td>\n",
       "      <td>0</td>\n",
       "      <td>0</td>\n",
       "      <td>1</td>\n",
       "    </tr>\n",
       "  </tbody>\n",
       "</table>\n",
       "</div>"
      ],
      "text/plain": [
       "   Age  Experience  Income  ZIPCode  Family  CCAvg  Education  Mortgage  \\\n",
       "0   25           1      49    91107       4    1.6          1         0   \n",
       "1   45          19      34    90089       3    1.5          1         0   \n",
       "2   39          15      11    94720       1    1.0          1         0   \n",
       "3   35           9     100    94112       1    2.7          2         0   \n",
       "4   35           8      45    91330       4    1.0          2         0   \n",
       "\n",
       "   Personal_Loan  Securities_Account  CD_Account  Online  CreditCard  \n",
       "0              0                   1           0       0           0  \n",
       "1              0                   1           0       0           0  \n",
       "2              0                   0           0       0           0  \n",
       "3              0                   0           0       0           0  \n",
       "4              0                   0           0       0           1  "
      ]
     },
     "execution_count": 52,
     "metadata": {},
     "output_type": "execute_result"
    },
    {
     "data": {
      "application/javascript": [
       "\n",
       "            setTimeout(function() {\n",
       "                var nbb_cell_id = 52;\n",
       "                var nbb_unformatted_code = \"data.head()\";\n",
       "                var nbb_formatted_code = \"data.head()\";\n",
       "                var nbb_cells = Jupyter.notebook.get_cells();\n",
       "                for (var i = 0; i < nbb_cells.length; ++i) {\n",
       "                    if (nbb_cells[i].input_prompt_number == nbb_cell_id) {\n",
       "                        if (nbb_cells[i].get_text() == nbb_unformatted_code) {\n",
       "                             nbb_cells[i].set_text(nbb_formatted_code);\n",
       "                        }\n",
       "                        break;\n",
       "                    }\n",
       "                }\n",
       "            }, 500);\n",
       "            "
      ],
      "text/plain": [
       "<IPython.core.display.Javascript object>"
      ]
     },
     "metadata": {},
     "output_type": "display_data"
    }
   ],
   "source": [
    "data.head()"
   ]
  },
  {
   "cell_type": "markdown",
   "id": "cecbadfe",
   "metadata": {},
   "source": [
    "### 1.5A To view the last 5 rows of the dataset"
   ]
  },
  {
   "cell_type": "code",
   "execution_count": 53,
   "id": "42e61582",
   "metadata": {},
   "outputs": [
    {
     "data": {
      "text/html": [
       "<div>\n",
       "<style scoped>\n",
       "    .dataframe tbody tr th:only-of-type {\n",
       "        vertical-align: middle;\n",
       "    }\n",
       "\n",
       "    .dataframe tbody tr th {\n",
       "        vertical-align: top;\n",
       "    }\n",
       "\n",
       "    .dataframe thead th {\n",
       "        text-align: right;\n",
       "    }\n",
       "</style>\n",
       "<table border=\"1\" class=\"dataframe\">\n",
       "  <thead>\n",
       "    <tr style=\"text-align: right;\">\n",
       "      <th></th>\n",
       "      <th>Age</th>\n",
       "      <th>Experience</th>\n",
       "      <th>Income</th>\n",
       "      <th>ZIPCode</th>\n",
       "      <th>Family</th>\n",
       "      <th>CCAvg</th>\n",
       "      <th>Education</th>\n",
       "      <th>Mortgage</th>\n",
       "      <th>Personal_Loan</th>\n",
       "      <th>Securities_Account</th>\n",
       "      <th>CD_Account</th>\n",
       "      <th>Online</th>\n",
       "      <th>CreditCard</th>\n",
       "    </tr>\n",
       "  </thead>\n",
       "  <tbody>\n",
       "    <tr>\n",
       "      <th>4995</th>\n",
       "      <td>29</td>\n",
       "      <td>3</td>\n",
       "      <td>40</td>\n",
       "      <td>92697</td>\n",
       "      <td>1</td>\n",
       "      <td>1.9</td>\n",
       "      <td>3</td>\n",
       "      <td>0</td>\n",
       "      <td>0</td>\n",
       "      <td>0</td>\n",
       "      <td>0</td>\n",
       "      <td>1</td>\n",
       "      <td>0</td>\n",
       "    </tr>\n",
       "    <tr>\n",
       "      <th>4996</th>\n",
       "      <td>30</td>\n",
       "      <td>4</td>\n",
       "      <td>15</td>\n",
       "      <td>92037</td>\n",
       "      <td>4</td>\n",
       "      <td>0.4</td>\n",
       "      <td>1</td>\n",
       "      <td>85</td>\n",
       "      <td>0</td>\n",
       "      <td>0</td>\n",
       "      <td>0</td>\n",
       "      <td>1</td>\n",
       "      <td>0</td>\n",
       "    </tr>\n",
       "    <tr>\n",
       "      <th>4997</th>\n",
       "      <td>63</td>\n",
       "      <td>39</td>\n",
       "      <td>24</td>\n",
       "      <td>93023</td>\n",
       "      <td>2</td>\n",
       "      <td>0.3</td>\n",
       "      <td>3</td>\n",
       "      <td>0</td>\n",
       "      <td>0</td>\n",
       "      <td>0</td>\n",
       "      <td>0</td>\n",
       "      <td>0</td>\n",
       "      <td>0</td>\n",
       "    </tr>\n",
       "    <tr>\n",
       "      <th>4998</th>\n",
       "      <td>65</td>\n",
       "      <td>40</td>\n",
       "      <td>49</td>\n",
       "      <td>90034</td>\n",
       "      <td>3</td>\n",
       "      <td>0.5</td>\n",
       "      <td>2</td>\n",
       "      <td>0</td>\n",
       "      <td>0</td>\n",
       "      <td>0</td>\n",
       "      <td>0</td>\n",
       "      <td>1</td>\n",
       "      <td>0</td>\n",
       "    </tr>\n",
       "    <tr>\n",
       "      <th>4999</th>\n",
       "      <td>28</td>\n",
       "      <td>4</td>\n",
       "      <td>83</td>\n",
       "      <td>92612</td>\n",
       "      <td>3</td>\n",
       "      <td>0.8</td>\n",
       "      <td>1</td>\n",
       "      <td>0</td>\n",
       "      <td>0</td>\n",
       "      <td>0</td>\n",
       "      <td>0</td>\n",
       "      <td>1</td>\n",
       "      <td>1</td>\n",
       "    </tr>\n",
       "  </tbody>\n",
       "</table>\n",
       "</div>"
      ],
      "text/plain": [
       "      Age  Experience  Income  ZIPCode  Family  CCAvg  Education  Mortgage  \\\n",
       "4995   29           3      40    92697       1    1.9          3         0   \n",
       "4996   30           4      15    92037       4    0.4          1        85   \n",
       "4997   63          39      24    93023       2    0.3          3         0   \n",
       "4998   65          40      49    90034       3    0.5          2         0   \n",
       "4999   28           4      83    92612       3    0.8          1         0   \n",
       "\n",
       "      Personal_Loan  Securities_Account  CD_Account  Online  CreditCard  \n",
       "4995              0                   0           0       1           0  \n",
       "4996              0                   0           0       1           0  \n",
       "4997              0                   0           0       0           0  \n",
       "4998              0                   0           0       1           0  \n",
       "4999              0                   0           0       1           1  "
      ]
     },
     "execution_count": 53,
     "metadata": {},
     "output_type": "execute_result"
    },
    {
     "data": {
      "application/javascript": [
       "\n",
       "            setTimeout(function() {\n",
       "                var nbb_cell_id = 53;\n",
       "                var nbb_unformatted_code = \"data.tail()\";\n",
       "                var nbb_formatted_code = \"data.tail()\";\n",
       "                var nbb_cells = Jupyter.notebook.get_cells();\n",
       "                for (var i = 0; i < nbb_cells.length; ++i) {\n",
       "                    if (nbb_cells[i].input_prompt_number == nbb_cell_id) {\n",
       "                        if (nbb_cells[i].get_text() == nbb_unformatted_code) {\n",
       "                             nbb_cells[i].set_text(nbb_formatted_code);\n",
       "                        }\n",
       "                        break;\n",
       "                    }\n",
       "                }\n",
       "            }, 500);\n",
       "            "
      ],
      "text/plain": [
       "<IPython.core.display.Javascript object>"
      ]
     },
     "metadata": {},
     "output_type": "display_data"
    }
   ],
   "source": [
    "data.tail()"
   ]
  },
  {
   "cell_type": "markdown",
   "id": "dcb14172",
   "metadata": {},
   "source": [
    "### 1.6A To view 10 samples of the dataset"
   ]
  },
  {
   "cell_type": "code",
   "execution_count": 54,
   "id": "27b8a620",
   "metadata": {
    "scrolled": false
   },
   "outputs": [
    {
     "data": {
      "text/html": [
       "<div>\n",
       "<style scoped>\n",
       "    .dataframe tbody tr th:only-of-type {\n",
       "        vertical-align: middle;\n",
       "    }\n",
       "\n",
       "    .dataframe tbody tr th {\n",
       "        vertical-align: top;\n",
       "    }\n",
       "\n",
       "    .dataframe thead th {\n",
       "        text-align: right;\n",
       "    }\n",
       "</style>\n",
       "<table border=\"1\" class=\"dataframe\">\n",
       "  <thead>\n",
       "    <tr style=\"text-align: right;\">\n",
       "      <th></th>\n",
       "      <th>Age</th>\n",
       "      <th>Experience</th>\n",
       "      <th>Income</th>\n",
       "      <th>ZIPCode</th>\n",
       "      <th>Family</th>\n",
       "      <th>CCAvg</th>\n",
       "      <th>Education</th>\n",
       "      <th>Mortgage</th>\n",
       "      <th>Personal_Loan</th>\n",
       "      <th>Securities_Account</th>\n",
       "      <th>CD_Account</th>\n",
       "      <th>Online</th>\n",
       "      <th>CreditCard</th>\n",
       "    </tr>\n",
       "  </thead>\n",
       "  <tbody>\n",
       "    <tr>\n",
       "      <th>3566</th>\n",
       "      <td>57</td>\n",
       "      <td>33</td>\n",
       "      <td>80</td>\n",
       "      <td>92064</td>\n",
       "      <td>2</td>\n",
       "      <td>2.8</td>\n",
       "      <td>1</td>\n",
       "      <td>0</td>\n",
       "      <td>0</td>\n",
       "      <td>0</td>\n",
       "      <td>0</td>\n",
       "      <td>1</td>\n",
       "      <td>1</td>\n",
       "    </tr>\n",
       "    <tr>\n",
       "      <th>4252</th>\n",
       "      <td>54</td>\n",
       "      <td>29</td>\n",
       "      <td>81</td>\n",
       "      <td>91107</td>\n",
       "      <td>1</td>\n",
       "      <td>0.1</td>\n",
       "      <td>3</td>\n",
       "      <td>0</td>\n",
       "      <td>0</td>\n",
       "      <td>0</td>\n",
       "      <td>0</td>\n",
       "      <td>0</td>\n",
       "      <td>0</td>\n",
       "    </tr>\n",
       "    <tr>\n",
       "      <th>1918</th>\n",
       "      <td>39</td>\n",
       "      <td>9</td>\n",
       "      <td>118</td>\n",
       "      <td>93555</td>\n",
       "      <td>2</td>\n",
       "      <td>6.0</td>\n",
       "      <td>3</td>\n",
       "      <td>246</td>\n",
       "      <td>1</td>\n",
       "      <td>0</td>\n",
       "      <td>1</td>\n",
       "      <td>1</td>\n",
       "      <td>1</td>\n",
       "    </tr>\n",
       "    <tr>\n",
       "      <th>4111</th>\n",
       "      <td>43</td>\n",
       "      <td>17</td>\n",
       "      <td>21</td>\n",
       "      <td>95351</td>\n",
       "      <td>3</td>\n",
       "      <td>1.5</td>\n",
       "      <td>1</td>\n",
       "      <td>0</td>\n",
       "      <td>0</td>\n",
       "      <td>0</td>\n",
       "      <td>0</td>\n",
       "      <td>0</td>\n",
       "      <td>0</td>\n",
       "    </tr>\n",
       "    <tr>\n",
       "      <th>1471</th>\n",
       "      <td>52</td>\n",
       "      <td>26</td>\n",
       "      <td>180</td>\n",
       "      <td>94305</td>\n",
       "      <td>1</td>\n",
       "      <td>1.0</td>\n",
       "      <td>1</td>\n",
       "      <td>0</td>\n",
       "      <td>0</td>\n",
       "      <td>0</td>\n",
       "      <td>0</td>\n",
       "      <td>1</td>\n",
       "      <td>1</td>\n",
       "    </tr>\n",
       "    <tr>\n",
       "      <th>929</th>\n",
       "      <td>55</td>\n",
       "      <td>30</td>\n",
       "      <td>22</td>\n",
       "      <td>92121</td>\n",
       "      <td>1</td>\n",
       "      <td>1.5</td>\n",
       "      <td>2</td>\n",
       "      <td>91</td>\n",
       "      <td>0</td>\n",
       "      <td>0</td>\n",
       "      <td>0</td>\n",
       "      <td>0</td>\n",
       "      <td>1</td>\n",
       "    </tr>\n",
       "    <tr>\n",
       "      <th>1916</th>\n",
       "      <td>57</td>\n",
       "      <td>32</td>\n",
       "      <td>64</td>\n",
       "      <td>95138</td>\n",
       "      <td>3</td>\n",
       "      <td>1.6</td>\n",
       "      <td>3</td>\n",
       "      <td>0</td>\n",
       "      <td>0</td>\n",
       "      <td>0</td>\n",
       "      <td>0</td>\n",
       "      <td>1</td>\n",
       "      <td>0</td>\n",
       "    </tr>\n",
       "    <tr>\n",
       "      <th>3995</th>\n",
       "      <td>53</td>\n",
       "      <td>28</td>\n",
       "      <td>34</td>\n",
       "      <td>92697</td>\n",
       "      <td>2</td>\n",
       "      <td>0.6</td>\n",
       "      <td>3</td>\n",
       "      <td>0</td>\n",
       "      <td>0</td>\n",
       "      <td>0</td>\n",
       "      <td>0</td>\n",
       "      <td>1</td>\n",
       "      <td>1</td>\n",
       "    </tr>\n",
       "    <tr>\n",
       "      <th>1130</th>\n",
       "      <td>58</td>\n",
       "      <td>32</td>\n",
       "      <td>191</td>\n",
       "      <td>94402</td>\n",
       "      <td>1</td>\n",
       "      <td>2.9</td>\n",
       "      <td>1</td>\n",
       "      <td>0</td>\n",
       "      <td>0</td>\n",
       "      <td>0</td>\n",
       "      <td>0</td>\n",
       "      <td>0</td>\n",
       "      <td>0</td>\n",
       "    </tr>\n",
       "    <tr>\n",
       "      <th>1723</th>\n",
       "      <td>39</td>\n",
       "      <td>15</td>\n",
       "      <td>55</td>\n",
       "      <td>95821</td>\n",
       "      <td>1</td>\n",
       "      <td>1.5</td>\n",
       "      <td>3</td>\n",
       "      <td>0</td>\n",
       "      <td>0</td>\n",
       "      <td>0</td>\n",
       "      <td>0</td>\n",
       "      <td>1</td>\n",
       "      <td>0</td>\n",
       "    </tr>\n",
       "  </tbody>\n",
       "</table>\n",
       "</div>"
      ],
      "text/plain": [
       "      Age  Experience  Income  ZIPCode  Family  CCAvg  Education  Mortgage  \\\n",
       "3566   57          33      80    92064       2    2.8          1         0   \n",
       "4252   54          29      81    91107       1    0.1          3         0   \n",
       "1918   39           9     118    93555       2    6.0          3       246   \n",
       "4111   43          17      21    95351       3    1.5          1         0   \n",
       "1471   52          26     180    94305       1    1.0          1         0   \n",
       "929    55          30      22    92121       1    1.5          2        91   \n",
       "1916   57          32      64    95138       3    1.6          3         0   \n",
       "3995   53          28      34    92697       2    0.6          3         0   \n",
       "1130   58          32     191    94402       1    2.9          1         0   \n",
       "1723   39          15      55    95821       1    1.5          3         0   \n",
       "\n",
       "      Personal_Loan  Securities_Account  CD_Account  Online  CreditCard  \n",
       "3566              0                   0           0       1           1  \n",
       "4252              0                   0           0       0           0  \n",
       "1918              1                   0           1       1           1  \n",
       "4111              0                   0           0       0           0  \n",
       "1471              0                   0           0       1           1  \n",
       "929               0                   0           0       0           1  \n",
       "1916              0                   0           0       1           0  \n",
       "3995              0                   0           0       1           1  \n",
       "1130              0                   0           0       0           0  \n",
       "1723              0                   0           0       1           0  "
      ]
     },
     "execution_count": 54,
     "metadata": {},
     "output_type": "execute_result"
    },
    {
     "data": {
      "application/javascript": [
       "\n",
       "            setTimeout(function() {\n",
       "                var nbb_cell_id = 54;\n",
       "                var nbb_unformatted_code = \"# let's view a sample of the data\\ndata.sample(\\n    10, random_state=2\\n)  # setting the random_state will ensure we get the same results every time\";\n",
       "                var nbb_formatted_code = \"# let's view a sample of the data\\ndata.sample(\\n    10, random_state=2\\n)  # setting the random_state will ensure we get the same results every time\";\n",
       "                var nbb_cells = Jupyter.notebook.get_cells();\n",
       "                for (var i = 0; i < nbb_cells.length; ++i) {\n",
       "                    if (nbb_cells[i].input_prompt_number == nbb_cell_id) {\n",
       "                        if (nbb_cells[i].get_text() == nbb_unformatted_code) {\n",
       "                             nbb_cells[i].set_text(nbb_formatted_code);\n",
       "                        }\n",
       "                        break;\n",
       "                    }\n",
       "                }\n",
       "            }, 500);\n",
       "            "
      ],
      "text/plain": [
       "<IPython.core.display.Javascript object>"
      ]
     },
     "metadata": {},
     "output_type": "display_data"
    }
   ],
   "source": [
    "# let's view a sample of the data\n",
    "data.sample(\n",
    "    10, random_state=2\n",
    ")  # setting the random_state will ensure we get the same results every time"
   ]
  },
  {
   "cell_type": "markdown",
   "id": "ac1f6903",
   "metadata": {},
   "source": [
    "### 1.7A checking the names of the columns in the data"
   ]
  },
  {
   "cell_type": "code",
   "execution_count": 55,
   "id": "ab26a0ca",
   "metadata": {},
   "outputs": [
    {
     "name": "stdout",
     "output_type": "stream",
     "text": [
      "Index(['Age', 'Experience', 'Income', 'ZIPCode', 'Family', 'CCAvg',\n",
      "       'Education', 'Mortgage', 'Personal_Loan', 'Securities_Account',\n",
      "       'CD_Account', 'Online', 'CreditCard'],\n",
      "      dtype='object')\n"
     ]
    },
    {
     "data": {
      "application/javascript": [
       "\n",
       "            setTimeout(function() {\n",
       "                var nbb_cell_id = 55;\n",
       "                var nbb_unformatted_code = \"print(data.columns)\";\n",
       "                var nbb_formatted_code = \"print(data.columns)\";\n",
       "                var nbb_cells = Jupyter.notebook.get_cells();\n",
       "                for (var i = 0; i < nbb_cells.length; ++i) {\n",
       "                    if (nbb_cells[i].input_prompt_number == nbb_cell_id) {\n",
       "                        if (nbb_cells[i].get_text() == nbb_unformatted_code) {\n",
       "                             nbb_cells[i].set_text(nbb_formatted_code);\n",
       "                        }\n",
       "                        break;\n",
       "                    }\n",
       "                }\n",
       "            }, 500);\n",
       "            "
      ],
      "text/plain": [
       "<IPython.core.display.Javascript object>"
      ]
     },
     "metadata": {},
     "output_type": "display_data"
    }
   ],
   "source": [
    "print(data.columns)"
   ]
  },
  {
   "cell_type": "markdown",
   "id": "1179f9a3",
   "metadata": {},
   "source": [
    "### 1.8A checking column datatypes and number of non-null values"
   ]
  },
  {
   "cell_type": "code",
   "execution_count": 56,
   "id": "3198a82b",
   "metadata": {
    "scrolled": false
   },
   "outputs": [
    {
     "name": "stdout",
     "output_type": "stream",
     "text": [
      "<class 'pandas.core.frame.DataFrame'>\n",
      "RangeIndex: 5000 entries, 0 to 4999\n",
      "Data columns (total 13 columns):\n",
      " #   Column              Non-Null Count  Dtype  \n",
      "---  ------              --------------  -----  \n",
      " 0   Age                 5000 non-null   int64  \n",
      " 1   Experience          5000 non-null   int64  \n",
      " 2   Income              5000 non-null   int64  \n",
      " 3   ZIPCode             5000 non-null   int64  \n",
      " 4   Family              5000 non-null   int64  \n",
      " 5   CCAvg               5000 non-null   float64\n",
      " 6   Education           5000 non-null   int64  \n",
      " 7   Mortgage            5000 non-null   int64  \n",
      " 8   Personal_Loan       5000 non-null   int64  \n",
      " 9   Securities_Account  5000 non-null   int64  \n",
      " 10  CD_Account          5000 non-null   int64  \n",
      " 11  Online              5000 non-null   int64  \n",
      " 12  CreditCard          5000 non-null   int64  \n",
      "dtypes: float64(1), int64(12)\n",
      "memory usage: 507.9 KB\n"
     ]
    },
    {
     "data": {
      "application/javascript": [
       "\n",
       "            setTimeout(function() {\n",
       "                var nbb_cell_id = 56;\n",
       "                var nbb_unformatted_code = \"data.info()\";\n",
       "                var nbb_formatted_code = \"data.info()\";\n",
       "                var nbb_cells = Jupyter.notebook.get_cells();\n",
       "                for (var i = 0; i < nbb_cells.length; ++i) {\n",
       "                    if (nbb_cells[i].input_prompt_number == nbb_cell_id) {\n",
       "                        if (nbb_cells[i].get_text() == nbb_unformatted_code) {\n",
       "                             nbb_cells[i].set_text(nbb_formatted_code);\n",
       "                        }\n",
       "                        break;\n",
       "                    }\n",
       "                }\n",
       "            }, 500);\n",
       "            "
      ],
      "text/plain": [
       "<IPython.core.display.Javascript object>"
      ]
     },
     "metadata": {},
     "output_type": "display_data"
    }
   ],
   "source": [
    "data.info()"
   ]
  },
  {
   "cell_type": "markdown",
   "id": "b64543a1",
   "metadata": {},
   "source": [
    "#### Observations\n",
    "1. One column is of **float** type.\n",
    "2. Twelve(12) columns are of **int** type \n",
    "3. Dependent variable is Personal_Loan. It is of **Int** type.\n"
   ]
  },
  {
   "cell_type": "markdown",
   "id": "55965f3c",
   "metadata": {},
   "source": [
    "# STEP B IN DATA PROCESSING-------Data Consistency:\n",
    "- Checking for missing values.\n",
    "- Checking for inconsistency.\n",
    "- Checking for duplicate values.\n",
    "- Checking for outliers.\n",
    "- Checking data distribution and skewness"
   ]
  },
  {
   "cell_type": "markdown",
   "id": "2fc173da",
   "metadata": {},
   "source": [
    "### 1.10B checking if the dataset has duplicate values\n"
   ]
  },
  {
   "cell_type": "code",
   "execution_count": 57,
   "id": "fd180c2d",
   "metadata": {},
   "outputs": [
    {
     "data": {
      "text/plain": [
       "Age                   0\n",
       "Experience            0\n",
       "Income                0\n",
       "ZIPCode               0\n",
       "Family                0\n",
       "CCAvg                 0\n",
       "Education             0\n",
       "Mortgage              0\n",
       "Personal_Loan         0\n",
       "Securities_Account    0\n",
       "CD_Account            0\n",
       "Online                0\n",
       "CreditCard            0\n",
       "dtype: int64"
      ]
     },
     "execution_count": 57,
     "metadata": {},
     "output_type": "execute_result"
    },
    {
     "data": {
      "application/javascript": [
       "\n",
       "            setTimeout(function() {\n",
       "                var nbb_cell_id = 57;\n",
       "                var nbb_unformatted_code = \"data[data.duplicated()].count()\";\n",
       "                var nbb_formatted_code = \"data[data.duplicated()].count()\";\n",
       "                var nbb_cells = Jupyter.notebook.get_cells();\n",
       "                for (var i = 0; i < nbb_cells.length; ++i) {\n",
       "                    if (nbb_cells[i].input_prompt_number == nbb_cell_id) {\n",
       "                        if (nbb_cells[i].get_text() == nbb_unformatted_code) {\n",
       "                             nbb_cells[i].set_text(nbb_formatted_code);\n",
       "                        }\n",
       "                        break;\n",
       "                    }\n",
       "                }\n",
       "            }, 500);\n",
       "            "
      ],
      "text/plain": [
       "<IPython.core.display.Javascript object>"
      ]
     },
     "metadata": {},
     "output_type": "display_data"
    }
   ],
   "source": [
    "data[data.duplicated()].count()\n"
   ]
  },
  {
   "cell_type": "markdown",
   "id": "5b2310d6",
   "metadata": {},
   "source": [
    "#### Observations:\n",
    "1. There are no duplicate values in the dataset"
   ]
  },
  {
   "cell_type": "markdown",
   "id": "07461ec0",
   "metadata": {},
   "source": [
    "### 1.11B checking for missing values in the data."
   ]
  },
  {
   "cell_type": "code",
   "execution_count": 58,
   "id": "69523a67",
   "metadata": {
    "scrolled": false
   },
   "outputs": [
    {
     "data": {
      "text/plain": [
       "Age                   0\n",
       "Experience            0\n",
       "Income                0\n",
       "ZIPCode               0\n",
       "Family                0\n",
       "CCAvg                 0\n",
       "Education             0\n",
       "Mortgage              0\n",
       "Personal_Loan         0\n",
       "Securities_Account    0\n",
       "CD_Account            0\n",
       "Online                0\n",
       "CreditCard            0\n",
       "dtype: int64"
      ]
     },
     "execution_count": 58,
     "metadata": {},
     "output_type": "execute_result"
    },
    {
     "data": {
      "application/javascript": [
       "\n",
       "            setTimeout(function() {\n",
       "                var nbb_cell_id = 58;\n",
       "                var nbb_unformatted_code = \"data.isnull().sum()\";\n",
       "                var nbb_formatted_code = \"data.isnull().sum()\";\n",
       "                var nbb_cells = Jupyter.notebook.get_cells();\n",
       "                for (var i = 0; i < nbb_cells.length; ++i) {\n",
       "                    if (nbb_cells[i].input_prompt_number == nbb_cell_id) {\n",
       "                        if (nbb_cells[i].get_text() == nbb_unformatted_code) {\n",
       "                             nbb_cells[i].set_text(nbb_formatted_code);\n",
       "                        }\n",
       "                        break;\n",
       "                    }\n",
       "                }\n",
       "            }, 500);\n",
       "            "
      ],
      "text/plain": [
       "<IPython.core.display.Javascript object>"
      ]
     },
     "metadata": {},
     "output_type": "display_data"
    }
   ],
   "source": [
    "data.isnull().sum()"
   ]
  },
  {
   "cell_type": "markdown",
   "id": "da4c2708",
   "metadata": {},
   "source": [
    "#### Observations:\n",
    "* There are no missing values in the data."
   ]
  },
  {
   "cell_type": "markdown",
   "id": "64bc3e89",
   "metadata": {},
   "source": [
    "### 1.12B Statistical Summary or Descriptive Statistics"
   ]
  },
  {
   "cell_type": "code",
   "execution_count": 59,
   "id": "262b051d",
   "metadata": {
    "scrolled": false
   },
   "outputs": [
    {
     "data": {
      "text/html": [
       "<div>\n",
       "<style scoped>\n",
       "    .dataframe tbody tr th:only-of-type {\n",
       "        vertical-align: middle;\n",
       "    }\n",
       "\n",
       "    .dataframe tbody tr th {\n",
       "        vertical-align: top;\n",
       "    }\n",
       "\n",
       "    .dataframe thead th {\n",
       "        text-align: right;\n",
       "    }\n",
       "</style>\n",
       "<table border=\"1\" class=\"dataframe\">\n",
       "  <thead>\n",
       "    <tr style=\"text-align: right;\">\n",
       "      <th></th>\n",
       "      <th>count</th>\n",
       "      <th>mean</th>\n",
       "      <th>std</th>\n",
       "      <th>min</th>\n",
       "      <th>25%</th>\n",
       "      <th>50%</th>\n",
       "      <th>75%</th>\n",
       "      <th>max</th>\n",
       "    </tr>\n",
       "  </thead>\n",
       "  <tbody>\n",
       "    <tr>\n",
       "      <th>Age</th>\n",
       "      <td>5000.0</td>\n",
       "      <td>45.338400</td>\n",
       "      <td>11.463166</td>\n",
       "      <td>23.0</td>\n",
       "      <td>35.0</td>\n",
       "      <td>45.0</td>\n",
       "      <td>55.0</td>\n",
       "      <td>67.0</td>\n",
       "    </tr>\n",
       "    <tr>\n",
       "      <th>Experience</th>\n",
       "      <td>5000.0</td>\n",
       "      <td>20.104600</td>\n",
       "      <td>11.467954</td>\n",
       "      <td>-3.0</td>\n",
       "      <td>10.0</td>\n",
       "      <td>20.0</td>\n",
       "      <td>30.0</td>\n",
       "      <td>43.0</td>\n",
       "    </tr>\n",
       "    <tr>\n",
       "      <th>Income</th>\n",
       "      <td>5000.0</td>\n",
       "      <td>73.774200</td>\n",
       "      <td>46.033729</td>\n",
       "      <td>8.0</td>\n",
       "      <td>39.0</td>\n",
       "      <td>64.0</td>\n",
       "      <td>98.0</td>\n",
       "      <td>224.0</td>\n",
       "    </tr>\n",
       "    <tr>\n",
       "      <th>ZIPCode</th>\n",
       "      <td>5000.0</td>\n",
       "      <td>93169.257000</td>\n",
       "      <td>1759.455086</td>\n",
       "      <td>90005.0</td>\n",
       "      <td>91911.0</td>\n",
       "      <td>93437.0</td>\n",
       "      <td>94608.0</td>\n",
       "      <td>96651.0</td>\n",
       "    </tr>\n",
       "    <tr>\n",
       "      <th>Family</th>\n",
       "      <td>5000.0</td>\n",
       "      <td>2.396400</td>\n",
       "      <td>1.147663</td>\n",
       "      <td>1.0</td>\n",
       "      <td>1.0</td>\n",
       "      <td>2.0</td>\n",
       "      <td>3.0</td>\n",
       "      <td>4.0</td>\n",
       "    </tr>\n",
       "    <tr>\n",
       "      <th>CCAvg</th>\n",
       "      <td>5000.0</td>\n",
       "      <td>1.937938</td>\n",
       "      <td>1.747659</td>\n",
       "      <td>0.0</td>\n",
       "      <td>0.7</td>\n",
       "      <td>1.5</td>\n",
       "      <td>2.5</td>\n",
       "      <td>10.0</td>\n",
       "    </tr>\n",
       "    <tr>\n",
       "      <th>Education</th>\n",
       "      <td>5000.0</td>\n",
       "      <td>1.881000</td>\n",
       "      <td>0.839869</td>\n",
       "      <td>1.0</td>\n",
       "      <td>1.0</td>\n",
       "      <td>2.0</td>\n",
       "      <td>3.0</td>\n",
       "      <td>3.0</td>\n",
       "    </tr>\n",
       "    <tr>\n",
       "      <th>Mortgage</th>\n",
       "      <td>5000.0</td>\n",
       "      <td>56.498800</td>\n",
       "      <td>101.713802</td>\n",
       "      <td>0.0</td>\n",
       "      <td>0.0</td>\n",
       "      <td>0.0</td>\n",
       "      <td>101.0</td>\n",
       "      <td>635.0</td>\n",
       "    </tr>\n",
       "    <tr>\n",
       "      <th>Personal_Loan</th>\n",
       "      <td>5000.0</td>\n",
       "      <td>0.096000</td>\n",
       "      <td>0.294621</td>\n",
       "      <td>0.0</td>\n",
       "      <td>0.0</td>\n",
       "      <td>0.0</td>\n",
       "      <td>0.0</td>\n",
       "      <td>1.0</td>\n",
       "    </tr>\n",
       "    <tr>\n",
       "      <th>Securities_Account</th>\n",
       "      <td>5000.0</td>\n",
       "      <td>0.104400</td>\n",
       "      <td>0.305809</td>\n",
       "      <td>0.0</td>\n",
       "      <td>0.0</td>\n",
       "      <td>0.0</td>\n",
       "      <td>0.0</td>\n",
       "      <td>1.0</td>\n",
       "    </tr>\n",
       "    <tr>\n",
       "      <th>CD_Account</th>\n",
       "      <td>5000.0</td>\n",
       "      <td>0.060400</td>\n",
       "      <td>0.238250</td>\n",
       "      <td>0.0</td>\n",
       "      <td>0.0</td>\n",
       "      <td>0.0</td>\n",
       "      <td>0.0</td>\n",
       "      <td>1.0</td>\n",
       "    </tr>\n",
       "    <tr>\n",
       "      <th>Online</th>\n",
       "      <td>5000.0</td>\n",
       "      <td>0.596800</td>\n",
       "      <td>0.490589</td>\n",
       "      <td>0.0</td>\n",
       "      <td>0.0</td>\n",
       "      <td>1.0</td>\n",
       "      <td>1.0</td>\n",
       "      <td>1.0</td>\n",
       "    </tr>\n",
       "    <tr>\n",
       "      <th>CreditCard</th>\n",
       "      <td>5000.0</td>\n",
       "      <td>0.294000</td>\n",
       "      <td>0.455637</td>\n",
       "      <td>0.0</td>\n",
       "      <td>0.0</td>\n",
       "      <td>0.0</td>\n",
       "      <td>1.0</td>\n",
       "      <td>1.0</td>\n",
       "    </tr>\n",
       "  </tbody>\n",
       "</table>\n",
       "</div>"
      ],
      "text/plain": [
       "                     count          mean          std      min      25%  \\\n",
       "Age                 5000.0     45.338400    11.463166     23.0     35.0   \n",
       "Experience          5000.0     20.104600    11.467954     -3.0     10.0   \n",
       "Income              5000.0     73.774200    46.033729      8.0     39.0   \n",
       "ZIPCode             5000.0  93169.257000  1759.455086  90005.0  91911.0   \n",
       "Family              5000.0      2.396400     1.147663      1.0      1.0   \n",
       "CCAvg               5000.0      1.937938     1.747659      0.0      0.7   \n",
       "Education           5000.0      1.881000     0.839869      1.0      1.0   \n",
       "Mortgage            5000.0     56.498800   101.713802      0.0      0.0   \n",
       "Personal_Loan       5000.0      0.096000     0.294621      0.0      0.0   \n",
       "Securities_Account  5000.0      0.104400     0.305809      0.0      0.0   \n",
       "CD_Account          5000.0      0.060400     0.238250      0.0      0.0   \n",
       "Online              5000.0      0.596800     0.490589      0.0      0.0   \n",
       "CreditCard          5000.0      0.294000     0.455637      0.0      0.0   \n",
       "\n",
       "                        50%      75%      max  \n",
       "Age                    45.0     55.0     67.0  \n",
       "Experience             20.0     30.0     43.0  \n",
       "Income                 64.0     98.0    224.0  \n",
       "ZIPCode             93437.0  94608.0  96651.0  \n",
       "Family                  2.0      3.0      4.0  \n",
       "CCAvg                   1.5      2.5     10.0  \n",
       "Education               2.0      3.0      3.0  \n",
       "Mortgage                0.0    101.0    635.0  \n",
       "Personal_Loan           0.0      0.0      1.0  \n",
       "Securities_Account      0.0      0.0      1.0  \n",
       "CD_Account              0.0      0.0      1.0  \n",
       "Online                  1.0      1.0      1.0  \n",
       "CreditCard              0.0      1.0      1.0  "
      ]
     },
     "execution_count": 59,
     "metadata": {},
     "output_type": "execute_result"
    },
    {
     "data": {
      "application/javascript": [
       "\n",
       "            setTimeout(function() {\n",
       "                var nbb_cell_id = 59;\n",
       "                var nbb_unformatted_code = \"data.describe(include=\\\"all\\\").T  # quick summary of numeric features\";\n",
       "                var nbb_formatted_code = \"data.describe(include=\\\"all\\\").T  # quick summary of numeric features\";\n",
       "                var nbb_cells = Jupyter.notebook.get_cells();\n",
       "                for (var i = 0; i < nbb_cells.length; ++i) {\n",
       "                    if (nbb_cells[i].input_prompt_number == nbb_cell_id) {\n",
       "                        if (nbb_cells[i].get_text() == nbb_unformatted_code) {\n",
       "                             nbb_cells[i].set_text(nbb_formatted_code);\n",
       "                        }\n",
       "                        break;\n",
       "                    }\n",
       "                }\n",
       "            }, 500);\n",
       "            "
      ],
      "text/plain": [
       "<IPython.core.display.Javascript object>"
      ]
     },
     "metadata": {},
     "output_type": "display_data"
    }
   ],
   "source": [
    "data.describe(include=\"all\").T  # quick summary of numeric features"
   ]
  },
  {
   "cell_type": "markdown",
   "id": "9cc6343a",
   "metadata": {},
   "source": [
    "#### Observations.\n",
    "1. The table above shows that the **Age** range of the customers varies from 23 to 67.\n",
    "2. The table above shows that the **Family** sizes of the customers varies from 1 to 4.\n",
    "3. The minimum level of **Education** of the customers is 1(Undergrad), while the maximum level of Education is\n",
    "    3( Advanced/Professional).\n",
    "  \n",
    "4. The maximum years of professional **experience** of the customers is 43 \n",
    "5. The dependent variable, **Personal_Loan** is either **0** representing that the customer did not accept the personal loan offered in the last campaign, or **1** representing that the customer accepted the personal loan offered in the last campaign."
   ]
  },
  {
   "cell_type": "markdown",
   "id": "510eb16d",
   "metadata": {},
   "source": [
    "### 1.15B filtering non-numeric columns"
   ]
  },
  {
   "cell_type": "code",
   "execution_count": 60,
   "id": "a1cfb139",
   "metadata": {},
   "outputs": [
    {
     "data": {
      "text/plain": [
       "Index([], dtype='object')"
      ]
     },
     "execution_count": 60,
     "metadata": {},
     "output_type": "execute_result"
    },
    {
     "data": {
      "application/javascript": [
       "\n",
       "            setTimeout(function() {\n",
       "                var nbb_cell_id = 60;\n",
       "                var nbb_unformatted_code = \"cat_columns = data.select_dtypes(exclude=np.number).columns\\ncat_columns\";\n",
       "                var nbb_formatted_code = \"cat_columns = data.select_dtypes(exclude=np.number).columns\\ncat_columns\";\n",
       "                var nbb_cells = Jupyter.notebook.get_cells();\n",
       "                for (var i = 0; i < nbb_cells.length; ++i) {\n",
       "                    if (nbb_cells[i].input_prompt_number == nbb_cell_id) {\n",
       "                        if (nbb_cells[i].get_text() == nbb_unformatted_code) {\n",
       "                             nbb_cells[i].set_text(nbb_formatted_code);\n",
       "                        }\n",
       "                        break;\n",
       "                    }\n",
       "                }\n",
       "            }, 500);\n",
       "            "
      ],
      "text/plain": [
       "<IPython.core.display.Javascript object>"
      ]
     },
     "metadata": {},
     "output_type": "display_data"
    }
   ],
   "source": [
    "cat_columns = data.select_dtypes(exclude=np.number).columns\n",
    "cat_columns"
   ]
  },
  {
   "cell_type": "markdown",
   "id": "0351c05a",
   "metadata": {},
   "source": [
    "#### Observation:\n",
    "1. The dataset does not have any **[string]** datatype"
   ]
  },
  {
   "cell_type": "code",
   "execution_count": 61,
   "id": "940dc591",
   "metadata": {
    "scrolled": true
   },
   "outputs": [
    {
     "name": "stdout",
     "output_type": "stream",
     "text": [
      "1    2096\n",
      "3    1501\n",
      "2    1403\n",
      "Name: Education, dtype: int64\n",
      "--------------------------------------------------\n",
      "0    4520\n",
      "1     480\n",
      "Name: Personal_Loan, dtype: int64\n",
      "--------------------------------------------------\n",
      "0    4478\n",
      "1     522\n",
      "Name: Securities_Account, dtype: int64\n",
      "--------------------------------------------------\n",
      "0    4698\n",
      "1     302\n",
      "Name: CD_Account, dtype: int64\n",
      "--------------------------------------------------\n",
      "1    2984\n",
      "0    2016\n",
      "Name: Online, dtype: int64\n",
      "--------------------------------------------------\n",
      "1    1472\n",
      "2    1296\n",
      "4    1222\n",
      "3    1010\n",
      "Name: Family, dtype: int64\n",
      "--------------------------------------------------\n",
      "0    3530\n",
      "1    1470\n",
      "Name: CreditCard, dtype: int64\n",
      "--------------------------------------------------\n"
     ]
    },
    {
     "data": {
      "application/javascript": [
       "\n",
       "            setTimeout(function() {\n",
       "                var nbb_cell_id = 61;\n",
       "                var nbb_unformatted_code = \"# we will skip the Age, Experience, CCAvg, Mortgage, Income, and ZIP Code columns because they will have a lot of unique values\\n\\ncat_col = [\\n    \\\"Education\\\",\\n    \\\"Personal_Loan\\\",\\n    \\\"Securities_Account\\\",\\n    \\\"CD_Account\\\",\\n    \\\"Online\\\",\\n    \\\"Family\\\",\\n    \\\"CreditCard\\\",\\n]\\n\\n# printing the number of occurrences of each unique value in each categorical column\\nfor column in cat_col:\\n    print(data[column].value_counts())\\n    print(\\\"-\\\" * 50)\";\n",
       "                var nbb_formatted_code = \"# we will skip the Age, Experience, CCAvg, Mortgage, Income, and ZIP Code columns because they will have a lot of unique values\\n\\ncat_col = [\\n    \\\"Education\\\",\\n    \\\"Personal_Loan\\\",\\n    \\\"Securities_Account\\\",\\n    \\\"CD_Account\\\",\\n    \\\"Online\\\",\\n    \\\"Family\\\",\\n    \\\"CreditCard\\\",\\n]\\n\\n# printing the number of occurrences of each unique value in each categorical column\\nfor column in cat_col:\\n    print(data[column].value_counts())\\n    print(\\\"-\\\" * 50)\";\n",
       "                var nbb_cells = Jupyter.notebook.get_cells();\n",
       "                for (var i = 0; i < nbb_cells.length; ++i) {\n",
       "                    if (nbb_cells[i].input_prompt_number == nbb_cell_id) {\n",
       "                        if (nbb_cells[i].get_text() == nbb_unformatted_code) {\n",
       "                             nbb_cells[i].set_text(nbb_formatted_code);\n",
       "                        }\n",
       "                        break;\n",
       "                    }\n",
       "                }\n",
       "            }, 500);\n",
       "            "
      ],
      "text/plain": [
       "<IPython.core.display.Javascript object>"
      ]
     },
     "metadata": {},
     "output_type": "display_data"
    }
   ],
   "source": [
    "# we will skip the Age, Experience, CCAvg, Mortgage, Income, and ZIP Code columns because they will have a lot of unique values\n",
    "\n",
    "cat_col = [\n",
    "    \"Education\",\n",
    "    \"Personal_Loan\",\n",
    "    \"Securities_Account\",\n",
    "    \"CD_Account\",\n",
    "    \"Online\",\n",
    "    \"Family\",\n",
    "    \"CreditCard\",\n",
    "]\n",
    "\n",
    "# printing the number of occurrences of each unique value in each categorical column\n",
    "for column in cat_col:\n",
    "    print(data[column].value_counts())\n",
    "    print(\"-\" * 50)"
   ]
  },
  {
   "cell_type": "markdown",
   "id": "723a07bb",
   "metadata": {},
   "source": [
    "#### Observations.\n",
    "1.  Most of the customers have Education level as 1( Undergrad).\n",
    "2. Most of the customers did not accept the loan offered in the last campaign.\n",
    "3. Most of the customers do not have securities account with the bank.\n",
    "4. Majority of the customers do not certificate of deposit (CD) account with the bank.\n",
    "5. Higher percentage of the customers use internet banking facilities\n",
    "5. Majority of the customers do not use a credit card issued by any other Bank (excluding All life Bank)."
   ]
  },
  {
   "cell_type": "markdown",
   "id": "274920c2",
   "metadata": {},
   "source": [
    " # 1.16B Exploratory Data Analysis"
   ]
  },
  {
   "cell_type": "markdown",
   "id": "e8413d08",
   "metadata": {},
   "source": [
    "#### UNIVARIANT ANALYSIS For the Numerical Variables"
   ]
  },
  {
   "cell_type": "code",
   "execution_count": 62,
   "id": "76c22193",
   "metadata": {},
   "outputs": [
    {
     "data": {
      "application/javascript": [
       "\n",
       "            setTimeout(function() {\n",
       "                var nbb_cell_id = 62;\n",
       "                var nbb_unformatted_code = \"# function to plot a boxplot and a histogram along the same scale.\\n\\n\\ndef histogram_boxplot(data, feature, figsize=(12, 7), kde=False, bins=None):\\n    \\\"\\\"\\\"\\n    Boxplot and histogram combined\\n\\n    data: dataframe\\n    feature: dataframe column\\n    figsize: size of figure (default (12,7))\\n    kde: whether to the show density curve (default False)\\n    bins: number of bins for histogram (default None)\\n    \\\"\\\"\\\"\\n    f2, (ax_box2, ax_hist2) = plt.subplots(\\n        nrows=2,  # Number of rows of the subplot grid= 2\\n        sharex=True,  # x-axis will be shared among all subplots\\n        gridspec_kw={\\\"height_ratios\\\": (0.25, 0.75)},\\n        figsize=figsize,\\n    )  # creating the 2 subplots\\n    sns.boxplot(\\n        data=data, x=feature, ax=ax_box2, showmeans=True, color=\\\"violet\\\"\\n    )  # boxplot will be created and a star will indicate the mean value of the column\\n    sns.histplot(\\n        data=data, x=feature, kde=kde, ax=ax_hist2, bins=bins, palette=\\\"winter\\\"\\n    ) if bins else sns.histplot(\\n        data=data, x=feature, kde=kde, ax=ax_hist2\\n    )  # For histogram\\n\\n    ax_hist2.axvline(\\n        data[feature].mean(), color=\\\"green\\\", linestyle=\\\"--\\\"\\n    )  # Add mean to the histogram\\n    ax_hist2.axvline(\\n        data[feature].median(), color=\\\"black\\\", linestyle=\\\"-\\\"\\n    )  # Add median to the histogram\";\n",
       "                var nbb_formatted_code = \"# function to plot a boxplot and a histogram along the same scale.\\n\\n\\ndef histogram_boxplot(data, feature, figsize=(12, 7), kde=False, bins=None):\\n    \\\"\\\"\\\"\\n    Boxplot and histogram combined\\n\\n    data: dataframe\\n    feature: dataframe column\\n    figsize: size of figure (default (12,7))\\n    kde: whether to the show density curve (default False)\\n    bins: number of bins for histogram (default None)\\n    \\\"\\\"\\\"\\n    f2, (ax_box2, ax_hist2) = plt.subplots(\\n        nrows=2,  # Number of rows of the subplot grid= 2\\n        sharex=True,  # x-axis will be shared among all subplots\\n        gridspec_kw={\\\"height_ratios\\\": (0.25, 0.75)},\\n        figsize=figsize,\\n    )  # creating the 2 subplots\\n    sns.boxplot(\\n        data=data, x=feature, ax=ax_box2, showmeans=True, color=\\\"violet\\\"\\n    )  # boxplot will be created and a star will indicate the mean value of the column\\n    sns.histplot(\\n        data=data, x=feature, kde=kde, ax=ax_hist2, bins=bins, palette=\\\"winter\\\"\\n    ) if bins else sns.histplot(\\n        data=data, x=feature, kde=kde, ax=ax_hist2\\n    )  # For histogram\\n\\n    ax_hist2.axvline(\\n        data[feature].mean(), color=\\\"green\\\", linestyle=\\\"--\\\"\\n    )  # Add mean to the histogram\\n    ax_hist2.axvline(\\n        data[feature].median(), color=\\\"black\\\", linestyle=\\\"-\\\"\\n    )  # Add median to the histogram\";\n",
       "                var nbb_cells = Jupyter.notebook.get_cells();\n",
       "                for (var i = 0; i < nbb_cells.length; ++i) {\n",
       "                    if (nbb_cells[i].input_prompt_number == nbb_cell_id) {\n",
       "                        if (nbb_cells[i].get_text() == nbb_unformatted_code) {\n",
       "                             nbb_cells[i].set_text(nbb_formatted_code);\n",
       "                        }\n",
       "                        break;\n",
       "                    }\n",
       "                }\n",
       "            }, 500);\n",
       "            "
      ],
      "text/plain": [
       "<IPython.core.display.Javascript object>"
      ]
     },
     "metadata": {},
     "output_type": "display_data"
    }
   ],
   "source": [
    "# function to plot a boxplot and a histogram along the same scale.\n",
    "\n",
    "\n",
    "def histogram_boxplot(data, feature, figsize=(12, 7), kde=False, bins=None):\n",
    "    \"\"\"\n",
    "    Boxplot and histogram combined\n",
    "\n",
    "    data: dataframe\n",
    "    feature: dataframe column\n",
    "    figsize: size of figure (default (12,7))\n",
    "    kde: whether to the show density curve (default False)\n",
    "    bins: number of bins for histogram (default None)\n",
    "    \"\"\"\n",
    "    f2, (ax_box2, ax_hist2) = plt.subplots(\n",
    "        nrows=2,  # Number of rows of the subplot grid= 2\n",
    "        sharex=True,  # x-axis will be shared among all subplots\n",
    "        gridspec_kw={\"height_ratios\": (0.25, 0.75)},\n",
    "        figsize=figsize,\n",
    "    )  # creating the 2 subplots\n",
    "    sns.boxplot(\n",
    "        data=data, x=feature, ax=ax_box2, showmeans=True, color=\"violet\"\n",
    "    )  # boxplot will be created and a star will indicate the mean value of the column\n",
    "    sns.histplot(\n",
    "        data=data, x=feature, kde=kde, ax=ax_hist2, bins=bins, palette=\"winter\"\n",
    "    ) if bins else sns.histplot(\n",
    "        data=data, x=feature, kde=kde, ax=ax_hist2\n",
    "    )  # For histogram\n",
    "\n",
    "    ax_hist2.axvline(\n",
    "        data[feature].mean(), color=\"green\", linestyle=\"--\"\n",
    "    )  # Add mean to the histogram\n",
    "    ax_hist2.axvline(\n",
    "        data[feature].median(), color=\"black\", linestyle=\"-\"\n",
    "    )  # Add median to the histogram"
   ]
  },
  {
   "cell_type": "markdown",
   "id": "1853d0fc",
   "metadata": {},
   "source": [
    "### Age"
   ]
  },
  {
   "cell_type": "code",
   "execution_count": 63,
   "id": "6b8d7954",
   "metadata": {},
   "outputs": [
    {
     "data": {
      "image/png": "[encoded data removed]",
      "text/plain": [
       "<Figure size 864x504 with 2 Axes>"
      ]
     },
     "metadata": {
      "needs_background": "light"
     },
     "output_type": "display_data"
    },
    {
     "data": {
      "application/javascript": [
       "\n",
       "            setTimeout(function() {\n",
       "                var nbb_cell_id = 63;\n",
       "                var nbb_unformatted_code = \"histogram_boxplot(data, \\\"Age\\\", bins=70)\";\n",
       "                var nbb_formatted_code = \"histogram_boxplot(data, \\\"Age\\\", bins=70)\";\n",
       "                var nbb_cells = Jupyter.notebook.get_cells();\n",
       "                for (var i = 0; i < nbb_cells.length; ++i) {\n",
       "                    if (nbb_cells[i].input_prompt_number == nbb_cell_id) {\n",
       "                        if (nbb_cells[i].get_text() == nbb_unformatted_code) {\n",
       "                             nbb_cells[i].set_text(nbb_formatted_code);\n",
       "                        }\n",
       "                        break;\n",
       "                    }\n",
       "                }\n",
       "            }, 500);\n",
       "            "
      ],
      "text/plain": [
       "<IPython.core.display.Javascript object>"
      ]
     },
     "metadata": {},
     "output_type": "display_data"
    }
   ],
   "source": [
    "histogram_boxplot(data, \"Age\", bins=70)"
   ]
  },
  {
   "cell_type": "markdown",
   "id": "3722c2fa",
   "metadata": {},
   "source": [
    "#### Observation.\n",
    "1. The Age is close to normally distributed with a median of 45."
   ]
  },
  {
   "cell_type": "markdown",
   "id": "bdbdcd24",
   "metadata": {},
   "source": [
    "### Outlier- Treatment\n",
    "## [Age] ##"
   ]
  },
  {
   "cell_type": "code",
   "execution_count": 64,
   "id": "cb139803",
   "metadata": {},
   "outputs": [
    {
     "name": "stdout",
     "output_type": "stream",
     "text": [
      "Q1 = 35.0, Q3 = 55.0, 4*IQR = 80.0\n"
     ]
    },
    {
     "data": {
      "text/plain": [
       "Series([], Name: Age, dtype: int64)"
      ]
     },
     "execution_count": 64,
     "metadata": {},
     "output_type": "execute_result"
    },
    {
     "data": {
      "application/javascript": [
       "\n",
       "            setTimeout(function() {\n",
       "                var nbb_cell_id = 64;\n",
       "                var nbb_unformatted_code = \"quartiles = np.quantile(data[\\\"Age\\\"][data[\\\"Age\\\"].notnull()], [0.25, 0.75])\\npower_4iqr = 4 * (quartiles[1] - quartiles[0])\\nprint(f\\\"Q1 = {quartiles[0]}, Q3 = {quartiles[1]}, 4*IQR = {power_4iqr}\\\")\\noutlier_Age = data.loc[np.abs(data[\\\"Age\\\"] - data[\\\"Age\\\"].median()) > power_4iqr, \\\"Age\\\"]\\noutlier_Age\";\n",
       "                var nbb_formatted_code = \"quartiles = np.quantile(data[\\\"Age\\\"][data[\\\"Age\\\"].notnull()], [0.25, 0.75])\\npower_4iqr = 4 * (quartiles[1] - quartiles[0])\\nprint(f\\\"Q1 = {quartiles[0]}, Q3 = {quartiles[1]}, 4*IQR = {power_4iqr}\\\")\\noutlier_Age = data.loc[np.abs(data[\\\"Age\\\"] - data[\\\"Age\\\"].median()) > power_4iqr, \\\"Age\\\"]\\noutlier_Age\";\n",
       "                var nbb_cells = Jupyter.notebook.get_cells();\n",
       "                for (var i = 0; i < nbb_cells.length; ++i) {\n",
       "                    if (nbb_cells[i].input_prompt_number == nbb_cell_id) {\n",
       "                        if (nbb_cells[i].get_text() == nbb_unformatted_code) {\n",
       "                             nbb_cells[i].set_text(nbb_formatted_code);\n",
       "                        }\n",
       "                        break;\n",
       "                    }\n",
       "                }\n",
       "            }, 500);\n",
       "            "
      ],
      "text/plain": [
       "<IPython.core.display.Javascript object>"
      ]
     },
     "metadata": {},
     "output_type": "display_data"
    }
   ],
   "source": [
    "quartiles = np.quantile(data[\"Age\"][data[\"Age\"].notnull()], [0.25, 0.75])\n",
    "power_4iqr = 4 * (quartiles[1] - quartiles[0])\n",
    "print(f\"Q1 = {quartiles[0]}, Q3 = {quartiles[1]}, 4*IQR = {power_4iqr}\")\n",
    "outlier_Age = data.loc[np.abs(data[\"Age\"] - data[\"Age\"].median()) > power_4iqr, \"Age\"]\n",
    "outlier_Age"
   ]
  },
  {
   "cell_type": "markdown",
   "id": "3a26901b",
   "metadata": {},
   "source": [
    "###  [Experience]"
   ]
  },
  {
   "cell_type": "code",
   "execution_count": 65,
   "id": "30d4b507",
   "metadata": {},
   "outputs": [
    {
     "data": {
      "image/png": "[encoded data removed]",
      "text/plain": [
       "<Figure size 864x504 with 2 Axes>"
      ]
     },
     "metadata": {
      "needs_background": "light"
     },
     "output_type": "display_data"
    },
    {
     "data": {
      "application/javascript": [
       "\n",
       "            setTimeout(function() {\n",
       "                var nbb_cell_id = 65;\n",
       "                var nbb_unformatted_code = \"histogram_boxplot(data, \\\"Experience\\\")\";\n",
       "                var nbb_formatted_code = \"histogram_boxplot(data, \\\"Experience\\\")\";\n",
       "                var nbb_cells = Jupyter.notebook.get_cells();\n",
       "                for (var i = 0; i < nbb_cells.length; ++i) {\n",
       "                    if (nbb_cells[i].input_prompt_number == nbb_cell_id) {\n",
       "                        if (nbb_cells[i].get_text() == nbb_unformatted_code) {\n",
       "                             nbb_cells[i].set_text(nbb_formatted_code);\n",
       "                        }\n",
       "                        break;\n",
       "                    }\n",
       "                }\n",
       "            }, 500);\n",
       "            "
      ],
      "text/plain": [
       "<IPython.core.display.Javascript object>"
      ]
     },
     "metadata": {},
     "output_type": "display_data"
    }
   ],
   "source": [
    "histogram_boxplot(data, \"Experience\")"
   ]
  },
  {
   "cell_type": "markdown",
   "id": "a7cc794e",
   "metadata": {},
   "source": [
    "#### Observation.\n",
    "1. The years of professional **Experience** are close to normally distributed with a median of 20."
   ]
  },
  {
   "cell_type": "markdown",
   "id": "eead8a00",
   "metadata": {},
   "source": [
    "### Outlier- Treatment \n",
    "## [Experience] ## "
   ]
  },
  {
   "cell_type": "code",
   "execution_count": 66,
   "id": "47de36c2",
   "metadata": {},
   "outputs": [
    {
     "name": "stdout",
     "output_type": "stream",
     "text": [
      "Q1 = 10.0, Q3 = 30.0, 4*IQR = 80.0\n"
     ]
    },
    {
     "data": {
      "text/plain": [
       "Series([], Name: Experience, dtype: int64)"
      ]
     },
     "execution_count": 66,
     "metadata": {},
     "output_type": "execute_result"
    },
    {
     "data": {
      "application/javascript": [
       "\n",
       "            setTimeout(function() {\n",
       "                var nbb_cell_id = 66;\n",
       "                var nbb_unformatted_code = \"quartiles = np.quantile(data[\\\"Experience\\\"][data[\\\"Experience\\\"].notnull()], [0.25, 0.75])\\nExperience_4iqr = 4 * (quartiles[1] - quartiles[0])\\nprint(f\\\"Q1 = {quartiles[0]}, Q3 = {quartiles[1]}, 4*IQR = {Experience_4iqr}\\\")\\noutlier_Experience = data.loc[\\n    np.abs(data[\\\"Experience\\\"] - data[\\\"Experience\\\"].median()) > power_4iqr, \\\"Experience\\\"\\n]\\noutlier_Experience\";\n",
       "                var nbb_formatted_code = \"quartiles = np.quantile(data[\\\"Experience\\\"][data[\\\"Experience\\\"].notnull()], [0.25, 0.75])\\nExperience_4iqr = 4 * (quartiles[1] - quartiles[0])\\nprint(f\\\"Q1 = {quartiles[0]}, Q3 = {quartiles[1]}, 4*IQR = {Experience_4iqr}\\\")\\noutlier_Experience = data.loc[\\n    np.abs(data[\\\"Experience\\\"] - data[\\\"Experience\\\"].median()) > power_4iqr, \\\"Experience\\\"\\n]\\noutlier_Experience\";\n",
       "                var nbb_cells = Jupyter.notebook.get_cells();\n",
       "                for (var i = 0; i < nbb_cells.length; ++i) {\n",
       "                    if (nbb_cells[i].input_prompt_number == nbb_cell_id) {\n",
       "                        if (nbb_cells[i].get_text() == nbb_unformatted_code) {\n",
       "                             nbb_cells[i].set_text(nbb_formatted_code);\n",
       "                        }\n",
       "                        break;\n",
       "                    }\n",
       "                }\n",
       "            }, 500);\n",
       "            "
      ],
      "text/plain": [
       "<IPython.core.display.Javascript object>"
      ]
     },
     "metadata": {},
     "output_type": "display_data"
    }
   ],
   "source": [
    "quartiles = np.quantile(data[\"Experience\"][data[\"Experience\"].notnull()], [0.25, 0.75])\n",
    "Experience_4iqr = 4 * (quartiles[1] - quartiles[0])\n",
    "print(f\"Q1 = {quartiles[0]}, Q3 = {quartiles[1]}, 4*IQR = {Experience_4iqr}\")\n",
    "outlier_Experience = data.loc[\n",
    "    np.abs(data[\"Experience\"] - data[\"Experience\"].median()) > power_4iqr, \"Experience\"\n",
    "]\n",
    "outlier_Experience"
   ]
  },
  {
   "cell_type": "markdown",
   "id": "9545ab09",
   "metadata": {},
   "source": [
    "### [Income]"
   ]
  },
  {
   "cell_type": "code",
   "execution_count": 67,
   "id": "0a03eb46",
   "metadata": {},
   "outputs": [
    {
     "data": {
      "image/png": "[encoded data removed]",
      "text/plain": [
       "<Figure size 864x504 with 2 Axes>"
      ]
     },
     "metadata": {
      "needs_background": "light"
     },
     "output_type": "display_data"
    },
    {
     "data": {
      "application/javascript": [
       "\n",
       "            setTimeout(function() {\n",
       "                var nbb_cell_id = 67;\n",
       "                var nbb_unformatted_code = \"histogram_boxplot(data, \\\"Income\\\")\";\n",
       "                var nbb_formatted_code = \"histogram_boxplot(data, \\\"Income\\\")\";\n",
       "                var nbb_cells = Jupyter.notebook.get_cells();\n",
       "                for (var i = 0; i < nbb_cells.length; ++i) {\n",
       "                    if (nbb_cells[i].input_prompt_number == nbb_cell_id) {\n",
       "                        if (nbb_cells[i].get_text() == nbb_unformatted_code) {\n",
       "                             nbb_cells[i].set_text(nbb_formatted_code);\n",
       "                        }\n",
       "                        break;\n",
       "                    }\n",
       "                }\n",
       "            }, 500);\n",
       "            "
      ],
      "text/plain": [
       "<IPython.core.display.Javascript object>"
      ]
     },
     "metadata": {},
     "output_type": "display_data"
    }
   ],
   "source": [
    "histogram_boxplot(data, \"Income\")"
   ]
  },
  {
   "cell_type": "markdown",
   "id": "26786ea5",
   "metadata": {},
   "source": [
    "#### Observation.\n",
    "1. The distribution is right-skewed with a median of 64k and an average below 75k."
   ]
  },
  {
   "cell_type": "markdown",
   "id": "6765d2d4",
   "metadata": {},
   "source": [
    "### Outlier Treatment\n",
    "## [Income]"
   ]
  },
  {
   "cell_type": "code",
   "execution_count": 68,
   "id": "086bfe0b",
   "metadata": {},
   "outputs": [
    {
     "name": "stdout",
     "output_type": "stream",
     "text": [
      "Q1 = 39.0, Q3 = 98.0, 4*IQR = 236.0\n"
     ]
    },
    {
     "data": {
      "text/plain": [
       "Series([], Name: Income, dtype: int64)"
      ]
     },
     "execution_count": 68,
     "metadata": {},
     "output_type": "execute_result"
    },
    {
     "data": {
      "application/javascript": [
       "\n",
       "            setTimeout(function() {\n",
       "                var nbb_cell_id = 68;\n",
       "                var nbb_unformatted_code = \"quartiles = np.quantile(data[\\\"Income\\\"][data[\\\"Income\\\"].notnull()], [0.25, 0.75])\\nIncome_4iqr = 4 * (quartiles[1] - quartiles[0])\\nprint(f\\\"Q1 = {quartiles[0]}, Q3 = {quartiles[1]}, 4*IQR = {Income_4iqr}\\\")\\noutlier_Income = data.loc[\\n    np.abs(data[\\\"Income\\\"] - data[\\\"Income\\\"].median()) > Income_4iqr, \\\"Income\\\"\\n]\\noutlier_Income\";\n",
       "                var nbb_formatted_code = \"quartiles = np.quantile(data[\\\"Income\\\"][data[\\\"Income\\\"].notnull()], [0.25, 0.75])\\nIncome_4iqr = 4 * (quartiles[1] - quartiles[0])\\nprint(f\\\"Q1 = {quartiles[0]}, Q3 = {quartiles[1]}, 4*IQR = {Income_4iqr}\\\")\\noutlier_Income = data.loc[\\n    np.abs(data[\\\"Income\\\"] - data[\\\"Income\\\"].median()) > Income_4iqr, \\\"Income\\\"\\n]\\noutlier_Income\";\n",
       "                var nbb_cells = Jupyter.notebook.get_cells();\n",
       "                for (var i = 0; i < nbb_cells.length; ++i) {\n",
       "                    if (nbb_cells[i].input_prompt_number == nbb_cell_id) {\n",
       "                        if (nbb_cells[i].get_text() == nbb_unformatted_code) {\n",
       "                             nbb_cells[i].set_text(nbb_formatted_code);\n",
       "                        }\n",
       "                        break;\n",
       "                    }\n",
       "                }\n",
       "            }, 500);\n",
       "            "
      ],
      "text/plain": [
       "<IPython.core.display.Javascript object>"
      ]
     },
     "metadata": {},
     "output_type": "display_data"
    }
   ],
   "source": [
    "quartiles = np.quantile(data[\"Income\"][data[\"Income\"].notnull()], [0.25, 0.75])\n",
    "Income_4iqr = 4 * (quartiles[1] - quartiles[0])\n",
    "print(f\"Q1 = {quartiles[0]}, Q3 = {quartiles[1]}, 4*IQR = {Income_4iqr}\")\n",
    "outlier_Income = data.loc[\n",
    "    np.abs(data[\"Income\"] - data[\"Income\"].median()) > Income_4iqr, \"Income\"\n",
    "]\n",
    "outlier_Income"
   ]
  },
  {
   "cell_type": "markdown",
   "id": "6156b906",
   "metadata": {},
   "source": [
    "### [ZIPCode]"
   ]
  },
  {
   "cell_type": "code",
   "execution_count": 69,
   "id": "b3ea0f5a",
   "metadata": {
    "scrolled": false
   },
   "outputs": [
    {
     "data": {
      "image/png": "[encoded data removed]",
      "text/plain": [
       "<Figure size 864x504 with 2 Axes>"
      ]
     },
     "metadata": {
      "needs_background": "light"
     },
     "output_type": "display_data"
    },
    {
     "data": {
      "application/javascript": [
       "\n",
       "            setTimeout(function() {\n",
       "                var nbb_cell_id = 69;\n",
       "                var nbb_unformatted_code = \"histogram_boxplot(data, \\\"ZIPCode\\\")\";\n",
       "                var nbb_formatted_code = \"histogram_boxplot(data, \\\"ZIPCode\\\")\";\n",
       "                var nbb_cells = Jupyter.notebook.get_cells();\n",
       "                for (var i = 0; i < nbb_cells.length; ++i) {\n",
       "                    if (nbb_cells[i].input_prompt_number == nbb_cell_id) {\n",
       "                        if (nbb_cells[i].get_text() == nbb_unformatted_code) {\n",
       "                             nbb_cells[i].set_text(nbb_formatted_code);\n",
       "                        }\n",
       "                        break;\n",
       "                    }\n",
       "                }\n",
       "            }, 500);\n",
       "            "
      ],
      "text/plain": [
       "<IPython.core.display.Javascript object>"
      ]
     },
     "metadata": {},
     "output_type": "display_data"
    }
   ],
   "source": [
    "histogram_boxplot(data, \"ZIPCode\")"
   ]
  },
  {
   "cell_type": "markdown",
   "id": "00a5461b",
   "metadata": {},
   "source": [
    "### Outlier- Treatment\n",
    "## [ZIPCode]\n"
   ]
  },
  {
   "cell_type": "code",
   "execution_count": 70,
   "id": "6544b7e9",
   "metadata": {},
   "outputs": [
    {
     "name": "stdout",
     "output_type": "stream",
     "text": [
      "Q1 = 91911.0, Q3 = 94608.0, 4*IQR = 10788.0\n"
     ]
    },
    {
     "data": {
      "text/plain": [
       "Series([], Name: ZIPCode, dtype: int64)"
      ]
     },
     "execution_count": 70,
     "metadata": {},
     "output_type": "execute_result"
    },
    {
     "data": {
      "application/javascript": [
       "\n",
       "            setTimeout(function() {\n",
       "                var nbb_cell_id = 70;\n",
       "                var nbb_unformatted_code = \"quartiles = np.quantile(data[\\\"ZIPCode\\\"][data[\\\"ZIPCode\\\"].notnull()], [0.25, 0.75])\\nZIPCode_4iqr = 4 * (quartiles[1] - quartiles[0])\\nprint(f\\\"Q1 = {quartiles[0]}, Q3 = {quartiles[1]}, 4*IQR = {ZIPCode_4iqr}\\\")\\noutlier_ZIPCode = data.loc[\\n    np.abs(data[\\\"ZIPCode\\\"] - data[\\\"ZIPCode\\\"].median()) > ZIPCode_4iqr, \\\"ZIPCode\\\"\\n]\\noutlier_ZIPCode\";\n",
       "                var nbb_formatted_code = \"quartiles = np.quantile(data[\\\"ZIPCode\\\"][data[\\\"ZIPCode\\\"].notnull()], [0.25, 0.75])\\nZIPCode_4iqr = 4 * (quartiles[1] - quartiles[0])\\nprint(f\\\"Q1 = {quartiles[0]}, Q3 = {quartiles[1]}, 4*IQR = {ZIPCode_4iqr}\\\")\\noutlier_ZIPCode = data.loc[\\n    np.abs(data[\\\"ZIPCode\\\"] - data[\\\"ZIPCode\\\"].median()) > ZIPCode_4iqr, \\\"ZIPCode\\\"\\n]\\noutlier_ZIPCode\";\n",
       "                var nbb_cells = Jupyter.notebook.get_cells();\n",
       "                for (var i = 0; i < nbb_cells.length; ++i) {\n",
       "                    if (nbb_cells[i].input_prompt_number == nbb_cell_id) {\n",
       "                        if (nbb_cells[i].get_text() == nbb_unformatted_code) {\n",
       "                             nbb_cells[i].set_text(nbb_formatted_code);\n",
       "                        }\n",
       "                        break;\n",
       "                    }\n",
       "                }\n",
       "            }, 500);\n",
       "            "
      ],
      "text/plain": [
       "<IPython.core.display.Javascript object>"
      ]
     },
     "metadata": {},
     "output_type": "display_data"
    }
   ],
   "source": [
    "quartiles = np.quantile(data[\"ZIPCode\"][data[\"ZIPCode\"].notnull()], [0.25, 0.75])\n",
    "ZIPCode_4iqr = 4 * (quartiles[1] - quartiles[0])\n",
    "print(f\"Q1 = {quartiles[0]}, Q3 = {quartiles[1]}, 4*IQR = {ZIPCode_4iqr}\")\n",
    "outlier_ZIPCode = data.loc[\n",
    "    np.abs(data[\"ZIPCode\"] - data[\"ZIPCode\"].median()) > ZIPCode_4iqr, \"ZIPCode\"\n",
    "]\n",
    "outlier_ZIPCode"
   ]
  },
  {
   "cell_type": "markdown",
   "id": "2bf04588",
   "metadata": {},
   "source": [
    "### [CCAvg]"
   ]
  },
  {
   "cell_type": "code",
   "execution_count": 71,
   "id": "be2d9868",
   "metadata": {
    "scrolled": true
   },
   "outputs": [
    {
     "data": {
      "image/png": "[encoded data removed]",
      "text/plain": [
       "<Figure size 864x504 with 2 Axes>"
      ]
     },
     "metadata": {
      "needs_background": "light"
     },
     "output_type": "display_data"
    },
    {
     "data": {
      "application/javascript": [
       "\n",
       "            setTimeout(function() {\n",
       "                var nbb_cell_id = 71;\n",
       "                var nbb_unformatted_code = \"histogram_boxplot(data, \\\"CCAvg\\\")\";\n",
       "                var nbb_formatted_code = \"histogram_boxplot(data, \\\"CCAvg\\\")\";\n",
       "                var nbb_cells = Jupyter.notebook.get_cells();\n",
       "                for (var i = 0; i < nbb_cells.length; ++i) {\n",
       "                    if (nbb_cells[i].input_prompt_number == nbb_cell_id) {\n",
       "                        if (nbb_cells[i].get_text() == nbb_unformatted_code) {\n",
       "                             nbb_cells[i].set_text(nbb_formatted_code);\n",
       "                        }\n",
       "                        break;\n",
       "                    }\n",
       "                }\n",
       "            }, 500);\n",
       "            "
      ],
      "text/plain": [
       "<IPython.core.display.Javascript object>"
      ]
     },
     "metadata": {},
     "output_type": "display_data"
    }
   ],
   "source": [
    "histogram_boxplot(data, \"CCAvg\")"
   ]
  },
  {
   "cell_type": "markdown",
   "id": "e47fc2e2",
   "metadata": {},
   "source": [
    "#### Observation.\n",
    "1. The distribution is right-skewed, and Average spending on credit cards per month (in thousand dollars) is below 2. The median value is 1.5"
   ]
  },
  {
   "cell_type": "markdown",
   "id": "d73553df",
   "metadata": {},
   "source": [
    "### Outlier - Treatment\n",
    "## [CCAvg]"
   ]
  },
  {
   "cell_type": "code",
   "execution_count": 72,
   "id": "d65d6655",
   "metadata": {},
   "outputs": [
    {
     "name": "stdout",
     "output_type": "stream",
     "text": [
      "Q1 = 0.7, Q3 = 2.5, 4*IQR = 7.2\n"
     ]
    },
    {
     "data": {
      "text/plain": [
       "9        8.9\n",
       "787     10.0\n",
       "881      8.8\n",
       "917      8.8\n",
       "1277     8.8\n",
       "1339     9.0\n",
       "2101    10.0\n",
       "2337    10.0\n",
       "2447     8.8\n",
       "2769     8.8\n",
       "2988     8.8\n",
       "3312     8.8\n",
       "3804     8.8\n",
       "3822     9.0\n",
       "3943     9.3\n",
       "4225     8.8\n",
       "Name: CCAvg, dtype: float64"
      ]
     },
     "execution_count": 72,
     "metadata": {},
     "output_type": "execute_result"
    },
    {
     "data": {
      "application/javascript": [
       "\n",
       "            setTimeout(function() {\n",
       "                var nbb_cell_id = 72;\n",
       "                var nbb_unformatted_code = \"quartiles = np.quantile(data[\\\"CCAvg\\\"][data[\\\"CCAvg\\\"].notnull()], [0.25, 0.75])\\nCCAvg_4iqr = 4 * (quartiles[1] - quartiles[0])\\nprint(f\\\"Q1 = {quartiles[0]}, Q3 = {quartiles[1]}, 4*IQR = {CCAvg_4iqr}\\\")\\noutlier_CCAvg = data.loc[\\n    np.abs(data[\\\"CCAvg\\\"] - data[\\\"CCAvg\\\"].median()) > CCAvg_4iqr, \\\"CCAvg\\\"\\n]\\noutlier_CCAvg\";\n",
       "                var nbb_formatted_code = \"quartiles = np.quantile(data[\\\"CCAvg\\\"][data[\\\"CCAvg\\\"].notnull()], [0.25, 0.75])\\nCCAvg_4iqr = 4 * (quartiles[1] - quartiles[0])\\nprint(f\\\"Q1 = {quartiles[0]}, Q3 = {quartiles[1]}, 4*IQR = {CCAvg_4iqr}\\\")\\noutlier_CCAvg = data.loc[\\n    np.abs(data[\\\"CCAvg\\\"] - data[\\\"CCAvg\\\"].median()) > CCAvg_4iqr, \\\"CCAvg\\\"\\n]\\noutlier_CCAvg\";\n",
       "                var nbb_cells = Jupyter.notebook.get_cells();\n",
       "                for (var i = 0; i < nbb_cells.length; ++i) {\n",
       "                    if (nbb_cells[i].input_prompt_number == nbb_cell_id) {\n",
       "                        if (nbb_cells[i].get_text() == nbb_unformatted_code) {\n",
       "                             nbb_cells[i].set_text(nbb_formatted_code);\n",
       "                        }\n",
       "                        break;\n",
       "                    }\n",
       "                }\n",
       "            }, 500);\n",
       "            "
      ],
      "text/plain": [
       "<IPython.core.display.Javascript object>"
      ]
     },
     "metadata": {},
     "output_type": "display_data"
    }
   ],
   "source": [
    "quartiles = np.quantile(data[\"CCAvg\"][data[\"CCAvg\"].notnull()], [0.25, 0.75])\n",
    "CCAvg_4iqr = 4 * (quartiles[1] - quartiles[0])\n",
    "print(f\"Q1 = {quartiles[0]}, Q3 = {quartiles[1]}, 4*IQR = {CCAvg_4iqr}\")\n",
    "outlier_CCAvg = data.loc[\n",
    "    np.abs(data[\"CCAvg\"] - data[\"CCAvg\"].median()) > CCAvg_4iqr, \"CCAvg\"\n",
    "]\n",
    "outlier_CCAvg"
   ]
  },
  {
   "cell_type": "markdown",
   "id": "9d29d669",
   "metadata": {},
   "source": [
    "#### Observation.\n",
    "1. The distribution is heavily right-skewed"
   ]
  },
  {
   "cell_type": "markdown",
   "id": "1078dbf0",
   "metadata": {},
   "source": [
    "###  [Mortgage]"
   ]
  },
  {
   "cell_type": "code",
   "execution_count": 73,
   "id": "73e89477",
   "metadata": {},
   "outputs": [
    {
     "data": {
      "image/png": "[encoded data removed]",
      "text/plain": [
       "<Figure size 864x504 with 2 Axes>"
      ]
     },
     "metadata": {
      "needs_background": "light"
     },
     "output_type": "display_data"
    },
    {
     "data": {
      "application/javascript": [
       "\n",
       "            setTimeout(function() {\n",
       "                var nbb_cell_id = 73;\n",
       "                var nbb_unformatted_code = \"histogram_boxplot(data, \\\"Mortgage\\\")\";\n",
       "                var nbb_formatted_code = \"histogram_boxplot(data, \\\"Mortgage\\\")\";\n",
       "                var nbb_cells = Jupyter.notebook.get_cells();\n",
       "                for (var i = 0; i < nbb_cells.length; ++i) {\n",
       "                    if (nbb_cells[i].input_prompt_number == nbb_cell_id) {\n",
       "                        if (nbb_cells[i].get_text() == nbb_unformatted_code) {\n",
       "                             nbb_cells[i].set_text(nbb_formatted_code);\n",
       "                        }\n",
       "                        break;\n",
       "                    }\n",
       "                }\n",
       "            }, 500);\n",
       "            "
      ],
      "text/plain": [
       "<IPython.core.display.Javascript object>"
      ]
     },
     "metadata": {},
     "output_type": "display_data"
    }
   ],
   "source": [
    "histogram_boxplot(data, \"Mortgage\")"
   ]
  },
  {
   "cell_type": "markdown",
   "id": "d5a62b22",
   "metadata": {},
   "source": [
    "### Outlier- Treatment \n",
    "## [Mortgage]"
   ]
  },
  {
   "cell_type": "code",
   "execution_count": 74,
   "id": "8972616d",
   "metadata": {},
   "outputs": [
    {
     "name": "stdout",
     "output_type": "stream",
     "text": [
      "Q1 = 0.0, Q3 = 101.0, 4*IQR = 404.0\n"
     ]
    },
    {
     "data": {
      "text/plain": [
       "42      412\n",
       "59      455\n",
       "303     617\n",
       "354     419\n",
       "365     466\n",
       "459     458\n",
       "473     547\n",
       "479     470\n",
       "570     485\n",
       "684     449\n",
       "782     587\n",
       "952     524\n",
       "1111    442\n",
       "1167    475\n",
       "1273    437\n",
       "1277    428\n",
       "1359    433\n",
       "1372    483\n",
       "1623    455\n",
       "1674    421\n",
       "1716    565\n",
       "1783    601\n",
       "1789    567\n",
       "1937    589\n",
       "2041    535\n",
       "2217    446\n",
       "2319    422\n",
       "2382    428\n",
       "2394    505\n",
       "2443    422\n",
       "2541    569\n",
       "2653    408\n",
       "2668    406\n",
       "2687    452\n",
       "2714    432\n",
       "2753    477\n",
       "2769    582\n",
       "2812    467\n",
       "2841    565\n",
       "2934    635\n",
       "2946    437\n",
       "2956    522\n",
       "2989    496\n",
       "3012    415\n",
       "3021    461\n",
       "3357    408\n",
       "3373    442\n",
       "3411    427\n",
       "3470    429\n",
       "3472    431\n",
       "3515    508\n",
       "3571    416\n",
       "3608    553\n",
       "3662    500\n",
       "3702    410\n",
       "3776    449\n",
       "3945    428\n",
       "4016    427\n",
       "4238    464\n",
       "4240    509\n",
       "4294    481\n",
       "4345    577\n",
       "4422    422\n",
       "4541    405\n",
       "4585    571\n",
       "4655    581\n",
       "4672    550\n",
       "4812    612\n",
       "4842    590\n",
       "4859    541\n",
       "Name: Mortgage, dtype: int64"
      ]
     },
     "execution_count": 74,
     "metadata": {},
     "output_type": "execute_result"
    },
    {
     "data": {
      "application/javascript": [
       "\n",
       "            setTimeout(function() {\n",
       "                var nbb_cell_id = 74;\n",
       "                var nbb_unformatted_code = \"quartiles = np.quantile(data[\\\"Mortgage\\\"][data[\\\"Mortgage\\\"].notnull()], [0.25, 0.75])\\nMortgage_4iqr = 4 * (quartiles[1] - quartiles[0])\\nprint(f\\\"Q1 = {quartiles[0]}, Q3 = {quartiles[1]}, 4*IQR = {Mortgage_4iqr}\\\")\\noutlier_Mortgage = data.loc[\\n    np.abs(data[\\\"Mortgage\\\"] - data[\\\"Mortgage\\\"].median()) > Mortgage_4iqr, \\\"Mortgage\\\"\\n]\\noutlier_Mortgage\";\n",
       "                var nbb_formatted_code = \"quartiles = np.quantile(data[\\\"Mortgage\\\"][data[\\\"Mortgage\\\"].notnull()], [0.25, 0.75])\\nMortgage_4iqr = 4 * (quartiles[1] - quartiles[0])\\nprint(f\\\"Q1 = {quartiles[0]}, Q3 = {quartiles[1]}, 4*IQR = {Mortgage_4iqr}\\\")\\noutlier_Mortgage = data.loc[\\n    np.abs(data[\\\"Mortgage\\\"] - data[\\\"Mortgage\\\"].median()) > Mortgage_4iqr, \\\"Mortgage\\\"\\n]\\noutlier_Mortgage\";\n",
       "                var nbb_cells = Jupyter.notebook.get_cells();\n",
       "                for (var i = 0; i < nbb_cells.length; ++i) {\n",
       "                    if (nbb_cells[i].input_prompt_number == nbb_cell_id) {\n",
       "                        if (nbb_cells[i].get_text() == nbb_unformatted_code) {\n",
       "                             nbb_cells[i].set_text(nbb_formatted_code);\n",
       "                        }\n",
       "                        break;\n",
       "                    }\n",
       "                }\n",
       "            }, 500);\n",
       "            "
      ],
      "text/plain": [
       "<IPython.core.display.Javascript object>"
      ]
     },
     "metadata": {},
     "output_type": "display_data"
    }
   ],
   "source": [
    "quartiles = np.quantile(data[\"Mortgage\"][data[\"Mortgage\"].notnull()], [0.25, 0.75])\n",
    "Mortgage_4iqr = 4 * (quartiles[1] - quartiles[0])\n",
    "print(f\"Q1 = {quartiles[0]}, Q3 = {quartiles[1]}, 4*IQR = {Mortgage_4iqr}\")\n",
    "outlier_Mortgage = data.loc[\n",
    "    np.abs(data[\"Mortgage\"] - data[\"Mortgage\"].median()) > Mortgage_4iqr, \"Mortgage\"\n",
    "]\n",
    "outlier_Mortgage"
   ]
  },
  {
   "cell_type": "markdown",
   "id": "8a7a1c7b",
   "metadata": {},
   "source": [
    "## UNIVARIANT ANALYSIS For the Categorical Variables"
   ]
  },
  {
   "cell_type": "code",
   "execution_count": 75,
   "id": "ae8bcdd9",
   "metadata": {},
   "outputs": [
    {
     "data": {
      "application/javascript": [
       "\n",
       "            setTimeout(function() {\n",
       "                var nbb_cell_id = 75;\n",
       "                var nbb_unformatted_code = \"# function to create labeled barplots\\n\\n\\ndef labeled_barplot(data, feature, perc=False, n=None):\\n    \\\"\\\"\\\"\\n    Barplot with percentage at the top\\n\\n    data: dataframe\\n    feature: dataframe column\\n    perc: whether to display percentages instead of count (default is False)\\n    n: displays the top n category levels (default is None, i.e., display all levels)\\n    \\\"\\\"\\\"\\n\\n    total = len(data[feature])  # length of the column\\n    count = data[feature].nunique()\\n    if n is None:\\n        plt.figure(figsize=(count + 1, 5))\\n    else:\\n        plt.figure(figsize=(n + 1, 5))\\n\\n    plt.xticks(rotation=90, fontsize=15)\\n    ax = sns.countplot(\\n        data=data,\\n        x=feature,\\n        palette=\\\"Paired\\\",\\n        order=data[feature].value_counts().index[:n].sort_values(),\\n    )\\n\\n    for p in ax.patches:\\n        if perc == True:\\n            label = \\\"{:.1f}%\\\".format(\\n                100 * p.get_height() / total\\n            )  # percentage of each class of the category\\n        else:\\n            label = p.get_height()  # count of each level of the category\\n\\n        x = p.get_x() + p.get_width() / 2  # width of the plot\\n        y = p.get_height()  # height of the plot\\n\\n        ax.annotate(\\n            label,\\n            (x, y),\\n            ha=\\\"center\\\",\\n            va=\\\"center\\\",\\n            size=12,\\n            xytext=(0, 5),\\n            textcoords=\\\"offset points\\\",\\n        )  # annotate the percentage\\n\\n    plt.show()  # show the plot\";\n",
       "                var nbb_formatted_code = \"# function to create labeled barplots\\n\\n\\ndef labeled_barplot(data, feature, perc=False, n=None):\\n    \\\"\\\"\\\"\\n    Barplot with percentage at the top\\n\\n    data: dataframe\\n    feature: dataframe column\\n    perc: whether to display percentages instead of count (default is False)\\n    n: displays the top n category levels (default is None, i.e., display all levels)\\n    \\\"\\\"\\\"\\n\\n    total = len(data[feature])  # length of the column\\n    count = data[feature].nunique()\\n    if n is None:\\n        plt.figure(figsize=(count + 1, 5))\\n    else:\\n        plt.figure(figsize=(n + 1, 5))\\n\\n    plt.xticks(rotation=90, fontsize=15)\\n    ax = sns.countplot(\\n        data=data,\\n        x=feature,\\n        palette=\\\"Paired\\\",\\n        order=data[feature].value_counts().index[:n].sort_values(),\\n    )\\n\\n    for p in ax.patches:\\n        if perc == True:\\n            label = \\\"{:.1f}%\\\".format(\\n                100 * p.get_height() / total\\n            )  # percentage of each class of the category\\n        else:\\n            label = p.get_height()  # count of each level of the category\\n\\n        x = p.get_x() + p.get_width() / 2  # width of the plot\\n        y = p.get_height()  # height of the plot\\n\\n        ax.annotate(\\n            label,\\n            (x, y),\\n            ha=\\\"center\\\",\\n            va=\\\"center\\\",\\n            size=12,\\n            xytext=(0, 5),\\n            textcoords=\\\"offset points\\\",\\n        )  # annotate the percentage\\n\\n    plt.show()  # show the plot\";\n",
       "                var nbb_cells = Jupyter.notebook.get_cells();\n",
       "                for (var i = 0; i < nbb_cells.length; ++i) {\n",
       "                    if (nbb_cells[i].input_prompt_number == nbb_cell_id) {\n",
       "                        if (nbb_cells[i].get_text() == nbb_unformatted_code) {\n",
       "                             nbb_cells[i].set_text(nbb_formatted_code);\n",
       "                        }\n",
       "                        break;\n",
       "                    }\n",
       "                }\n",
       "            }, 500);\n",
       "            "
      ],
      "text/plain": [
       "<IPython.core.display.Javascript object>"
      ]
     },
     "metadata": {},
     "output_type": "display_data"
    }
   ],
   "source": [
    "# function to create labeled barplots\n",
    "\n",
    "\n",
    "def labeled_barplot(data, feature, perc=False, n=None):\n",
    "    \"\"\"\n",
    "    Barplot with percentage at the top\n",
    "\n",
    "    data: dataframe\n",
    "    feature: dataframe column\n",
    "    perc: whether to display percentages instead of count (default is False)\n",
    "    n: displays the top n category levels (default is None, i.e., display all levels)\n",
    "    \"\"\"\n",
    "\n",
    "    total = len(data[feature])  # length of the column\n",
    "    count = data[feature].nunique()\n",
    "    if n is None:\n",
    "        plt.figure(figsize=(count + 1, 5))\n",
    "    else:\n",
    "        plt.figure(figsize=(n + 1, 5))\n",
    "\n",
    "    plt.xticks(rotation=90, fontsize=15)\n",
    "    ax = sns.countplot(\n",
    "        data=data,\n",
    "        x=feature,\n",
    "        palette=\"Paired\",\n",
    "        order=data[feature].value_counts().index[:n].sort_values(),\n",
    "    )\n",
    "\n",
    "    for p in ax.patches:\n",
    "        if perc == True:\n",
    "            label = \"{:.1f}%\".format(\n",
    "                100 * p.get_height() / total\n",
    "            )  # percentage of each class of the category\n",
    "        else:\n",
    "            label = p.get_height()  # count of each level of the category\n",
    "\n",
    "        x = p.get_x() + p.get_width() / 2  # width of the plot\n",
    "        y = p.get_height()  # height of the plot\n",
    "\n",
    "        ax.annotate(\n",
    "            label,\n",
    "            (x, y),\n",
    "            ha=\"center\",\n",
    "            va=\"center\",\n",
    "            size=12,\n",
    "            xytext=(0, 5),\n",
    "            textcoords=\"offset points\",\n",
    "        )  # annotate the percentage\n",
    "\n",
    "    plt.show()  # show the plot"
   ]
  },
  {
   "cell_type": "markdown",
   "id": "72ab3c55",
   "metadata": {},
   "source": [
    "## Family"
   ]
  },
  {
   "cell_type": "code",
   "execution_count": 76,
   "id": "bc689c4d",
   "metadata": {},
   "outputs": [
    {
     "data": {
      "image/png": "[encoded data removed]",
      "text/plain": [
       "<Figure size 792x360 with 1 Axes>"
      ]
     },
     "metadata": {
      "needs_background": "light"
     },
     "output_type": "display_data"
    },
    {
     "data": {
      "application/javascript": [
       "\n",
       "            setTimeout(function() {\n",
       "                var nbb_cell_id = 76;\n",
       "                var nbb_unformatted_code = \"labeled_barplot(data, \\\"Family\\\", perc=True, n=10)\";\n",
       "                var nbb_formatted_code = \"labeled_barplot(data, \\\"Family\\\", perc=True, n=10)\";\n",
       "                var nbb_cells = Jupyter.notebook.get_cells();\n",
       "                for (var i = 0; i < nbb_cells.length; ++i) {\n",
       "                    if (nbb_cells[i].input_prompt_number == nbb_cell_id) {\n",
       "                        if (nbb_cells[i].get_text() == nbb_unformatted_code) {\n",
       "                             nbb_cells[i].set_text(nbb_formatted_code);\n",
       "                        }\n",
       "                        break;\n",
       "                    }\n",
       "                }\n",
       "            }, 500);\n",
       "            "
      ],
      "text/plain": [
       "<IPython.core.display.Javascript object>"
      ]
     },
     "metadata": {},
     "output_type": "display_data"
    }
   ],
   "source": [
    "labeled_barplot(data, \"Family\", perc=True, n=10)"
   ]
  },
  {
   "cell_type": "markdown",
   "id": "06c8d045",
   "metadata": {},
   "source": [
    "#### Observations.\n",
    "1. The data contains 4 different Family sizes of the customer.\n",
    "2. Most customers have a family size of 1."
   ]
  },
  {
   "cell_type": "markdown",
   "id": "7bbda7dc",
   "metadata": {},
   "source": [
    "## Education"
   ]
  },
  {
   "cell_type": "code",
   "execution_count": 77,
   "id": "8b11c439",
   "metadata": {},
   "outputs": [
    {
     "data": {
      "image/png": "[encoded data removed]",
      "text/plain": [
       "<Figure size 792x360 with 1 Axes>"
      ]
     },
     "metadata": {
      "needs_background": "light"
     },
     "output_type": "display_data"
    },
    {
     "data": {
      "application/javascript": [
       "\n",
       "            setTimeout(function() {\n",
       "                var nbb_cell_id = 77;\n",
       "                var nbb_unformatted_code = \"labeled_barplot(data, \\\"Education\\\", perc=True, n=10)\";\n",
       "                var nbb_formatted_code = \"labeled_barplot(data, \\\"Education\\\", perc=True, n=10)\";\n",
       "                var nbb_cells = Jupyter.notebook.get_cells();\n",
       "                for (var i = 0; i < nbb_cells.length; ++i) {\n",
       "                    if (nbb_cells[i].input_prompt_number == nbb_cell_id) {\n",
       "                        if (nbb_cells[i].get_text() == nbb_unformatted_code) {\n",
       "                             nbb_cells[i].set_text(nbb_formatted_code);\n",
       "                        }\n",
       "                        break;\n",
       "                    }\n",
       "                }\n",
       "            }, 500);\n",
       "            "
      ],
      "text/plain": [
       "<IPython.core.display.Javascript object>"
      ]
     },
     "metadata": {},
     "output_type": "display_data"
    }
   ],
   "source": [
    "labeled_barplot(data, \"Education\", perc=True, n=10)"
   ]
  },
  {
   "cell_type": "markdown",
   "id": "40c2174d",
   "metadata": {},
   "source": [
    "#### Observations.\n",
    "1. The data contains 3 customer Education Levels. 1: Undergrad; 2: Graduate;3: Advanced/Professional\n",
    "2. Majority of the customers only have an Undergrad degree."
   ]
  },
  {
   "cell_type": "markdown",
   "id": "7358a930",
   "metadata": {},
   "source": [
    "## Personal Loan"
   ]
  },
  {
   "cell_type": "code",
   "execution_count": 78,
   "id": "d202b8af",
   "metadata": {},
   "outputs": [
    {
     "data": {
      "image/png": "[encoded data removed]",
      "text/plain": [
       "<Figure size 216x360 with 1 Axes>"
      ]
     },
     "metadata": {
      "needs_background": "light"
     },
     "output_type": "display_data"
    },
    {
     "data": {
      "application/javascript": [
       "\n",
       "            setTimeout(function() {\n",
       "                var nbb_cell_id = 78;\n",
       "                var nbb_unformatted_code = \"labeled_barplot(data, \\\"Personal_Loan\\\", perc=True)\";\n",
       "                var nbb_formatted_code = \"labeled_barplot(data, \\\"Personal_Loan\\\", perc=True)\";\n",
       "                var nbb_cells = Jupyter.notebook.get_cells();\n",
       "                for (var i = 0; i < nbb_cells.length; ++i) {\n",
       "                    if (nbb_cells[i].input_prompt_number == nbb_cell_id) {\n",
       "                        if (nbb_cells[i].get_text() == nbb_unformatted_code) {\n",
       "                             nbb_cells[i].set_text(nbb_formatted_code);\n",
       "                        }\n",
       "                        break;\n",
       "                    }\n",
       "                }\n",
       "            }, 500);\n",
       "            "
      ],
      "text/plain": [
       "<IPython.core.display.Javascript object>"
      ]
     },
     "metadata": {},
     "output_type": "display_data"
    }
   ],
   "source": [
    "labeled_barplot(data, \"Personal_Loan\", perc=True)"
   ]
  },
  {
   "cell_type": "markdown",
   "id": "2473195e",
   "metadata": {},
   "source": [
    "#### Observations.\n",
    "1. Majority (90.4%) of the customers Did not accept the personal loan offered in the last campaign"
   ]
  },
  {
   "cell_type": "markdown",
   "id": "7ddeb969",
   "metadata": {},
   "source": [
    "## Securities_Account"
   ]
  },
  {
   "cell_type": "code",
   "execution_count": 79,
   "id": "1d29d948",
   "metadata": {},
   "outputs": [
    {
     "data": {
      "image/png": "[encoded data removed]",
      "text/plain": [
       "<Figure size 216x360 with 1 Axes>"
      ]
     },
     "metadata": {
      "needs_background": "light"
     },
     "output_type": "display_data"
    },
    {
     "data": {
      "application/javascript": [
       "\n",
       "            setTimeout(function() {\n",
       "                var nbb_cell_id = 79;\n",
       "                var nbb_unformatted_code = \"labeled_barplot(data, \\\"Securities_Account\\\", perc=True)\";\n",
       "                var nbb_formatted_code = \"labeled_barplot(data, \\\"Securities_Account\\\", perc=True)\";\n",
       "                var nbb_cells = Jupyter.notebook.get_cells();\n",
       "                for (var i = 0; i < nbb_cells.length; ++i) {\n",
       "                    if (nbb_cells[i].input_prompt_number == nbb_cell_id) {\n",
       "                        if (nbb_cells[i].get_text() == nbb_unformatted_code) {\n",
       "                             nbb_cells[i].set_text(nbb_formatted_code);\n",
       "                        }\n",
       "                        break;\n",
       "                    }\n",
       "                }\n",
       "            }, 500);\n",
       "            "
      ],
      "text/plain": [
       "<IPython.core.display.Javascript object>"
      ]
     },
     "metadata": {},
     "output_type": "display_data"
    }
   ],
   "source": [
    "labeled_barplot(data, \"Securities_Account\", perc=True)"
   ]
  },
  {
   "cell_type": "markdown",
   "id": "0e295c33",
   "metadata": {},
   "source": [
    "#### Observations.\n",
    "1. 89.6% of the customers do not have securities account with the bank."
   ]
  },
  {
   "cell_type": "markdown",
   "id": "134e6d17",
   "metadata": {},
   "source": [
    "## CD_Account"
   ]
  },
  {
   "cell_type": "code",
   "execution_count": 80,
   "id": "6c7607b4",
   "metadata": {},
   "outputs": [
    {
     "data": {
      "image/png": "[encoded data removed]",
      "text/plain": [
       "<Figure size 216x360 with 1 Axes>"
      ]
     },
     "metadata": {
      "needs_background": "light"
     },
     "output_type": "display_data"
    },
    {
     "data": {
      "application/javascript": [
       "\n",
       "            setTimeout(function() {\n",
       "                var nbb_cell_id = 80;\n",
       "                var nbb_unformatted_code = \"labeled_barplot(data, \\\"CD_Account\\\", perc=True)\";\n",
       "                var nbb_formatted_code = \"labeled_barplot(data, \\\"CD_Account\\\", perc=True)\";\n",
       "                var nbb_cells = Jupyter.notebook.get_cells();\n",
       "                for (var i = 0; i < nbb_cells.length; ++i) {\n",
       "                    if (nbb_cells[i].input_prompt_number == nbb_cell_id) {\n",
       "                        if (nbb_cells[i].get_text() == nbb_unformatted_code) {\n",
       "                             nbb_cells[i].set_text(nbb_formatted_code);\n",
       "                        }\n",
       "                        break;\n",
       "                    }\n",
       "                }\n",
       "            }, 500);\n",
       "            "
      ],
      "text/plain": [
       "<IPython.core.display.Javascript object>"
      ]
     },
     "metadata": {},
     "output_type": "display_data"
    }
   ],
   "source": [
    "labeled_barplot(data, \"CD_Account\", perc=True)"
   ]
  },
  {
   "cell_type": "markdown",
   "id": "49ddc616",
   "metadata": {},
   "source": [
    "#### Observations\n",
    "1. 94% of the customers do not have a certificate of deposit (CD) account with the bank"
   ]
  },
  {
   "cell_type": "markdown",
   "id": "005fd4a5",
   "metadata": {},
   "source": [
    "## Online"
   ]
  },
  {
   "cell_type": "code",
   "execution_count": 81,
   "id": "a03536cd",
   "metadata": {},
   "outputs": [
    {
     "data": {
      "image/png": "[encoded data removed]",
      "text/plain": [
       "<Figure size 216x360 with 1 Axes>"
      ]
     },
     "metadata": {
      "needs_background": "light"
     },
     "output_type": "display_data"
    },
    {
     "data": {
      "application/javascript": [
       "\n",
       "            setTimeout(function() {\n",
       "                var nbb_cell_id = 81;\n",
       "                var nbb_unformatted_code = \"labeled_barplot(data, \\\"Online\\\", perc=True)\";\n",
       "                var nbb_formatted_code = \"labeled_barplot(data, \\\"Online\\\", perc=True)\";\n",
       "                var nbb_cells = Jupyter.notebook.get_cells();\n",
       "                for (var i = 0; i < nbb_cells.length; ++i) {\n",
       "                    if (nbb_cells[i].input_prompt_number == nbb_cell_id) {\n",
       "                        if (nbb_cells[i].get_text() == nbb_unformatted_code) {\n",
       "                             nbb_cells[i].set_text(nbb_formatted_code);\n",
       "                        }\n",
       "                        break;\n",
       "                    }\n",
       "                }\n",
       "            }, 500);\n",
       "            "
      ],
      "text/plain": [
       "<IPython.core.display.Javascript object>"
      ]
     },
     "metadata": {},
     "output_type": "display_data"
    }
   ],
   "source": [
    "labeled_barplot(data, \"Online\", perc=True)"
   ]
  },
  {
   "cell_type": "markdown",
   "id": "63312557",
   "metadata": {},
   "source": [
    "\n",
    "#### Observations.\n",
    "1. Majority (59.7%) of the customers use internet banking facilities"
   ]
  },
  {
   "cell_type": "markdown",
   "id": "85336c6a",
   "metadata": {},
   "source": [
    "## CreditCard"
   ]
  },
  {
   "cell_type": "code",
   "execution_count": 82,
   "id": "d89b16bb",
   "metadata": {},
   "outputs": [
    {
     "data": {
      "image/png": "[encoded data removed]",
      "text/plain": [
       "<Figure size 216x360 with 1 Axes>"
      ]
     },
     "metadata": {
      "needs_background": "light"
     },
     "output_type": "display_data"
    },
    {
     "data": {
      "application/javascript": [
       "\n",
       "            setTimeout(function() {\n",
       "                var nbb_cell_id = 82;\n",
       "                var nbb_unformatted_code = \"labeled_barplot(data, \\\"CreditCard\\\", perc=True)\";\n",
       "                var nbb_formatted_code = \"labeled_barplot(data, \\\"CreditCard\\\", perc=True)\";\n",
       "                var nbb_cells = Jupyter.notebook.get_cells();\n",
       "                for (var i = 0; i < nbb_cells.length; ++i) {\n",
       "                    if (nbb_cells[i].input_prompt_number == nbb_cell_id) {\n",
       "                        if (nbb_cells[i].get_text() == nbb_unformatted_code) {\n",
       "                             nbb_cells[i].set_text(nbb_formatted_code);\n",
       "                        }\n",
       "                        break;\n",
       "                    }\n",
       "                }\n",
       "            }, 500);\n",
       "            "
      ],
      "text/plain": [
       "<IPython.core.display.Javascript object>"
      ]
     },
     "metadata": {},
     "output_type": "display_data"
    }
   ],
   "source": [
    "labeled_barplot(data, \"CreditCard\", perc=True)"
   ]
  },
  {
   "cell_type": "markdown",
   "id": "ec541e65",
   "metadata": {},
   "source": [
    "#### Observations.\n",
    "1. Majority (70.6%) of the customers do not use a credit card issued by any other Bank (excluding All life Bank)."
   ]
  },
  {
   "cell_type": "markdown",
   "id": "5c47ee60",
   "metadata": {},
   "source": [
    "#### Observations.\n",
    "1. Most of the cars are **First** owned."
   ]
  },
  {
   "cell_type": "markdown",
   "id": "96a891f1",
   "metadata": {},
   "source": [
    "# 1.17B Bivariate Analysis.\n",
    "\n",
    "Through bivariate analysis we try to analyze two variables simultaneously. I will try to determine if there is any relationship between two variables from the dataset.\n",
    "\n",
    "For this type of analysis, we can use use:\n",
    "1. Pairplot.\n",
    "2. Heatmap function in seaborn.\n",
    "3. Pointplot.\n",
    "3. Barplot or\n",
    "4. Scatter plot.\n",
    "\n",
    "Exploring the Relationship between numerical variables using **pair plots** and **correlation plots**."
   ]
  },
  {
   "cell_type": "code",
   "execution_count": null,
   "id": "ef486066",
   "metadata": {},
   "outputs": [],
   "source": [
    "sns.pairplot(data=data, hue=\"Personal_Loan\")\n",
    "plt.show()"
   ]
  },
  {
   "cell_type": "code",
   "execution_count": null,
   "id": "2fee2a38",
   "metadata": {},
   "outputs": [],
   "source": [
    "correlation = data.corr()  # creating a 2-D Matrix with correlation plots\n",
    "correlation"
   ]
  },
  {
   "cell_type": "markdown",
   "id": "c4c43a68",
   "metadata": {},
   "source": [
    "## plotting a Heatmap"
   ]
  },
  {
   "cell_type": "code",
   "execution_count": null,
   "id": "033ed582",
   "metadata": {},
   "outputs": [],
   "source": [
    "plt.figure(figsize=(15, 7))\n",
    "sns.heatmap(correlation, annot=True, vmin=-1, vmax=1, fmt=\".2f\", cmap=\"Spectral\")\n",
    "plt.show()"
   ]
  },
  {
   "cell_type": "markdown",
   "id": "1e52deaf",
   "metadata": {},
   "source": [
    "#### Observations.\n",
    "1. The **Age** and the years of professional **Experience** of the customers are highly correlated. 0.99 correlation.\n",
    "2. The **CCAvg**  and the **Income** of the customers are slightly highly(positive) correlated. 0.65 is the correlation.\n",
    "3. The **Personal_Loan**  and the **CCAvg** of the customers have low correlation. 0.37 is the correlation.  \n",
    "4. The **Personal_Loan**  and the **Income** of the customers are correlated. 0.5 is the correlation.  \n",
    "4. Further investigation would be needed on this Dataset.\n"
   ]
  },
  {
   "cell_type": "markdown",
   "id": "bae955eb",
   "metadata": {},
   "source": [
    "### Exploring the categorical features"
   ]
  },
  {
   "cell_type": "markdown",
   "id": "bb4a78de",
   "metadata": {},
   "source": [
    "I will check the relationship betwwen the **Target** variable with some of the **categorical** columns in my data"
   ]
  },
  {
   "cell_type": "code",
   "execution_count": null,
   "id": "315ff07c",
   "metadata": {},
   "outputs": [],
   "source": [
    "# function to plot stacked bar chart\n",
    "\n",
    "\n",
    "def stacked_barplot(data, predictor, target):\n",
    "    \"\"\"\n",
    "    Print the category counts and plot a stacked bar chart\n",
    "\n",
    "    data: dataframe\n",
    "    predictor: independent variable\n",
    "    target: target variable\n",
    "    \"\"\"\n",
    "    count = data[predictor].nunique()\n",
    "    sorter = data[target].value_counts().index[-1]\n",
    "    tab1 = pd.crosstab(data[predictor], data[target], margins=True).sort_values(\n",
    "        by=sorter, ascending=False\n",
    "    )\n",
    "    print(tab1)\n",
    "    print(\"-\" * 120)\n",
    "    tab = pd.crosstab(data[predictor], data[target], normalize=\"index\").sort_values(\n",
    "        by=sorter, ascending=False\n",
    "    )\n",
    "    tab.plot(kind=\"bar\", stacked=True, figsize=(count + 5, 6))\n",
    "    plt.legend(\n",
    "        loc=\"lower left\",\n",
    "        frameon=False,\n",
    "    )\n",
    "    plt.legend(loc=\"upper left\", bbox_to_anchor=(1, 1))\n",
    "    plt.show()"
   ]
  },
  {
   "cell_type": "code",
   "execution_count": null,
   "id": "17e10f35",
   "metadata": {},
   "outputs": [],
   "source": [
    "stacked_barplot(data, \"Education\", \"Personal_Loan\")"
   ]
  },
  {
   "cell_type": "markdown",
   "id": "aa55fc8b",
   "metadata": {},
   "source": [
    "#### Observations\n",
    "The Education Levels of the customers are \n",
    "1: Undergrad; 2: Graduate;3: Advanced/Professional\n",
    " 1. The figure above shows that across all level of education, the number of customer that did not accept the personal loan offered in the last campaign is higher than those that accepted the Loan offer.\n",
    " \n",
    " 2. The data also shows that for customers with higher education level, the number of those that accepted the Loan increased."
   ]
  },
  {
   "cell_type": "code",
   "execution_count": null,
   "id": "06dbae31",
   "metadata": {
    "scrolled": false
   },
   "outputs": [],
   "source": [
    "stacked_barplot(data, \"Securities_Account\", \"Personal_Loan\")"
   ]
  },
  {
   "cell_type": "markdown",
   "id": "fef1fcd2",
   "metadata": {},
   "source": [
    "#### Observations\n",
    "\n",
    "There are two(2) groups of customers:\n",
    "1. The customers that do not have securities account with the bank. \n",
    "2. The customers that have securities account with the bank. \n",
    "3. In both groups, the % of customers that did not accept the **[Personal_Loan]** is greater than those that accepted the loan."
   ]
  },
  {
   "cell_type": "code",
   "execution_count": null,
   "id": "f1f85344",
   "metadata": {},
   "outputs": [],
   "source": [
    "stacked_barplot(data, \"CD_Account\", \"Personal_Loan\")"
   ]
  },
  {
   "cell_type": "markdown",
   "id": "23f799e6",
   "metadata": {},
   "source": [
    "#### Observations\n",
    "\n",
    "There are two(2) groups of customers:\n",
    "1. The customers that have a certificate of deposit (CD) account with the bank. \n",
    "2. The customers that do not have a certificate of deposit (CD) account with the bank. \n",
    "3. In both groups, the % of customers that did not accept the **[Personal_Loan]** is greater than those that accepted the loan.\n",
    "4. Furthermore, the % of customers that did not accept the **[Personal_Loan]** is greater in the group that do not have a **[CD_Account]**."
   ]
  },
  {
   "cell_type": "code",
   "execution_count": null,
   "id": "6d81b82b",
   "metadata": {},
   "outputs": [],
   "source": [
    "stacked_barplot(data, \"Online\", \"Personal_Loan\")\n"
   ]
  },
  {
   "cell_type": "markdown",
   "id": "94249c73",
   "metadata": {},
   "source": [
    "#### Observations\n",
    "\n",
    "There are two(2) groups of customers:\n",
    "1. The customers that use internet banking facilities \n",
    "2. The customers that do not use internet banking facilities \n",
    "3. In both groups, the % of customers that did not accept the **[Personal_Loan]** is greater than those that accepted the loan.\n"
   ]
  },
  {
   "cell_type": "code",
   "execution_count": null,
   "id": "fce5d43c",
   "metadata": {
    "scrolled": true
   },
   "outputs": [],
   "source": [
    "stacked_barplot(data, \"CreditCard\", \"Personal_Loan\")"
   ]
  },
  {
   "cell_type": "markdown",
   "id": "54186d74",
   "metadata": {},
   "source": [
    "#### Observations\n",
    "\n",
    "There are two(2) groups of customers:\n",
    "1. The customers that use a credit card issued by any other Bank (excluding All life Bank)?\n",
    "2. The customers that do not use a credit card issued by any other Bank (excluding All life Bank)?\n",
    "3. In both groups, the % of customers that did not accept the **[Personal_Loan]** is greater than those that accepted the loan.\n"
   ]
  },
  {
   "cell_type": "code",
   "execution_count": null,
   "id": "d164cb26",
   "metadata": {},
   "outputs": [],
   "source": [
    "stacked_barplot(data, \"Family\", \"Personal_Loan\")"
   ]
  },
  {
   "cell_type": "markdown",
   "id": "42d0966b",
   "metadata": {},
   "source": [
    "#### Observations\n",
    "\n",
    "the Family size of the customers are either 1, 2 3 or 4.\n",
    "\n",
    "1. In both groups, the % of customers that did not accept the **[Personal_Loan]** is greater than those that accepted the loan.\n",
    "2. Family size influences the possibility of accepting the **[Personal_Loan]**. \n",
    "3. Higher % of the Customers with higher family size accepted the **[Personal_Loan]**. "
   ]
  },
  {
   "cell_type": "markdown",
   "id": "e5951ac4",
   "metadata": {},
   "source": [
    "####  Personal_Loan vs Age, Experience, Income, ZIPCode, CCAvg and Mortgage\n",
    "       "
   ]
  },
  {
   "cell_type": "code",
   "execution_count": null,
   "id": "8985c2ac",
   "metadata": {
    "scrolled": false
   },
   "outputs": [],
   "source": [
    "cols = data[\n",
    "    [\n",
    "        \"Age\",\n",
    "        \"Experience\",\n",
    "        \"Income\",\n",
    "        \"ZIPCode\",\n",
    "        \"CCAvg\",\n",
    "        \"Mortgage\",\n",
    "    ]\n",
    "].columns.tolist()\n",
    "plt.figure(figsize=(12, 7))\n",
    "\n",
    "for i, variable in enumerate(cols):\n",
    "    plt.subplot(3, 2, i + 1)\n",
    "    sns.boxplot(data[\"Personal_Loan\"], data[variable], palette=\"gnuplot2_r\")\n",
    "    plt.tight_layout()\n",
    "    plt.title(variable)\n",
    "plt.show()"
   ]
  },
  {
   "cell_type": "markdown",
   "id": "b3a88c18",
   "metadata": {},
   "source": [
    "**It is difficult to make an interpretation from the graphs above let's visualize them by removing these outliers (for visualization not from orignal data) to get a better understanding**"
   ]
  },
  {
   "cell_type": "code",
   "execution_count": null,
   "id": "a2f67477",
   "metadata": {},
   "outputs": [],
   "source": [
    "cols = data[\n",
    "    [\n",
    "        \"Age\",\n",
    "        \"Experience\",\n",
    "        \"Income\",\n",
    "        \"ZIPCode\",\n",
    "        \"CCAvg\",\n",
    "        \"Mortgage\",\n",
    "    ]\n",
    "].columns.tolist()\n",
    "plt.figure(figsize=(12, 7))\n",
    "\n",
    "for i, variable in enumerate(cols):\n",
    "    plt.subplot(3, 2, i + 1)\n",
    "    sns.boxplot(\n",
    "        data[\"Personal_Loan\"], data[variable], palette=\"gnuplot2_r\", showfliers=False\n",
    "    )\n",
    "    plt.tight_layout()\n",
    "    plt.title(variable)\n",
    "plt.show()"
   ]
  },
  {
   "cell_type": "markdown",
   "id": "a435287f",
   "metadata": {},
   "source": [
    "### Customer-Level Analysis"
   ]
  },
  {
   "cell_type": "code",
   "execution_count": null,
   "id": "e708210c",
   "metadata": {
    "scrolled": false
   },
   "outputs": [],
   "source": [
    "plt.figure(figsize=(30, 15))\n",
    "sns.boxplot(\n",
    "    data[\"Experience\"],\n",
    "    data[\"Age\"],\n",
    "    hue=data[\"Personal_Loan\"],\n",
    "    palette=\"gnuplot2_r\",\n",
    "    showfliers=False,\n",
    ")\n",
    "plt.legend(bbox_to_anchor=(1.00, 1))\n",
    "plt.show()"
   ]
  },
  {
   "cell_type": "markdown",
   "id": "daacaa4a",
   "metadata": {},
   "source": [
    "#### Observations\n",
    "\n",
    "1. As the years of professional **[experience]** of the customers, the **[Age]** also increases. Hence, older customers are likely to have more years of years of professional experience.\n",
    "2. Some customers within the ranges of **[2 -40]** of professional experience accepted the Personal_Loan.\n",
    "3. Customers with no level of experience did not accept the Personal_Loan. Probably because they had less need for it. \n"
   ]
  },
  {
   "cell_type": "code",
   "execution_count": null,
   "id": "887a4b8d",
   "metadata": {
    "scrolled": false
   },
   "outputs": [],
   "source": [
    "plt.figure(figsize=(30, 15))\n",
    "sns.boxplot(\n",
    "    data[\"CCAvg\"],\n",
    "    data[\"Income\"],\n",
    "    hue=data[\"Personal_Loan\"],\n",
    "    palette=\"gnuplot2_r\",\n",
    "    showfliers=False,\n",
    ")\n",
    "plt.legend(bbox_to_anchor=(1.00, 1))\n",
    "plt.show()"
   ]
  },
  {
   "cell_type": "markdown",
   "id": "815881d8",
   "metadata": {},
   "source": [
    "#### Observations\n",
    "\n",
    "1. Average spending on credit cards per month (in thousand dollars) increased as the **[Income]** of the customer increased. This condition applies to those customers that did not accept the **[Personal_Loan]** offer. Hence, it seems that these group of customers had the freedom to spend more simply because, they do not have to worry about repaying a **[Personal_Loan]**.\n",
    "\n",
    "2. Average spending on credit cards per month (in thousand dollars) was a bit steady as the **[Income]** of the customer increased. This condition applies to those customers that accepted the **[Personal_Loan]** offer. Hence, it seems that for these group of customers, there was less need to spend from a **[Credit -Card]** simply because, they accepted a **[Personal_Loan]**."
   ]
  },
  {
   "cell_type": "code",
   "execution_count": null,
   "id": "14685370",
   "metadata": {},
   "outputs": [],
   "source": [
    "#### plt.figure(figsize=(30, 15))\n",
    "sns.boxplot(\n",
    "    data[\"Experience\"],\n",
    "    data[\"Income\"],\n",
    "    hue=data[\"Personal_Loan\"],\n",
    "    palette=\"gnuplot2_r\",\n",
    "    showfliers=False,\n",
    ")\n",
    "plt.legend(bbox_to_anchor=(1.00, 1))\n",
    "plt.show()"
   ]
  },
  {
   "cell_type": "markdown",
   "id": "81972a8d",
   "metadata": {},
   "source": [
    "#### Observations.\n",
    "1. Customers with high Annual income (in thousand dollars) accepted the **[Personal_Loan]**. These group of customers had years of professional **[experience]** ranging from 1-41.\n",
    "2. Customers with low Annual income below 100 (in thousand dollars) did not accepted the [Personal_Loan]. These group of customers had years of professional [experience] ranging from below 1 to 43."
   ]
  },
  {
   "cell_type": "code",
   "execution_count": null,
   "id": "7ead91d6",
   "metadata": {
    "scrolled": false
   },
   "outputs": [],
   "source": [
    "plt.figure(figsize=(30, 15))\n",
    "sns.boxplot(\n",
    "    data[\"Experience\"],\n",
    "    data[\"CCAvg\"],\n",
    "    hue=data[\"Personal_Loan\"],\n",
    "    palette=\"gnuplot2_r\",\n",
    "    showfliers=False,\n",
    ")\n",
    "plt.legend(bbox_to_anchor=(1.00, 1))\n",
    "plt.show()"
   ]
  },
  {
   "cell_type": "markdown",
   "id": "00d1b5d2",
   "metadata": {},
   "source": [
    "#### Observations\n",
    "1. Most Customers with Average spending on credit cards above 2 (in thousand dollars) per month, accepted the [Personal_Loan]. These group of customers had years of professional [experience] ranging from 1-41.\n",
    "2. Most Customers with Average spending on credit cards below 2 (in thousand dollars) per month, did not accepted the [Personal_Loan].  These group of customers had years of professional [experience] ranging from below 1 to 43."
   ]
  },
  {
   "cell_type": "code",
   "execution_count": null,
   "id": "489c896a",
   "metadata": {},
   "outputs": [],
   "source": [
    "# this will help in making the Python code more structured automatically (good coding practice)\n",
    "%load_ext nb_black\n",
    "\n",
    "# Library to suppress warnings or deprecation notes\n",
    "import warnings\n",
    "\n",
    "warnings.filterwarnings(\"ignore\")\n",
    "\n",
    "# Libraries to help with reading and manipulating data\n",
    "\n",
    "import pandas as pd\n",
    "import numpy as np\n",
    "\n",
    "# Library to split data\n",
    "from sklearn.model_selection import train_test_split\n",
    "\n",
    "# libaries to help with data visualization\n",
    "import matplotlib.pyplot as plt\n",
    "import seaborn as sns\n",
    "\n",
    "# Removes the limit for the number of displayed columns\n",
    "pd.set_option(\"display.max_columns\", None)\n",
    "# Sets the limit for the number of displayed rows\n",
    "pd.set_option(\"display.max_rows\", 200)\n",
    "\n",
    "# Libraries to build decision tree classifier\n",
    "from sklearn.tree import DecisionTreeClassifier\n",
    "from sklearn import tree\n",
    "\n",
    "# To tune different models\n",
    "from sklearn.model_selection import GridSearchCV\n",
    "\n",
    "# To get diferent metric scores\n",
    "from sklearn.metrics import (\n",
    "    f1_score,\n",
    "    accuracy_score,\n",
    "    recall_score,\n",
    "    precision_score,\n",
    "    confusion_matrix,\n",
    "    plot_confusion_matrix,\n",
    "    make_scorer,\n",
    ")"
   ]
  },
  {
   "cell_type": "markdown",
   "id": "7401dde8",
   "metadata": {},
   "source": [
    "# 1.18 STEP C-\n",
    "### Data Preprocessing ***continues*** here- FEATURE ENGINEERING"
   ]
  },
  {
   "cell_type": "markdown",
   "id": "ef61b67f",
   "metadata": {},
   "source": [
    "#### Transformation of Variables"
   ]
  },
  {
   "cell_type": "code",
   "execution_count": null,
   "id": "8d0c8aa2",
   "metadata": {
    "scrolled": true
   },
   "outputs": [],
   "source": [
    "# list of numerical columns\n",
    "dist_cols = [\n",
    "    item for item in data.select_dtypes(include=np.number).columns if \"tag\" not in item\n",
    "]\n",
    "\n",
    "#  plotting a histogram of all Numerical columns\n",
    "\n",
    "plt.figure(figsize=(15, 45))\n",
    "\n",
    "for i in range(len(dist_cols)):\n",
    "    plt.subplot(12, 3, i + 1)\n",
    "    plt.hist(data[dist_cols[i]], bins=50)\n",
    "    # sns.histplot(data=df3, x=dist_cols[i], kde=True)  # you can comment the previous line and run this one to get distribution curves\n",
    "    plt.tight_layout()\n",
    "    plt.title(dist_cols[i], fontsize=25)\n",
    "\n",
    "plt.show()"
   ]
  },
  {
   "cell_type": "markdown",
   "id": "2bd13276",
   "metadata": {},
   "source": [
    "#### Observations.\n",
    "1. The [**Age]** and **[Experience]** features are uniformly distributed.\n",
    "2. Some are close to normal distribution.\n",
    "3. **[Income] and **[CCAvg]** are skewed to the right."
   ]
  },
  {
   "cell_type": "code",
   "execution_count": null,
   "id": "6902b4a7",
   "metadata": {},
   "outputs": [],
   "source": [
    "n_true = len(data.loc[data[\"Personal_Loan\"] == True])\n",
    "n_false = len(data.loc[data[\"Personal_Loan\"] == False])\n",
    "print(\n",
    "    \"Number of true cases: {0} ({1:2.2f}%)\".format(\n",
    "        n_true, (n_true / (n_true + n_false)) * 100\n",
    "    )\n",
    ")\n",
    "print(\n",
    "    \"Number of false cases: {0} ({1:2.2f}%)\".format(\n",
    "        n_false, (n_false / (n_true + n_false)) * 100\n",
    "    )\n",
    ")"
   ]
  },
  {
   "cell_type": "markdown",
   "id": "c7f12ae9",
   "metadata": {},
   "source": [
    "### Creating a copy of the dataframe."
   ]
  },
  {
   "cell_type": "code",
   "execution_count": null,
   "id": "c8923bba",
   "metadata": {},
   "outputs": [],
   "source": [
    "df1 = data.copy()\n",
    "\n"
   ]
  },
  {
   "cell_type": "markdown",
   "id": "c2db3d9a",
   "metadata": {},
   "source": [
    "### Creating dummy variables"
   ]
  },
  {
   "cell_type": "code",
   "execution_count": null,
   "id": "eb085c5e",
   "metadata": {},
   "outputs": [],
   "source": [
    "# creating dummy varibles\n",
    "dummy_data = pd.get_dummies(\n",
    "    df1,\n",
    "    columns=data.select_dtypes(include=[\"object\", \"category\"]).columns.tolist(),\n",
    "    drop_first=True,\n",
    ")\n",
    "\n",
    "dummy_data.head()"
   ]
  },
  {
   "cell_type": "code",
   "execution_count": null,
   "id": "a1b65b75",
   "metadata": {},
   "outputs": [],
   "source": [
    "X = dummy_data.drop(\"Personal_Loan\", axis=1)  # Features\n",
    "y = dummy_data[\"Personal_Loan\"].astype(\"int64\")  # Labels (Target Variable)\n",
    "# converting target to integers - since some functions might not work with bool type"
   ]
  },
  {
   "cell_type": "markdown",
   "id": "5f42603a",
   "metadata": {},
   "source": [
    "## 1.19 Spliting the data \n",
    "We will use 70% of data for training and 30% for testing."
   ]
  },
  {
   "cell_type": "code",
   "execution_count": null,
   "id": "3d44d50d",
   "metadata": {},
   "outputs": [],
   "source": [
    "from sklearn.model_selection import train_test_split\n",
    "\n",
    "\n",
    "# Splitting data into training and test set:\n",
    "X_train, X_test, y_train, y_test = train_test_split(X, y, test_size=0.3, random_state=1)\n",
    "print(X_train.shape, X_test.shape)"
   ]
  },
  {
   "cell_type": "code",
   "execution_count": null,
   "id": "4d351420",
   "metadata": {},
   "outputs": [],
   "source": [
    "print(\"Number of rows in train data =\", X_train.shape[0])\n",
    "print(\"Number of rows in test data =\", X_test.shape[0])"
   ]
  },
  {
   "cell_type": "code",
   "execution_count": null,
   "id": "3063da46",
   "metadata": {},
   "outputs": [],
   "source": [
    "print(\"Percentage of classes in training set:\")\n",
    "print(y_train.value_counts(normalize=True))\n",
    "print(\"Percentage of classes in test set:\")\n",
    "print(y_test.value_counts(normalize=True))"
   ]
  },
  {
   "cell_type": "markdown",
   "id": "cedb1fb6",
   "metadata": {},
   "source": [
    "### Model evaluation criterion\n",
    "\n",
    "### Model can make wrong predictions"
   ]
  },
  {
   "cell_type": "markdown",
   "id": "811de740",
   "metadata": {},
   "source": [
    "# 1.20 Model building - Logistic Regression"
   ]
  },
  {
   "cell_type": "code",
   "execution_count": null,
   "id": "6e976f70",
   "metadata": {},
   "outputs": [],
   "source": [
    "# defining a function to compute different metrics to check performance of a classification model built using sklearn\n",
    "\n",
    "def model_performance_classification_sklearn_with_threshold(model, predictors, target, threshold=0.5):\n",
    "    \"\"\"\n",
    "    Function to compute different metrics, based on the threshold specified, to check classification model performance\n",
    "\n",
    "    model: classifier\n",
    "    predictors: independent variables\n",
    "    target: dependent variable\n",
    "    threshold: threshold for classifying the observation as class 1\n",
    "    \"\"\"\n",
    "\n",
    "    # predicting using the independent variables\n",
    "    pred_prob = model.predict_proba(predictors)[:, 1]\n",
    "    pred_thres = pred_prob > threshold\n",
    "    pred = np.round(pred_thres)\n",
    "\n",
    "    acc = accuracy_score(target, pred)  # to compute Accuracy\n",
    "    recall = recall_score(target, pred)  # to compute Recall\n",
    "    precision = precision_score(target, pred)  # to compute Precision\n",
    "    f1 = f1_score(target, pred)  # to compute F1-score\n",
    "\n",
    "    # creating a dataframe of metrics\n",
    "    df_perf = pd.DataFrame(\n",
    "        {\n",
    "            \"Accuracy\": acc,\n",
    "            \"Recall\": recall,\n",
    "            \"Precision\": precision,\n",
    "            \"F1\": f1,\n",
    "        },\n",
    "        index=[0],\n",
    "    )\n",
    "\n",
    "    return df_perf\n"
   ]
  },
  {
   "cell_type": "code",
   "execution_count": null,
   "id": "9b395459",
   "metadata": {},
   "outputs": [],
   "source": [
    "# defining a function to plot the confusion_matrix of a classification model built using sklearn\n",
    "def confusion_matrix_sklearn_with_threshold(model, predictors, target, threshold=0.5):\n",
    "    \"\"\"\n",
    "    To plot the confusion_matrix, based on the threshold specified, with percentages\n",
    "\n",
    "    model: classifier\n",
    "    predictors: independent variables\n",
    "    target: dependent variable\n",
    "    threshold: threshold for classifying the observation as class 1\n",
    "    \"\"\"\n",
    "    pred_prob = model.predict_proba(predictors)[:, 1]\n",
    "    pred_thres = pred_prob > threshold\n",
    "    y_pred = np.round(pred_thres)\n",
    "\n",
    "    cm = confusion_matrix(target, y_pred)\n",
    "    labels = np.asarray(\n",
    "        [\n",
    "            [\"{0:0.0f}\".format(item) + \"\\n{0:.2%}\".format(item / cm.flatten().sum())]\n",
    "            for item in cm.flatten()\n",
    "        ]\n",
    "    ).reshape(2, 2)\n",
    "\n",
    "    plt.figure(figsize=(6, 4))\n",
    "    sns.heatmap(cm, annot=labels, fmt=\"\")\n",
    "    plt.ylabel(\"True label\")\n",
    "    plt.xlabel(\"Predicted label\")"
   ]
  },
  {
   "cell_type": "markdown",
   "id": "3244202c",
   "metadata": {},
   "source": [
    "### 1.21 Logistic Regression"
   ]
  },
  {
   "cell_type": "code",
   "execution_count": null,
   "id": "1dd5d146",
   "metadata": {},
   "outputs": [],
   "source": [
    "# There are different solvers available in Sklearn logistic regression\n",
    "# The newton-cg solver is faster for high-dimensional data\n",
    "\n",
    "lg = LogisticRegression(solver=\"newton-cg\", random_state=1)\n",
    "model = lg.fit(X_train, y_train)"
   ]
  },
  {
   "cell_type": "markdown",
   "id": "8e302c56",
   "metadata": {},
   "source": [
    "### Finding the coefficients"
   ]
  },
  {
   "cell_type": "code",
   "execution_count": null,
   "id": "2c18eb30",
   "metadata": {
    "scrolled": true
   },
   "outputs": [],
   "source": [
    "# let us check the coefficients and intercept of the model\n",
    "\n",
    "coef_df = pd.DataFrame(\n",
    "    np.append(lg.coef_, lg.intercept_),\n",
    "    index=X_train.columns.tolist() + [\"Intercept\"],\n",
    "    columns=[\"Coefficients\"],\n",
    ")\n",
    "coef_df.T"
   ]
  },
  {
   "cell_type": "markdown",
   "id": "5de823e6",
   "metadata": {},
   "source": [
    "### Coefficient interpretations\n",
    "\n",
    "* Coefficient of **[Age]**, **[Securities_Account], **[Online]** and **[Credit card]** are negative, increase in these will lead to decrease in chances of a customer accepting the **[Personal_Loan]**.\n",
    "\n",
    "* The other Features have positive coefficient. Increase in these will lead to increase in chances of a customer accepting the **[Personal_Loan]**."
   ]
  },
  {
   "cell_type": "markdown",
   "id": "d37fa0be",
   "metadata": {},
   "source": [
    "###  Converting coefficients to odds"
   ]
  },
  {
   "cell_type": "markdown",
   "id": "4c0adfbd",
   "metadata": {},
   "source": [
    "* The coefficients of the logistic regression model are in terms of log(odd), to find the odds we have to take the exponential of the coefficients. \n",
    "* Therefore, **odds =  exp(b)**\n",
    "* The percentage change in odds is given as **odds = (exp(b) - 1) * 100**"
   ]
  },
  {
   "cell_type": "markdown",
   "id": "c67741e9",
   "metadata": {},
   "source": [
    "**Odds from coefficients**"
   ]
  },
  {
   "cell_type": "code",
   "execution_count": null,
   "id": "a0ea1e33",
   "metadata": {},
   "outputs": [],
   "source": [
    "# converting coefficients to odds\n",
    "odds = np.exp(lg.coef_[0])\n",
    "\n",
    "# finding the percentage change\n",
    "perc_change_odds = (np.exp(lg.coef_[0]) - 1) * 100\n",
    "\n",
    "# removing limit from number of columns to display\n",
    "pd.set_option(\"display.max_columns\", None)\n",
    "\n",
    "# adding the odds to a dataframe\n",
    "pd.DataFrame({\"Odds\": odds, \"Change_odd%\": perc_change_odds}, index=X_train.columns).T"
   ]
  },
  {
   "cell_type": "markdown",
   "id": "a94bcffd",
   "metadata": {},
   "source": [
    "#### Checking model performance on training set"
   ]
  },
  {
   "cell_type": "code",
   "execution_count": null,
   "id": "ca8023df",
   "metadata": {},
   "outputs": [],
   "source": [
    "# creating confusion matrix\n",
    "confusion_matrix_sklearn_with_threshold(lg, X_train, y_train)"
   ]
  },
  {
   "cell_type": "code",
   "execution_count": null,
   "id": "ad8536ae",
   "metadata": {},
   "outputs": [],
   "source": [
    "log_reg_model_train_perf = model_performance_classification_sklearn_with_threshold(\n",
    "    lg, X_train, y_train\n",
    ")\n",
    "\n",
    "print(\"Training performance:\")\n",
    "log_reg_model_train_perf"
   ]
  },
  {
   "cell_type": "markdown",
   "id": "a7295170",
   "metadata": {},
   "source": [
    "#### Checking model performance on test set"
   ]
  },
  {
   "cell_type": "code",
   "execution_count": null,
   "id": "265383ea",
   "metadata": {},
   "outputs": [],
   "source": [
    "# creating confusion matrix\n",
    "confusion_matrix_sklearn_with_threshold(lg, X_test, y_test)"
   ]
  },
  {
   "cell_type": "code",
   "execution_count": null,
   "id": "949d8ebf",
   "metadata": {},
   "outputs": [],
   "source": [
    "log_reg_model_test_perf = model_performance_classification_sklearn_with_threshold(\n",
    "    lg, X_test, y_test\n",
    ")\n",
    "\n",
    "print(\"Test set performance:\")\n",
    "log_reg_model_test_perf"
   ]
  },
  {
   "cell_type": "markdown",
   "id": "203ccafb",
   "metadata": {},
   "source": [
    "#### ROC-AUC on training set"
   ]
  },
  {
   "cell_type": "code",
   "execution_count": null,
   "id": "9f7ff6b8",
   "metadata": {},
   "outputs": [],
   "source": [
    "logit_roc_auc_train = roc_auc_score(y_train, lg.predict_proba(X_train)[:, 1])\n",
    "fpr, tpr, thresholds = roc_curve(y_train, lg.predict_proba(X_train)[:, 1])\n",
    "plt.figure(figsize=(7, 5))\n",
    "plt.plot(fpr, tpr, label=\"Logistic Regression (area = %0.2f)\" % logit_roc_auc_train)\n",
    "plt.plot([0, 1], [0, 1], \"r--\")\n",
    "plt.xlim([0.0, 1.0])\n",
    "plt.ylim([0.0, 1.05])\n",
    "plt.xlabel(\"False Positive Rate\")\n",
    "plt.ylabel(\"True Positive Rate\")\n",
    "plt.title(\"Receiver operating characteristic\")\n",
    "plt.legend(loc=\"lower right\")\n",
    "plt.show()"
   ]
  },
  {
   "cell_type": "markdown",
   "id": "ddc5fdd5",
   "metadata": {},
   "source": [
    "* ROC-AUC on test set"
   ]
  },
  {
   "cell_type": "code",
   "execution_count": null,
   "id": "49d753c0",
   "metadata": {},
   "outputs": [],
   "source": [
    "logit_roc_auc_test = roc_auc_score(y_test, lg.predict_proba(X_test)[:, 1])\n",
    "fpr, tpr, thresholds = roc_curve(y_test, lg.predict_proba(X_test)[:, 1])\n",
    "plt.figure(figsize=(7, 5))\n",
    "plt.plot(fpr, tpr, label=\"Logistic Regression (area = %0.2f)\" % logit_roc_auc_test)\n",
    "plt.plot([0, 1], [0, 1], \"r--\")\n",
    "plt.xlim([0.0, 1.0])\n",
    "plt.ylim([0.0, 1.05])\n",
    "plt.xlabel(\"False Positive Rate\")\n",
    "plt.ylabel(\"True Positive Rate\")\n",
    "plt.title(\"Receiver operating characteristic\")\n",
    "plt.legend(loc=\"lower right\")\n",
    "plt.show()"
   ]
  },
  {
   "cell_type": "markdown",
   "id": "03a958e7",
   "metadata": {},
   "source": [
    "* Model is giving a generalized performance."
   ]
  },
  {
   "cell_type": "markdown",
   "id": "153c08d9",
   "metadata": {},
   "source": [
    "### Model Performance Improvement"
   ]
  },
  {
   "cell_type": "markdown",
   "id": "8b4e7b41",
   "metadata": {},
   "source": [
    "Let's see if the f1 score can be improved further, by changing the model threshold using AUC-ROC Curve."
   ]
  },
  {
   "cell_type": "markdown",
   "id": "17512333",
   "metadata": {},
   "source": [
    "### Optimal threshold using AUC-ROC curve"
   ]
  },
  {
   "cell_type": "code",
   "execution_count": null,
   "id": "5971d52d",
   "metadata": {},
   "outputs": [],
   "source": [
    "# Optimal threshold as per AUC-ROC curve\n",
    "# The optimal cut off would be where tpr is high and fpr is low\n",
    "fpr, tpr, thresholds = roc_curve(y_train, lg.predict_proba(X_train)[:, 1])\n",
    "\n",
    "optimal_idx = np.argmax(tpr - fpr)\n",
    "optimal_threshold_auc_roc = thresholds[optimal_idx]\n",
    "print(optimal_threshold_auc_roc)"
   ]
  },
  {
   "cell_type": "markdown",
   "id": "200f0f2f",
   "metadata": {},
   "source": [
    "#### Checking model performance on training set"
   ]
  },
  {
   "cell_type": "code",
   "execution_count": null,
   "id": "8d586435",
   "metadata": {},
   "outputs": [],
   "source": [
    "# creating confusion matrix\n",
    "confusion_matrix_sklearn_with_threshold(\n",
    "    lg, X_train, y_train, threshold=optimal_threshold_auc_roc\n",
    ")"
   ]
  },
  {
   "cell_type": "code",
   "execution_count": null,
   "id": "4f05a0fa",
   "metadata": {},
   "outputs": [],
   "source": [
    "# checking model performance for this model\n",
    "log_reg_model_train_perf_threshold_auc_roc = (\n",
    "    model_performance_classification_sklearn_with_threshold(\n",
    "        lg, X_train, y_train, threshold=optimal_threshold_auc_roc\n",
    "    )\n",
    ")\n",
    "print(\"Training performance:\")\n",
    "log_reg_model_train_perf_threshold_auc_roc"
   ]
  },
  {
   "cell_type": "markdown",
   "id": "408efd2a",
   "metadata": {},
   "source": [
    "#### Checking model performance on test set"
   ]
  },
  {
   "cell_type": "code",
   "execution_count": null,
   "id": "0c99a911",
   "metadata": {},
   "outputs": [],
   "source": [
    "# creating confusion matrix\n",
    "confusion_matrix_sklearn_with_threshold(\n",
    "    lg, X_test, y_test, threshold=optimal_threshold_auc_roc\n",
    ")"
   ]
  },
  {
   "cell_type": "code",
   "execution_count": null,
   "id": "3caa9ffb",
   "metadata": {},
   "outputs": [],
   "source": [
    "# checking model performance for this model\n",
    "log_reg_model_test_perf_threshold_auc_roc = (\n",
    "    model_performance_classification_sklearn_with_threshold(\n",
    "        lg, X_test, y_test, threshold=optimal_threshold_auc_roc\n",
    "    )\n",
    ")\n",
    "print(\"Test set performance:\")\n",
    "log_reg_model_test_perf_threshold_auc_roc"
   ]
  },
  {
   "cell_type": "markdown",
   "id": "fe473d50",
   "metadata": {},
   "source": [
    "* The precision of the model for both training and test set has improved but the F1 score has reduced."
   ]
  },
  {
   "cell_type": "markdown",
   "id": "88664dd1",
   "metadata": {},
   "source": [
    "#### Let's use Precision-Recall curve and see if we can find a better threshold"
   ]
  },
  {
   "cell_type": "code",
   "execution_count": null,
   "id": "b958a4d8",
   "metadata": {},
   "outputs": [],
   "source": [
    "y_scores = lg.predict_proba(X_train)[:, 1]\n",
    "prec, rec, tre = precision_recall_curve(\n",
    "    y_train,\n",
    "    y_scores,\n",
    ")\n",
    "\n",
    "\n",
    "def plot_prec_recall_vs_tresh(precisions, recalls, thresholds):\n",
    "    plt.plot(thresholds, precisions[:-1], \"b--\", label=\"precision\")\n",
    "    plt.plot(thresholds, recalls[:-1], \"g--\", label=\"recall\")\n",
    "    plt.xlabel(\"Threshold\")\n",
    "    plt.legend(loc=\"upper left\")\n",
    "    plt.ylim([0, 1])\n",
    "\n",
    "\n",
    "plt.figure(figsize=(10, 7))\n",
    "plot_prec_recall_vs_tresh(prec, rec, tre)\n",
    "plt.show()"
   ]
  },
  {
   "cell_type": "markdown",
   "id": "468cc08c",
   "metadata": {},
   "source": [
    "* At the threshold of 0.32, we get balanced recall and precision."
   ]
  },
  {
   "cell_type": "code",
   "execution_count": null,
   "id": "7d1ae7c1",
   "metadata": {},
   "outputs": [],
   "source": [
    "# setting the threshold\n",
    "optimal_threshold_curve = 0.32"
   ]
  },
  {
   "cell_type": "markdown",
   "id": "33abbd0c",
   "metadata": {},
   "source": [
    "#### Checking model performance on training set"
   ]
  },
  {
   "cell_type": "code",
   "execution_count": null,
   "id": "bf6b0cab",
   "metadata": {},
   "outputs": [],
   "source": [
    "# creating confusion matrix\n",
    "confusion_matrix_sklearn_with_threshold(\n",
    "    lg, X_train, y_train, threshold=optimal_threshold_curve\n",
    ")"
   ]
  },
  {
   "cell_type": "code",
   "execution_count": null,
   "id": "b3329357",
   "metadata": {},
   "outputs": [],
   "source": [
    "log_reg_model_train_perf_threshold_curve = (\n",
    "    model_performance_classification_sklearn_with_threshold(\n",
    "        lg, X_train, y_train, threshold=optimal_threshold_curve\n",
    "    )\n",
    ")\n",
    "print(\"Training performance:\")\n",
    "log_reg_model_train_perf_threshold_curve"
   ]
  },
  {
   "cell_type": "markdown",
   "id": "f8d1c5dc",
   "metadata": {},
   "source": [
    "#### Checking model performance on test set"
   ]
  },
  {
   "cell_type": "code",
   "execution_count": null,
   "id": "762d825e",
   "metadata": {},
   "outputs": [],
   "source": [
    "# creating confusion matrix\n",
    "confusion_matrix_sklearn_with_threshold(\n",
    "    lg, X_test, y_test, threshold=optimal_threshold_curve\n",
    ")"
   ]
  },
  {
   "cell_type": "code",
   "execution_count": null,
   "id": "ff1966bc",
   "metadata": {},
   "outputs": [],
   "source": [
    "log_reg_model_test_perf_threshold_curve = (\n",
    "    model_performance_classification_sklearn_with_threshold(\n",
    "        lg, X_test, y_test, threshold=optimal_threshold_curve\n",
    "    )\n",
    ")\n",
    "print(\"Test set performance:\")\n",
    "log_reg_model_test_perf_threshold_curve"
   ]
  },
  {
   "cell_type": "markdown",
   "id": "af7b07db",
   "metadata": {},
   "source": [
    "* Model is performing well on training and test.\n"
   ]
  },
  {
   "cell_type": "markdown",
   "id": "69aff332",
   "metadata": {},
   "source": [
    "# Model performance evaluation"
   ]
  },
  {
   "cell_type": "code",
   "execution_count": null,
   "id": "76752041",
   "metadata": {},
   "outputs": [],
   "source": [
    "# training performance comparison\n",
    "\n",
    "models_train_comp_df = pd.concat(\n",
    "    [\n",
    "        log_reg_model_train_perf.T,\n",
    "        log_reg_model_train_perf_threshold_auc_roc.T,\n",
    "        log_reg_model_train_perf_threshold_curve.T,\n",
    "    ],\n",
    "    axis=1,\n",
    ")\n",
    "models_train_comp_df.columns = [\n",
    "    \"Logistic Regression sklearn\",\n",
    "    \"Logistic Regression- 0.0947 Threshold\",\n",
    "    \"Logistic Regression-0.32 Threshold\",\n",
    "]\n",
    "print(\"Training performance comparison:\")\n",
    "models_train_comp_df"
   ]
  },
  {
   "cell_type": "code",
   "execution_count": null,
   "id": "2a865b33",
   "metadata": {},
   "outputs": [],
   "source": [
    "# testing performance comparison\n",
    "\n",
    "models_test_comp_df = pd.concat(\n",
    "    [\n",
    "        log_reg_model_test_perf.T,\n",
    "        log_reg_model_test_perf_threshold_auc_roc.T,\n",
    "        log_reg_model_test_perf_threshold_curve.T,\n",
    "    ],\n",
    "    axis=1,\n",
    ")\n",
    "models_test_comp_df.columns = [\n",
    "    \"Logistic Regression sklearn\",\n",
    "    \"Logistic Regression- 0.0947 Threshold\",\n",
    "    \"Logistic Regression-0.32 Threshold\",\n",
    "]\n",
    "print(\"Test set performance comparison:\")\n",
    "models_test_comp_df"
   ]
  },
  {
   "cell_type": "markdown",
   "id": "1b09a405",
   "metadata": {},
   "source": [
    "### Conclusion\n",
    "- I have been able to build a model that will help the marketing department to identify the potential customers who have a higher probability of purchasing the loan with an f1_score of 0.677 On the training set.\n",
    "\n",
    "\n",
    "- Coefficient of **[Age]**, **[Securities_Account], **[Online]** and **[Credit card]** are negative, increase in these will lead to decrease in chances of a customer accepting the **[Personal_Loan]**.\n",
    "\n",
    "* The other Features have positive coefficient. Increase in these will lead to increase in chances of a customer accepting the **[Personal_Loan]**."
   ]
  },
  {
   "cell_type": "markdown",
   "id": "659bdab0",
   "metadata": {},
   "source": [
    "# 1.21 Model building - Decision Tree\n",
    "\n",
    "We will build our model using the DecisionTreeClassifier function. Using default 'gini' criteria to split.\n",
    "If the frequency of class A is 10% and the frequency of class B is 90%, then class B will become the dominant class and the decision tree will become biased toward the dominant classes.\n",
    "\n",
    "In this case, we can pass a dictionary {0:0.15,1:0.85} to the model to specify the weight of each class and the decision tree will give more weightage to class 1.\n",
    "\n",
    "class_weight is a hyperparameter for the decision tree classifier."
   ]
  },
  {
   "cell_type": "code",
   "execution_count": null,
   "id": "14236c04",
   "metadata": {},
   "outputs": [],
   "source": [
    "from sklearn.tree import DecisionTreeClassifier\n",
    "from sklearn import tree"
   ]
  },
  {
   "cell_type": "code",
   "execution_count": null,
   "id": "0d1f85ac",
   "metadata": {},
   "outputs": [],
   "source": [
    "model = DecisionTreeClassifier(\n",
    "    criterion=\"gini\", class_weight={0: 0.15, 1: 0.85}, random_state=1\n",
    ")"
   ]
  },
  {
   "cell_type": "code",
   "execution_count": null,
   "id": "3654c95a",
   "metadata": {},
   "outputs": [],
   "source": [
    "model.fit(X_train, y_train)"
   ]
  },
  {
   "cell_type": "code",
   "execution_count": null,
   "id": "fb6e1e7f",
   "metadata": {},
   "outputs": [],
   "source": [
    "# Checking number of positives\n",
    "y.sum(axis=0)"
   ]
  },
  {
   "cell_type": "markdown",
   "id": "1748f368",
   "metadata": {},
   "source": [
    "### Checking model performance on training set"
   ]
  },
  {
   "cell_type": "code",
   "execution_count": null,
   "id": "2844931a",
   "metadata": {},
   "outputs": [],
   "source": [
    "print(\"Accuracy on training set : \", model.score(X_train, y_train))\n",
    "print(\"Accuracy on test set : \", model.score(X_test, y_test))"
   ]
  },
  {
   "cell_type": "code",
   "execution_count": null,
   "id": "134d1c13",
   "metadata": {},
   "outputs": [],
   "source": [
    "## Function to create confusion matrix\n",
    "def make_confusion_matrix(model, y_actual, labels=[1, 0]):\n",
    "    \"\"\"\n",
    "    model : classifier to predict values of X\n",
    "    y_actual : ground truth\n",
    "\n",
    "    \"\"\"\n",
    "    y_predict = model.predict(X_test)\n",
    "    cm = metrics.confusion_matrix(y_actual, y_predict, labels=[0, 1])\n",
    "    df_cm = pd.DataFrame(\n",
    "        cm,\n",
    "        index=[i for i in [\"Actual - No\", \"Actual - Yes\"]],\n",
    "        columns=[i for i in [\"Predicted - No\", \"Predicted - Yes\"]],\n",
    "    )\n",
    "    group_counts = [\"{0:0.0f}\".format(value) for value in cm.flatten()]\n",
    "    group_percentages = [\"{0:.2%}\".format(value) for value in cm.flatten() / np.sum(cm)]\n",
    "    labels = [f\"{v1}\\n{v2}\" for v1, v2 in zip(group_counts, group_percentages)]\n",
    "    labels = np.asarray(labels).reshape(2, 2)\n",
    "    plt.figure(figsize=(10, 7))\n",
    "    sns.heatmap(df_cm, annot=labels, fmt=\"\")\n",
    "    plt.ylabel(\"True label\")\n",
    "    plt.xlabel(\"Predicted label\")"
   ]
  },
  {
   "cell_type": "code",
   "execution_count": null,
   "id": "495f272a",
   "metadata": {},
   "outputs": [],
   "source": [
    "##  Function to calculate recall score\n",
    "def get_recall_score(model, predictors, target):\n",
    "    \"\"\"\n",
    "    model: classifier\n",
    "    predictors: independent variables\n",
    "    target: dependent variable\n",
    "\n",
    "    \"\"\"\n",
    "    prediction = model.predict(predictors)\n",
    "    return recall_score(target, prediction)"
   ]
  },
  {
   "cell_type": "code",
   "execution_count": null,
   "id": "ade3ee39",
   "metadata": {},
   "outputs": [],
   "source": [
    "# Confusion matrix\n",
    "from sklearn import metrics\n",
    "\n",
    "make_confusion_matrix(model, y_test)"
   ]
  },
  {
   "cell_type": "code",
   "execution_count": null,
   "id": "8e3fbdab",
   "metadata": {},
   "outputs": [],
   "source": [
    "# Recall Score of training dataset\n",
    "decision_tree_perf_train = get_recall_score(model, X_train, y_train)\n",
    "\n",
    "print(\"Recall Score:\", decision_tree_perf_train)"
   ]
  },
  {
   "cell_type": "code",
   "execution_count": null,
   "id": "e765d720",
   "metadata": {},
   "outputs": [],
   "source": [
    "# Recall Score of testing dataset\n",
    "decision_tree_perf_test = get_recall_score(model, X_test, y_test)\n",
    "\n",
    "print(\"Recall Score:\", decision_tree_perf_test)"
   ]
  },
  {
   "cell_type": "code",
   "execution_count": null,
   "id": "16d3de66",
   "metadata": {},
   "outputs": [],
   "source": [
    "# List of all Column features\n",
    "feature_names = list(X.columns)\n",
    "print(feature_names)"
   ]
  },
  {
   "cell_type": "code",
   "execution_count": null,
   "id": "e6f385a0",
   "metadata": {},
   "outputs": [],
   "source": [
    "# plotting the decision tree\n",
    "plt.figure(figsize=(20, 30))\n",
    "tree.plot_tree(\n",
    "    model,\n",
    "    feature_names=feature_names,\n",
    "    filled=True,\n",
    "    fontsize=9,\n",
    "    node_ids=True,\n",
    "    class_names=True,\n",
    ")\n",
    "plt.show()"
   ]
  },
  {
   "cell_type": "code",
   "execution_count": null,
   "id": "7a54968e",
   "metadata": {},
   "outputs": [],
   "source": [
    "# importance of features in the tree building ( The importance of a feature is computed as the\n",
    "# (normalized) total reduction of the criterion brought by that feature. It is also known as the Gini importance )\n",
    "\n",
    "print(\n",
    "    pd.DataFrame(\n",
    "        model.feature_importances_, columns=[\"Imp\"], index=X_train.columns\n",
    "    ).sort_values(by=\"Imp\", ascending=False)\n",
    ")"
   ]
  },
  {
   "cell_type": "code",
   "execution_count": null,
   "id": "88542cb5",
   "metadata": {},
   "outputs": [],
   "source": [
    "# Showing the features in decreasing order of importance\n",
    "importances = model.feature_importances_\n",
    "indices = np.argsort(importances)\n",
    "\n",
    "plt.figure(figsize=(10, 10))\n",
    "plt.title(\"Feature Importances\")\n",
    "plt.barh(range(len(indices)), importances[indices], color=\"violet\", align=\"center\")\n",
    "plt.yticks(range(len(indices)), [feature_names[i] for i in indices])\n",
    "plt.xlabel(\"Relative Importance\")\n",
    "plt.show()"
   ]
  },
  {
   "cell_type": "markdown",
   "id": "a077be25",
   "metadata": {},
   "source": [
    "According to the decision tree model, Income is the most important variable for  that can be used to identify the potential customers who have a higher probability of purchasing the loan."
   ]
  },
  {
   "cell_type": "markdown",
   "id": "08431106",
   "metadata": {},
   "source": [
    "# 1.22 Reducing over fitting\n",
    "\n",
    "### Using GridSearch for Hyperparameter tuning of our tree model"
   ]
  },
  {
   "cell_type": "markdown",
   "id": "83a4808f",
   "metadata": {},
   "source": [
    "Hyperparameter tuning is also tricky in the sense that there is no direct way to calculate how a change in the hyperparameter value will reduce the loss of your model, so we usually resort to experimentation. i.e we'll use Grid search\n",
    "Grid search is a tuning technique that attempts to compute the optimum values of hyperparameters.\n",
    "It is an exhaustive search that is performed on a the specific parameter values of a model.\n",
    "The parameters of the estimator/model used to apply these methods are optimized by cross-validated grid-search over a parameter grid."
   ]
  },
  {
   "cell_type": "code",
   "execution_count": null,
   "id": "2d930c4d",
   "metadata": {},
   "outputs": [],
   "source": [
    "# Choose the type of classifier.\n",
    "estimator = DecisionTreeClassifier(random_state=1, class_weight={0: 0.15, 1: 0.85})\n",
    "\n",
    "# Grid of parameters to choose from\n",
    "parameters = {\n",
    "    \"max_depth\": [5, 10, 15, None],\n",
    "    \"criterion\": [\"entropy\", \"gini\"],\n",
    "    \"splitter\": [\"best\", \"random\"],\n",
    "    \"min_impurity_decrease\": [0.00001, 0.0001, 0.01],\n",
    "}\n",
    "\n",
    "# Type of scoring used to compare parameter combinations\n",
    "scorer = make_scorer(recall_score)\n",
    "\n",
    "# Run the grid search\n",
    "grid_obj = GridSearchCV(estimator, parameters, scoring=scorer, cv=5)\n",
    "grid_obj = grid_obj.fit(X_train, y_train)\n",
    "\n",
    "# Set the clf to the best combination of parameters\n",
    "estimator = grid_obj.best_estimator_\n",
    "\n",
    "# Fit the best algorithm to the data.\n",
    "estimator.fit(X_train, y_train)"
   ]
  },
  {
   "cell_type": "code",
   "execution_count": null,
   "id": "b3c70fbc",
   "metadata": {},
   "outputs": [],
   "source": [
    "def confusion_matrix_sklearn(model, predictors, target):\n",
    "    \"\"\"\n",
    "    To plot the confusion_matrix with percentages\n",
    "\n",
    "    model: classifier\n",
    "    predictors: independent variables\n",
    "    target: dependent variable\n",
    "    \"\"\"\n",
    "    y_pred = model.predict(predictors)\n",
    "    cm = confusion_matrix(target, y_pred)\n",
    "    labels = np.asarray(\n",
    "        [\n",
    "            [\"{0:0.0f}\".format(item) + \"\\n{0:.2%}\".format(item / cm.flatten().sum())]\n",
    "            for item in cm.flatten()\n",
    "        ]\n",
    "    ).reshape(2, 2)\n",
    "\n",
    "    plt.figure(figsize=(6, 4))\n",
    "    sns.heatmap(cm, annot=labels, fmt=\"\")\n",
    "    plt.ylabel(\"True label\")\n",
    "    plt.xlabel(\"Predicted label\")"
   ]
  },
  {
   "cell_type": "markdown",
   "id": "16dd595e",
   "metadata": {},
   "source": [
    "### Checking performance on training set"
   ]
  },
  {
   "cell_type": "code",
   "execution_count": null,
   "id": "b05e2835",
   "metadata": {},
   "outputs": [],
   "source": [
    "confusion_matrix_sklearn(estimator, X_train, y_train)\n",
    "\n"
   ]
  },
  {
   "cell_type": "code",
   "execution_count": null,
   "id": "e06e84b4",
   "metadata": {},
   "outputs": [],
   "source": [
    "# Recall Score of training dataset\n",
    "decision_tree_tune_perf_train = get_recall_score(estimator, X_train, y_train)\n",
    "print(\"Recall Score:\", decision_tree_tune_perf_train)"
   ]
  },
  {
   "cell_type": "markdown",
   "id": "6c67b7cc",
   "metadata": {},
   "source": [
    "### Checking performance on testing set"
   ]
  },
  {
   "cell_type": "code",
   "execution_count": null,
   "id": "3d1e1f9c",
   "metadata": {},
   "outputs": [],
   "source": [
    "confusion_matrix_sklearn(estimator, X_train, y_train)"
   ]
  },
  {
   "cell_type": "code",
   "execution_count": null,
   "id": "1d346868",
   "metadata": {},
   "outputs": [],
   "source": [
    "# Recall Score of testing dataset\n",
    "decision_tree_tune_perf_test = get_recall_score(estimator, X_test, y_test)\n",
    "print(\"Recall Score:\", decision_tree_tune_perf_test)"
   ]
  },
  {
   "cell_type": "markdown",
   "id": "00af1adf",
   "metadata": {},
   "source": [
    "## Visualizing the Decision Tree"
   ]
  },
  {
   "cell_type": "code",
   "execution_count": null,
   "id": "78249a52",
   "metadata": {},
   "outputs": [],
   "source": [
    "plt.figure(figsize=(15, 10))\n",
    "out = tree.plot_tree(\n",
    "    estimator,\n",
    "    feature_names=feature_names,\n",
    "    filled=True,\n",
    "    fontsize=9,\n",
    "    node_ids=False,\n",
    "    class_names=None,\n",
    ")\n",
    "for o in out:\n",
    "    arrow = o.arrow_patch\n",
    "    if arrow is not None:\n",
    "        arrow.set_edgecolor(\"black\")\n",
    "        arrow.set_linewidth(1)\n",
    "plt.show()"
   ]
  },
  {
   "cell_type": "code",
   "execution_count": null,
   "id": "0171ada3",
   "metadata": {},
   "outputs": [],
   "source": [
    "# Text report showing the rules of a decision tree -\n",
    "\n",
    "print(tree.export_text(estimator, feature_names=feature_names, show_weights=True))"
   ]
  },
  {
   "cell_type": "code",
   "execution_count": null,
   "id": "c7beb264",
   "metadata": {},
   "outputs": [],
   "source": [
    "# importance of features in the tree building ( The importance of a feature is computed as the\n",
    "# (normalized) total reduction of the 'criterion' brought by that feature. It is also known as the Gini importance )\n",
    "\n",
    "print(\n",
    "    pd.DataFrame(\n",
    "        estimator.feature_importances_, columns=[\"Imp\"], index=X_train.columns\n",
    "    ).sort_values(by=\"Imp\", ascending=False)\n",
    ")\n",
    "\n",
    "# Here we will see that importance of features has increased"
   ]
  },
  {
   "cell_type": "code",
   "execution_count": null,
   "id": "8e1f9303",
   "metadata": {},
   "outputs": [],
   "source": [
    "importances = estimator.feature_importances_\n",
    "indices = np.argsort(importances)\n",
    "\n",
    "plt.figure(figsize=(12, 12))\n",
    "plt.title(\"Feature Importances\")\n",
    "plt.barh(range(len(indices)), importances[indices], color=\"violet\", align=\"center\")\n",
    "plt.yticks(range(len(indices)), [feature_names[i] for i in indices])\n",
    "plt.xlabel(\"Relative Importance\")\n",
    "plt.show()"
   ]
  },
  {
   "cell_type": "markdown",
   "id": "ce266e11",
   "metadata": {},
   "source": [
    "1. In tuned decision tree Income is the most important feature followed by CCAvg.\n",
    "\n",
    "2. There are the top two important features that can be used to identify the potential customers who have a higher probability of purchasing the loan."
   ]
  },
  {
   "cell_type": "markdown",
   "id": "e932da39",
   "metadata": {},
   "source": [
    "## Cost Complexity Pruning"
   ]
  },
  {
   "cell_type": "markdown",
   "id": "3daf9232",
   "metadata": {},
   "source": [
    "The DecisionTreeClassifier provides parameters such as min_samples_leaf and max_depth to prevent a tree from overfiting. Cost complexity pruning provides another option to control the size of a tree. In DecisionTreeClassifier, this pruning technique is parameterized by the cost complexity parameter, ccp_alpha. Greater values of ccp_alpha increase the number of nodes pruned. Here we only show the effect of ccp_alpha on regularizing the trees and how to choose a ccp_alpha based on validation scores."
   ]
  },
  {
   "cell_type": "markdown",
   "id": "28584b7b",
   "metadata": {},
   "source": [
    "### Total impurity of leaves vs effective alphas of pruned tree"
   ]
  },
  {
   "cell_type": "markdown",
   "id": "6ca06e75",
   "metadata": {},
   "source": [
    "Minimal cost complexity pruning recursively finds the node with the \"weakest link\". The weakest link is characterized by an effective alpha, where the nodes with the smallest effective alpha are pruned first. To get an idea of what values of ccp_alpha could be appropriate, scikit-learn provides DecisionTreeClassifier.cost_complexity_pruning_path that returns the effective alphas and the corresponding total leaf impurities at each step of the pruning process. As alpha increases, more of the tree is pruned, which increases the total impurity of its leaves."
   ]
  },
  {
   "cell_type": "code",
   "execution_count": null,
   "id": "21ebf0d5",
   "metadata": {},
   "outputs": [],
   "source": [
    "clf = DecisionTreeClassifier(random_state=1, class_weight={0: 0.15, 1: 0.85})\n",
    "path = clf.cost_complexity_pruning_path(X_train, y_train)\n",
    "ccp_alphas, impurities = path.ccp_alphas, path.impurities"
   ]
  },
  {
   "cell_type": "code",
   "execution_count": null,
   "id": "6dcc8c23",
   "metadata": {},
   "outputs": [],
   "source": [
    "pd.DataFrame(path)"
   ]
  },
  {
   "cell_type": "code",
   "execution_count": null,
   "id": "c476449b",
   "metadata": {},
   "outputs": [],
   "source": [
    "fig, ax = plt.subplots(figsize=(10, 5))\n",
    "ax.plot(ccp_alphas[:-1], impurities[:-1], marker=\"o\", drawstyle=\"steps-post\")\n",
    "ax.set_xlabel(\"effective alpha\")\n",
    "ax.set_ylabel(\"total impurity of leaves\")\n",
    "ax.set_title(\"Total Impurity vs effective alpha for training set\")\n",
    "plt.show()"
   ]
  },
  {
   "cell_type": "markdown",
   "id": "0dbf5987",
   "metadata": {},
   "source": [
    "Next, we train a decision tree using the effective alphas. The last value in ccp_alphas is the alpha value that prunes the whole tree, leaving the tree, clfs[-1], with one node."
   ]
  },
  {
   "cell_type": "code",
   "execution_count": null,
   "id": "6ff72436",
   "metadata": {},
   "outputs": [],
   "source": [
    "clfs = []\n",
    "for ccp_alpha in ccp_alphas:\n",
    "    clf = DecisionTreeClassifier(\n",
    "        random_state=1, ccp_alpha=ccp_alpha, class_weight={0: 0.15, 1: 0.85}\n",
    "    )\n",
    "    clf.fit(X_train, y_train)\n",
    "    clfs.append(clf)\n",
    "print(\n",
    "    \"Number of nodes in the last tree is: {} with ccp_alpha: {}\".format(\n",
    "        clfs[-1].tree_.node_count, ccp_alphas[-1]\n",
    "    )\n",
    ")"
   ]
  },
  {
   "cell_type": "markdown",
   "id": "1a311243",
   "metadata": {},
   "source": [
    "\n",
    "For the remainder, we remove the last element in clfs and ccp_alphas, because it is the trivial tree with only one node. Here we show that the number of nodes and tree depth decreases as alpha increases."
   ]
  },
  {
   "cell_type": "code",
   "execution_count": null,
   "id": "7205bd00",
   "metadata": {},
   "outputs": [],
   "source": [
    "clfs = clfs[:-1]\n",
    "ccp_alphas = ccp_alphas[:-1]\n",
    "\n",
    "node_counts = [clf.tree_.node_count for clf in clfs]\n",
    "depth = [clf.tree_.max_depth for clf in clfs]\n",
    "fig, ax = plt.subplots(2, 1, figsize=(10, 7))\n",
    "ax[0].plot(ccp_alphas, node_counts, marker=\"o\", drawstyle=\"steps-post\")\n",
    "ax[0].set_xlabel(\"alpha\")\n",
    "ax[0].set_ylabel(\"number of nodes\")\n",
    "ax[0].set_title(\"Number of nodes vs alpha\")\n",
    "ax[1].plot(ccp_alphas, depth, marker=\"o\", drawstyle=\"steps-post\")\n",
    "ax[1].set_xlabel(\"alpha\")\n",
    "ax[1].set_ylabel(\"depth of tree\")\n",
    "ax[1].set_title(\"Depth vs alpha\")\n",
    "fig.tight_layout()"
   ]
  },
  {
   "cell_type": "code",
   "execution_count": null,
   "id": "e679104c",
   "metadata": {},
   "outputs": [],
   "source": [
    "recall_train = []\n",
    "for clf in clfs:\n",
    "    pred_train = clf.predict(X_train)\n",
    "    values_train = recall_score(y_train, pred_train)\n",
    "    recall_train.append(values_train)"
   ]
  },
  {
   "cell_type": "code",
   "execution_count": null,
   "id": "3a0e4a43",
   "metadata": {},
   "outputs": [],
   "source": [
    "recall_test = []\n",
    "for clf in clfs:\n",
    "    pred_test = clf.predict(X_test)\n",
    "    values_test = recall_score(y_test, pred_test)\n",
    "    recall_test.append(values_test)"
   ]
  },
  {
   "cell_type": "code",
   "execution_count": null,
   "id": "6190aee6",
   "metadata": {},
   "outputs": [],
   "source": [
    "train_scores = [clf.score(X_train, y_train) for clf in clfs]\n",
    "test_scores = [clf.score(X_test, y_test) for clf in clfs]"
   ]
  },
  {
   "cell_type": "code",
   "execution_count": null,
   "id": "8b88ef7c",
   "metadata": {},
   "outputs": [],
   "source": [
    "fig, ax = plt.subplots(figsize=(15, 5))\n",
    "ax.set_xlabel(\"alpha\")\n",
    "ax.set_ylabel(\"Recall\")\n",
    "ax.set_title(\"Recall vs alpha for training and testing sets\")\n",
    "ax.plot(\n",
    "    ccp_alphas, recall_train, marker=\"o\", label=\"train\", drawstyle=\"steps-post\",\n",
    ")\n",
    "ax.plot(ccp_alphas, recall_test, marker=\"o\", label=\"test\", drawstyle=\"steps-post\")\n",
    "ax.legend()\n",
    "plt.show()\n"
   ]
  },
  {
   "cell_type": "markdown",
   "id": "4c4cf73b",
   "metadata": {},
   "source": [
    "Maximum value of Recall is at 0.014 alpha, but if we choose decision tree will only have a root node and we would lose the buisness rules, instead we can choose alpha 0.002 retaining information and getting higher recall."
   ]
  },
  {
   "cell_type": "code",
   "execution_count": null,
   "id": "93c97460",
   "metadata": {},
   "outputs": [],
   "source": [
    "# creating the model where we get highest train and test recall\n",
    "index_best_model = np.argmax(recall_test)\n",
    "best_model = clfs[index_best_model]\n",
    "print(best_model)"
   ]
  },
  {
   "cell_type": "code",
   "execution_count": null,
   "id": "8e95dd0e",
   "metadata": {},
   "outputs": [],
   "source": [
    "best_model.fit(X_train, y_train)"
   ]
  },
  {
   "cell_type": "markdown",
   "id": "1742e5f1",
   "metadata": {},
   "source": [
    "# checking performance on training set"
   ]
  },
  {
   "cell_type": "code",
   "execution_count": null,
   "id": "a179d611",
   "metadata": {},
   "outputs": [],
   "source": [
    "confusion_matrix_sklearn(best_model, X_train, y_train)"
   ]
  },
  {
   "cell_type": "code",
   "execution_count": null,
   "id": "23bd3c29",
   "metadata": {},
   "outputs": [],
   "source": [
    "# Recall Score of training dataset\n",
    "get_recall_score(best_model, X_train, y_train)\n",
    "\n"
   ]
  },
  {
   "cell_type": "markdown",
   "id": "cc45c002",
   "metadata": {},
   "source": [
    "# checking performance on test set"
   ]
  },
  {
   "cell_type": "code",
   "execution_count": null,
   "id": "bd599ad1",
   "metadata": {},
   "outputs": [],
   "source": [
    "confusion_matrix_sklearn(best_model, X_test, y_test)"
   ]
  },
  {
   "cell_type": "code",
   "execution_count": null,
   "id": "4d719d9c",
   "metadata": {},
   "outputs": [],
   "source": [
    "# Recall Score of test dataset\n",
    "get_recall_score(best_model, X_test, y_test)\n"
   ]
  },
  {
   "cell_type": "markdown",
   "id": "7244b370",
   "metadata": {},
   "source": [
    "# Visualizing the Decision Tree"
   ]
  },
  {
   "cell_type": "code",
   "execution_count": null,
   "id": "f30bff48",
   "metadata": {},
   "outputs": [],
   "source": [
    "plt.figure(figsize=(5, 5))\n",
    "\n",
    "out = tree.plot_tree(\n",
    "    best_model,\n",
    "    feature_names=feature_names,\n",
    "    filled=True,\n",
    "    fontsize=9,\n",
    "    node_ids=False,\n",
    "    class_names=None,\n",
    ")\n",
    "for o in out:\n",
    "    arrow = o.arrow_patch\n",
    "    if arrow is not None:\n",
    "        arrow.set_edgecolor(\"black\")\n",
    "        arrow.set_linewidth(1)\n",
    "plt.show()"
   ]
  },
  {
   "cell_type": "markdown",
   "id": "2c216495",
   "metadata": {},
   "source": [
    "# Checking performance on the training set"
   ]
  },
  {
   "cell_type": "code",
   "execution_count": null,
   "id": "4198a60e",
   "metadata": {},
   "outputs": [],
   "source": [
    "confusion_matrix_sklearn(best_model, X_train, y_train)"
   ]
  },
  {
   "cell_type": "code",
   "execution_count": null,
   "id": "70a39758",
   "metadata": {},
   "outputs": [],
   "source": [
    "decision_tree_postpruned_perf_train = get_recall_score(best_model, X_train, y_train)\n",
    "print(\"Recall Score:\", decision_tree_postpruned_perf_train)"
   ]
  },
  {
   "cell_type": "markdown",
   "id": "5542fbc3",
   "metadata": {},
   "source": [
    "This model might be giving the highest recall but a buisness would not be able to use it to actually target the potential customers."
   ]
  },
  {
   "cell_type": "markdown",
   "id": "837b772b",
   "metadata": {},
   "source": [
    "Creating model with 0.002 ccp_alpha"
   ]
  },
  {
   "cell_type": "code",
   "execution_count": null,
   "id": "80c73149",
   "metadata": {},
   "outputs": [],
   "source": [
    "best_model2 = DecisionTreeClassifier(\n",
    "    ccp_alpha=0.002, class_weight={0: 0.15, 1: 0.85}, random_state=1\n",
    ")\n",
    "best_model2.fit(X_train, y_train)"
   ]
  },
  {
   "cell_type": "markdown",
   "id": "8201c049",
   "metadata": {},
   "source": [
    "## Checking performance on the test set"
   ]
  },
  {
   "cell_type": "code",
   "execution_count": null,
   "id": "feb0dc53",
   "metadata": {},
   "outputs": [],
   "source": [
    "confusion_matrix_sklearn(best_model2, X_test, y_test)"
   ]
  },
  {
   "cell_type": "code",
   "execution_count": null,
   "id": "e6e3f990",
   "metadata": {},
   "outputs": [],
   "source": [
    "decision_tree_postpruned_perf_test = get_recall_score(best_model2, X_test, y_test)\n",
    "print(\"Recall Score:\", decision_tree_postpruned_perf_test)\n"
   ]
  },
  {
   "cell_type": "markdown",
   "id": "0cfdc5e0",
   "metadata": {},
   "source": [
    "The results have improved from the initial model.\n",
    "The performance is comparable to the hyperparameter tuned model.\n",
    "The model is giving a generalized performance on training and test set."
   ]
  },
  {
   "cell_type": "markdown",
   "id": "20c89fca",
   "metadata": {},
   "source": [
    "## Visualizing the Decision Tree"
   ]
  },
  {
   "cell_type": "code",
   "execution_count": null,
   "id": "c0fc6fa0",
   "metadata": {
    "scrolled": false
   },
   "outputs": [],
   "source": [
    "plt.figure(figsize=(15, 10))\n",
    "\n",
    "out = tree.plot_tree(\n",
    "    best_model2,\n",
    "    feature_names=feature_names,\n",
    "    filled=True,\n",
    "    fontsize=9,\n",
    "    node_ids=False,\n",
    "    class_names=None,\n",
    ")\n",
    "for o in out:\n",
    "    arrow = o.arrow_patch\n",
    "    if arrow is not None:\n",
    "        arrow.set_edgecolor(\"black\")\n",
    "        arrow.set_linewidth(1)\n",
    "plt.show()"
   ]
  },
  {
   "cell_type": "code",
   "execution_count": null,
   "id": "c1a7d2f3",
   "metadata": {},
   "outputs": [],
   "source": [
    "# Text report showing the rules of a decision tree -\n",
    "\n",
    "print(tree.export_text(best_model2, feature_names=feature_names, show_weights=True))"
   ]
  },
  {
   "cell_type": "code",
   "execution_count": null,
   "id": "fe757f45",
   "metadata": {},
   "outputs": [],
   "source": [
    "# importance of features in the tree building ( The importance of a feature is computed as the\n",
    "# (normalized) total reduction of the 'criterion' brought by that feature. It is also known as the Gini importance )\n",
    "\n",
    "print(\n",
    "    pd.DataFrame(\n",
    "        best_model2.feature_importances_, columns=[\"Imp\"], index=X_train.columns\n",
    "    ).sort_values(by=\"Imp\", ascending=False)\n",
    ")"
   ]
  },
  {
   "cell_type": "code",
   "execution_count": null,
   "id": "0c27e4f1",
   "metadata": {},
   "outputs": [],
   "source": [
    "importances = best_model2.feature_importances_\n",
    "indices = np.argsort(importances)\n",
    "\n",
    "plt.figure(figsize=(12, 12))\n",
    "plt.title(\"Feature Importances\")\n",
    "plt.barh(range(len(indices)), importances[indices], color=\"violet\", align=\"center\")\n",
    "plt.yticks(range(len(indices)), [feature_names[i] for i in indices])\n",
    "plt.xlabel(\"Relative Importance\")\n",
    "plt.show()"
   ]
  },
  {
   "cell_type": "markdown",
   "id": "49eed18b",
   "metadata": {},
   "source": [
    "Income and Family duration are the top two important features that can be used to identify the potential customers who have a higher probability of purchasing the loan."
   ]
  },
  {
   "cell_type": "markdown",
   "id": "0819fc8b",
   "metadata": {},
   "source": [
    "# Comparing all the decision tree models"
   ]
  },
  {
   "cell_type": "code",
   "execution_count": null,
   "id": "fbb86161",
   "metadata": {},
   "outputs": [],
   "source": [
    "# training performance comparison\n",
    "\n",
    "models_train_comp_df = pd.DataFrame(\n",
    "    [\n",
    "        decision_tree_perf_train,\n",
    "        decision_tree_tune_perf_train,\n",
    "        decision_tree_postpruned_perf_train,\n",
    "    ],\n",
    "    columns=[\"Recall on training set\"],\n",
    ")\n",
    "\n",
    "print(\"Training performance comparison:\")\n",
    "models_train_comp_df"
   ]
  },
  {
   "cell_type": "code",
   "execution_count": 512,
   "id": "751b84c8",
   "metadata": {},
   "outputs": [
    {
     "name": "stdout",
     "output_type": "stream",
     "text": [
      "Test performance comparison:\n"
     ]
    },
    {
     "data": {
      "text/html": [
       "<div>\n",
       "<style scoped>\n",
       "    .dataframe tbody tr th:only-of-type {\n",
       "        vertical-align: middle;\n",
       "    }\n",
       "\n",
       "    .dataframe tbody tr th {\n",
       "        vertical-align: top;\n",
       "    }\n",
       "\n",
       "    .dataframe thead th {\n",
       "        text-align: right;\n",
       "    }\n",
       "</style>\n",
       "<table border=\"1\" class=\"dataframe\">\n",
       "  <thead>\n",
       "    <tr style=\"text-align: right;\">\n",
       "      <th></th>\n",
       "      <th>Recall on testing set</th>\n",
       "    </tr>\n",
       "  </thead>\n",
       "  <tbody>\n",
       "    <tr>\n",
       "      <th>0</th>\n",
       "      <td>0.885906</td>\n",
       "    </tr>\n",
       "    <tr>\n",
       "      <th>1</th>\n",
       "      <td>0.865772</td>\n",
       "    </tr>\n",
       "    <tr>\n",
       "      <th>2</th>\n",
       "      <td>0.906040</td>\n",
       "    </tr>\n",
       "  </tbody>\n",
       "</table>\n",
       "</div>"
      ],
      "text/plain": [
       "   Recall on testing set\n",
       "0               0.885906\n",
       "1               0.865772\n",
       "2               0.906040"
      ]
     },
     "execution_count": 512,
     "metadata": {},
     "output_type": "execute_result"
    },
    {
     "data": {
      "application/javascript": [
       "\n",
       "            setTimeout(function() {\n",
       "                var nbb_cell_id = 512;\n",
       "                var nbb_unformatted_code = \"# testing performance comparison\\n\\nmodels_test_comp_df = pd.DataFrame(\\n    [\\n        decision_tree_perf_test,\\n        decision_tree_tune_perf_test,\\n        decision_tree_postpruned_perf_test,\\n    ],\\n    columns=[\\\"Recall on testing set\\\"],\\n)\\n\\nprint(\\\"Test performance comparison:\\\")\\nmodels_test_comp_df\";\n",
       "                var nbb_formatted_code = \"# testing performance comparison\\n\\nmodels_test_comp_df = pd.DataFrame(\\n    [\\n        decision_tree_perf_test,\\n        decision_tree_tune_perf_test,\\n        decision_tree_postpruned_perf_test,\\n    ],\\n    columns=[\\\"Recall on testing set\\\"],\\n)\\n\\nprint(\\\"Test performance comparison:\\\")\\nmodels_test_comp_df\";\n",
       "                var nbb_cells = Jupyter.notebook.get_cells();\n",
       "                for (var i = 0; i < nbb_cells.length; ++i) {\n",
       "                    if (nbb_cells[i].input_prompt_number == nbb_cell_id) {\n",
       "                        if (nbb_cells[i].get_text() == nbb_unformatted_code) {\n",
       "                             nbb_cells[i].set_text(nbb_formatted_code);\n",
       "                        }\n",
       "                        break;\n",
       "                    }\n",
       "                }\n",
       "            }, 500);\n",
       "            "
      ],
      "text/plain": [
       "<IPython.core.display.Javascript object>"
      ]
     },
     "metadata": {},
     "output_type": "display_data"
    }
   ],
   "source": [
    "# testing performance comparison\n",
    "\n",
    "models_test_comp_df = pd.DataFrame(\n",
    "    [\n",
    "        decision_tree_perf_test,\n",
    "        decision_tree_tune_perf_test,\n",
    "        decision_tree_postpruned_perf_test,\n",
    "    ],\n",
    "    columns=[\"Recall on testing set\"],\n",
    ")\n",
    "\n",
    "print(\"Test performance comparison:\")\n",
    "models_test_comp_df"
   ]
  },
  {
   "cell_type": "markdown",
   "id": "c23af85c",
   "metadata": {},
   "source": [
    "Decision tree model with pre-pruning has given the best recall score on training data.\n",
    "The pre-pruned and the post-pruned models have reduced overfitting and the model is giving a generalized performance."
   ]
  },
  {
   "cell_type": "markdown",
   "id": "999a0a74",
   "metadata": {},
   "source": [
    "# Conclusions\n",
    "\n",
    "1. I analyzed the \"**[Loan_Modelling dataset]** using different techniques such as:\n",
    "\n",
    "- Logistic regression\n",
    "- Decision Tree classifier. \n",
    "I used these methods to build a model that will help the marketing department to identify the potential customers who have a higher probability of purchasing the loan.\n",
    "\n",
    "I visualized different trees and their respective confusion matrix inorder to get a better understanding of the model.\n",
    "\n",
    "I used the Decision Trees to identify important features that will help to dentify the potential customers who have a higher probability of purchasing the loan.\n",
    "\n",
    "The Decision tree revealed that the following features are the most important variable in identify the potential customers who have a higher probability of purchasing the loan.\n",
    "1. Income: Annual income of the customer (in thousand dollars)\n",
    "2. Family: the Family size of the customer\n",
    "3. EDUCATION level of the customer.\n",
    "4. CCAvg: Average spending on credit cards per month (in thousand dollars)\n",
    "I used hyper-parameters/ pruning to reduce overfitting."
   ]
  },
  {
   "cell_type": "markdown",
   "id": "ebea0b55",
   "metadata": {},
   "source": [
    "# Recommendations\n",
    "According to the decision tree model -\n",
    "\n",
    "1. If Annual income of the customer (in thousand dollars) > 152.987, there is a high chance that the customer will not purchase the loan.\n",
    "\n",
    "2. If Annual income of the customer (in thousand dollars) less than 152.987 and the average spending on credit cards per month (in thousand dollars) is more than 2.918, then there is a very high chance that the customer will not purchase the loan.\n",
    "\n",
    "3. The data also reveals that for customers with higher education level, the number of those that accepted the Loan increased. Hence, AllLife Bank should know that these group of people are potential customers. They have a higher possibility of accepting the **[Personal_Loan]** offer.\n",
    " \n",
    "4. Average spending on credit cards per month (in thousand dollars) was a bit steady as the **[Income]** of the customer increased. This condition applies to those customers that accepted the **[Personal_Loan]** offer. Hence, it seems that for these group of customers, there was less need to spend from a **[Credit -Card]** simply because, they accepted a **[Personal_Loan]**. AllLife Bank should know that these group of people are potential customers. They have a higher possibility of accepting the **[Personal_Loan]** offer.\n",
    "\n",
    "\n",
    "5. Family size influences the possibility of accepting the **[Personal_Loan]**. Higher % of the Customers with higher family size accepted the **[Personal_Loan]**. Therefore, AllLife Bank should know that these group of people are potential customers. They have a higher possibility of accepting the **[Personal_Loan]** offer. \n",
    "\n",
    "6. Average spending on credit cards per month (in thousand dollars) was a bit steady as the **[Income]** of the customer increased. This condition applies to those customers that accepted the **[Personal_Loan]** offer. Hence, it seems that for these group of customers, there was less need to spend from a **[Credit -Card]** simply because, they accepted a **[Personal_Loan]**. AllLife Bank should know that these group of people are potential customers. They have a higher possibility of accepting the **[Personal_Loan]** offer.\n",
    "\n",
    "In summary, the potential customers for AllLife Bank are:\n",
    "1. Customers with higher **[Family]** size.\n",
    "2. Customers with higher **[Education]** level.\n",
    "3. Customers with higher **[Family]** size.\n",
    "4. Customers with higher annual **[income (in thousand dollars)]** above 100.\n",
    "\n",
    "\n",
    "\n"
   ]
  }
 ],
 "metadata": {
  "kernelspec": {
   "display_name": "Python 3 (ipykernel)",
   "language": "python",
   "name": "python3"
  },
  "language_info": {
   "codemirror_mode": {
    "name": "ipython",
    "version": 3
   },
   "file_extension": ".py",
   "mimetype": "text/x-python",
   "name": "python",
   "nbconvert_exporter": "python",
   "pygments_lexer": "ipython3",
   "version": "3.8.11"
  }
 },
 "nbformat": 4,
 "nbformat_minor": 5
}
